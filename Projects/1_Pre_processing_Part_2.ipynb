{
  "cells": [
    {
      "cell_type": "markdown",
      "id": "6139556f",
      "metadata": {
        "deletable": false,
        "editable": false,
        "id": "6139556f"
      },
      "source": [
        "# Исследование надежности заемщиков\n"
      ]
    },
    {
      "cell_type": "markdown",
      "id": "cbf874ca",
      "metadata": {
        "deletable": false,
        "editable": false,
        "id": "cbf874ca"
      },
      "source": [
        "Во второй части проекта вы выполните шаги 3 и 4. Их вручную проверит ревьюер.\n",
        "Чтобы вам не пришлось писать код заново для шагов 1 и 2, мы добавили авторские решения в ячейки с кодом.\n",
        "\n"
      ]
    },
    {
      "cell_type": "markdown",
      "id": "fa76d931",
      "metadata": {
        "deletable": false,
        "editable": false,
        "id": "fa76d931"
      },
      "source": [
        "## Откройте таблицу и изучите общую информацию о данных"
      ]
    },
    {
      "cell_type": "markdown",
      "id": "4f12f5fb",
      "metadata": {
        "deletable": false,
        "editable": false,
        "id": "4f12f5fb"
      },
      "source": [
        "**Задание 1. Импортируйте библиотеку pandas. Считайте данные из csv-файла в датафрейм и сохраните в переменную `data`. Путь к файлу:**\n",
        "\n",
        "`/datasets/data.csv`"
      ]
    },
    {
      "cell_type": "code",
      "execution_count": null,
      "id": "ebe866d5",
      "metadata": {
        "deletable": false,
        "id": "ebe866d5"
      },
      "outputs": [],
      "source": [
        "import pandas as pd\n",
        "\n",
        "try:\n",
        "    data = pd.read_csv('/datasets/data.csv')\n",
        "except:\n",
        "    data = pd.read_csv('https://code.s3.yandex.net/datasets/data.csv')"
      ]
    },
    {
      "cell_type": "markdown",
      "id": "1995d6ff",
      "metadata": {
        "deletable": false,
        "editable": false,
        "id": "1995d6ff"
      },
      "source": [
        "**Задание 2. Выведите первые 20 строчек датафрейма `data` на экран.**"
      ]
    },
    {
      "cell_type": "code",
      "execution_count": null,
      "id": "9fbe5365",
      "metadata": {
        "deletable": false,
        "id": "9fbe5365",
        "outputId": "1a8f3ef2-d323-4ec2-ddf7-89670b5944c4"
      },
      "outputs": [
        {
          "data": {
            "text/html": [
              "<div>\n",
              "<style scoped>\n",
              "    .dataframe tbody tr th:only-of-type {\n",
              "        vertical-align: middle;\n",
              "    }\n",
              "\n",
              "    .dataframe tbody tr th {\n",
              "        vertical-align: top;\n",
              "    }\n",
              "\n",
              "    .dataframe thead th {\n",
              "        text-align: right;\n",
              "    }\n",
              "</style>\n",
              "<table border=\"1\" class=\"dataframe\">\n",
              "  <thead>\n",
              "    <tr style=\"text-align: right;\">\n",
              "      <th></th>\n",
              "      <th>children</th>\n",
              "      <th>days_employed</th>\n",
              "      <th>dob_years</th>\n",
              "      <th>education</th>\n",
              "      <th>education_id</th>\n",
              "      <th>family_status</th>\n",
              "      <th>family_status_id</th>\n",
              "      <th>gender</th>\n",
              "      <th>income_type</th>\n",
              "      <th>debt</th>\n",
              "      <th>total_income</th>\n",
              "      <th>purpose</th>\n",
              "    </tr>\n",
              "  </thead>\n",
              "  <tbody>\n",
              "    <tr>\n",
              "      <th>16370</th>\n",
              "      <td>0</td>\n",
              "      <td>-948.341928</td>\n",
              "      <td>37</td>\n",
              "      <td>высшее</td>\n",
              "      <td>0</td>\n",
              "      <td>Не женат / не замужем</td>\n",
              "      <td>4</td>\n",
              "      <td>F</td>\n",
              "      <td>госслужащий</td>\n",
              "      <td>0</td>\n",
              "      <td>104504.273382</td>\n",
              "      <td>свой автомобиль</td>\n",
              "    </tr>\n",
              "    <tr>\n",
              "      <th>7966</th>\n",
              "      <td>0</td>\n",
              "      <td>-841.006557</td>\n",
              "      <td>33</td>\n",
              "      <td>высшее</td>\n",
              "      <td>0</td>\n",
              "      <td>гражданский брак</td>\n",
              "      <td>1</td>\n",
              "      <td>M</td>\n",
              "      <td>компаньон</td>\n",
              "      <td>0</td>\n",
              "      <td>207181.286322</td>\n",
              "      <td>свадьба</td>\n",
              "    </tr>\n",
              "    <tr>\n",
              "      <th>20485</th>\n",
              "      <td>0</td>\n",
              "      <td>-705.937433</td>\n",
              "      <td>52</td>\n",
              "      <td>среднее</td>\n",
              "      <td>1</td>\n",
              "      <td>женат / замужем</td>\n",
              "      <td>0</td>\n",
              "      <td>M</td>\n",
              "      <td>сотрудник</td>\n",
              "      <td>0</td>\n",
              "      <td>277343.704798</td>\n",
              "      <td>на покупку автомобиля</td>\n",
              "    </tr>\n",
              "    <tr>\n",
              "      <th>3833</th>\n",
              "      <td>1</td>\n",
              "      <td>NaN</td>\n",
              "      <td>31</td>\n",
              "      <td>среднее</td>\n",
              "      <td>1</td>\n",
              "      <td>женат / замужем</td>\n",
              "      <td>0</td>\n",
              "      <td>F</td>\n",
              "      <td>сотрудник</td>\n",
              "      <td>0</td>\n",
              "      <td>NaN</td>\n",
              "      <td>недвижимость</td>\n",
              "    </tr>\n",
              "    <tr>\n",
              "      <th>3455</th>\n",
              "      <td>0</td>\n",
              "      <td>-466.074965</td>\n",
              "      <td>52</td>\n",
              "      <td>среднее</td>\n",
              "      <td>1</td>\n",
              "      <td>женат / замужем</td>\n",
              "      <td>0</td>\n",
              "      <td>F</td>\n",
              "      <td>сотрудник</td>\n",
              "      <td>0</td>\n",
              "      <td>86101.897231</td>\n",
              "      <td>операции с жильем</td>\n",
              "    </tr>\n",
              "    <tr>\n",
              "      <th>6076</th>\n",
              "      <td>1</td>\n",
              "      <td>-1468.611965</td>\n",
              "      <td>36</td>\n",
              "      <td>начальное</td>\n",
              "      <td>3</td>\n",
              "      <td>женат / замужем</td>\n",
              "      <td>0</td>\n",
              "      <td>F</td>\n",
              "      <td>сотрудник</td>\n",
              "      <td>0</td>\n",
              "      <td>73381.744207</td>\n",
              "      <td>операции с коммерческой недвижимостью</td>\n",
              "    </tr>\n",
              "    <tr>\n",
              "      <th>17131</th>\n",
              "      <td>0</td>\n",
              "      <td>-2582.927268</td>\n",
              "      <td>38</td>\n",
              "      <td>среднее</td>\n",
              "      <td>1</td>\n",
              "      <td>Не женат / не замужем</td>\n",
              "      <td>4</td>\n",
              "      <td>F</td>\n",
              "      <td>компаньон</td>\n",
              "      <td>0</td>\n",
              "      <td>191465.974993</td>\n",
              "      <td>на покупку автомобиля</td>\n",
              "    </tr>\n",
              "    <tr>\n",
              "      <th>1947</th>\n",
              "      <td>2</td>\n",
              "      <td>-2019.714859</td>\n",
              "      <td>30</td>\n",
              "      <td>СРЕДНЕЕ</td>\n",
              "      <td>1</td>\n",
              "      <td>гражданский брак</td>\n",
              "      <td>1</td>\n",
              "      <td>F</td>\n",
              "      <td>госслужащий</td>\n",
              "      <td>0</td>\n",
              "      <td>83427.181296</td>\n",
              "      <td>на проведение свадьбы</td>\n",
              "    </tr>\n",
              "    <tr>\n",
              "      <th>1982</th>\n",
              "      <td>0</td>\n",
              "      <td>-2562.143493</td>\n",
              "      <td>45</td>\n",
              "      <td>среднее</td>\n",
              "      <td>1</td>\n",
              "      <td>женат / замужем</td>\n",
              "      <td>0</td>\n",
              "      <td>F</td>\n",
              "      <td>сотрудник</td>\n",
              "      <td>0</td>\n",
              "      <td>120664.574976</td>\n",
              "      <td>заняться высшим образованием</td>\n",
              "    </tr>\n",
              "    <tr>\n",
              "      <th>11253</th>\n",
              "      <td>0</td>\n",
              "      <td>-664.588470</td>\n",
              "      <td>31</td>\n",
              "      <td>Среднее</td>\n",
              "      <td>1</td>\n",
              "      <td>женат / замужем</td>\n",
              "      <td>0</td>\n",
              "      <td>F</td>\n",
              "      <td>сотрудник</td>\n",
              "      <td>0</td>\n",
              "      <td>113625.610174</td>\n",
              "      <td>заняться высшим образованием</td>\n",
              "    </tr>\n",
              "    <tr>\n",
              "      <th>6223</th>\n",
              "      <td>1</td>\n",
              "      <td>-429.580798</td>\n",
              "      <td>42</td>\n",
              "      <td>неоконченное высшее</td>\n",
              "      <td>2</td>\n",
              "      <td>гражданский брак</td>\n",
              "      <td>1</td>\n",
              "      <td>F</td>\n",
              "      <td>сотрудник</td>\n",
              "      <td>0</td>\n",
              "      <td>241921.136879</td>\n",
              "      <td>получение дополнительного образования</td>\n",
              "    </tr>\n",
              "    <tr>\n",
              "      <th>19397</th>\n",
              "      <td>0</td>\n",
              "      <td>-1315.011096</td>\n",
              "      <td>57</td>\n",
              "      <td>среднее</td>\n",
              "      <td>1</td>\n",
              "      <td>женат / замужем</td>\n",
              "      <td>0</td>\n",
              "      <td>F</td>\n",
              "      <td>сотрудник</td>\n",
              "      <td>0</td>\n",
              "      <td>242288.044485</td>\n",
              "      <td>операции с жильем</td>\n",
              "    </tr>\n",
              "    <tr>\n",
              "      <th>6645</th>\n",
              "      <td>0</td>\n",
              "      <td>-961.485327</td>\n",
              "      <td>29</td>\n",
              "      <td>неоконченное высшее</td>\n",
              "      <td>2</td>\n",
              "      <td>женат / замужем</td>\n",
              "      <td>0</td>\n",
              "      <td>M</td>\n",
              "      <td>сотрудник</td>\n",
              "      <td>1</td>\n",
              "      <td>822426.017324</td>\n",
              "      <td>получение образования</td>\n",
              "    </tr>\n",
              "    <tr>\n",
              "      <th>7885</th>\n",
              "      <td>2</td>\n",
              "      <td>-715.013873</td>\n",
              "      <td>35</td>\n",
              "      <td>среднее</td>\n",
              "      <td>1</td>\n",
              "      <td>гражданский брак</td>\n",
              "      <td>1</td>\n",
              "      <td>F</td>\n",
              "      <td>сотрудник</td>\n",
              "      <td>0</td>\n",
              "      <td>119869.209618</td>\n",
              "      <td>на покупку своего автомобиля</td>\n",
              "    </tr>\n",
              "    <tr>\n",
              "      <th>9253</th>\n",
              "      <td>1</td>\n",
              "      <td>NaN</td>\n",
              "      <td>52</td>\n",
              "      <td>высшее</td>\n",
              "      <td>0</td>\n",
              "      <td>женат / замужем</td>\n",
              "      <td>0</td>\n",
              "      <td>F</td>\n",
              "      <td>сотрудник</td>\n",
              "      <td>0</td>\n",
              "      <td>NaN</td>\n",
              "      <td>операции с недвижимостью</td>\n",
              "    </tr>\n",
              "    <tr>\n",
              "      <th>21491</th>\n",
              "      <td>20</td>\n",
              "      <td>-173.954460</td>\n",
              "      <td>27</td>\n",
              "      <td>среднее</td>\n",
              "      <td>1</td>\n",
              "      <td>женат / замужем</td>\n",
              "      <td>0</td>\n",
              "      <td>F</td>\n",
              "      <td>сотрудник</td>\n",
              "      <td>0</td>\n",
              "      <td>155520.899688</td>\n",
              "      <td>на покупку подержанного автомобиля</td>\n",
              "    </tr>\n",
              "    <tr>\n",
              "      <th>1686</th>\n",
              "      <td>0</td>\n",
              "      <td>-3334.259327</td>\n",
              "      <td>66</td>\n",
              "      <td>среднее</td>\n",
              "      <td>1</td>\n",
              "      <td>вдовец / вдова</td>\n",
              "      <td>2</td>\n",
              "      <td>F</td>\n",
              "      <td>компаньон</td>\n",
              "      <td>0</td>\n",
              "      <td>109071.120107</td>\n",
              "      <td>строительство недвижимости</td>\n",
              "    </tr>\n",
              "    <tr>\n",
              "      <th>3809</th>\n",
              "      <td>0</td>\n",
              "      <td>NaN</td>\n",
              "      <td>66</td>\n",
              "      <td>среднее</td>\n",
              "      <td>1</td>\n",
              "      <td>женат / замужем</td>\n",
              "      <td>0</td>\n",
              "      <td>F</td>\n",
              "      <td>пенсионер</td>\n",
              "      <td>1</td>\n",
              "      <td>NaN</td>\n",
              "      <td>операции со своей недвижимостью</td>\n",
              "    </tr>\n",
              "    <tr>\n",
              "      <th>4662</th>\n",
              "      <td>2</td>\n",
              "      <td>-3993.792604</td>\n",
              "      <td>33</td>\n",
              "      <td>среднее</td>\n",
              "      <td>1</td>\n",
              "      <td>женат / замужем</td>\n",
              "      <td>0</td>\n",
              "      <td>M</td>\n",
              "      <td>сотрудник</td>\n",
              "      <td>0</td>\n",
              "      <td>340836.175481</td>\n",
              "      <td>недвижимость</td>\n",
              "    </tr>\n",
              "    <tr>\n",
              "      <th>20663</th>\n",
              "      <td>0</td>\n",
              "      <td>-1305.382866</td>\n",
              "      <td>42</td>\n",
              "      <td>высшее</td>\n",
              "      <td>0</td>\n",
              "      <td>женат / замужем</td>\n",
              "      <td>0</td>\n",
              "      <td>M</td>\n",
              "      <td>сотрудник</td>\n",
              "      <td>0</td>\n",
              "      <td>647456.451083</td>\n",
              "      <td>операции с коммерческой недвижимостью</td>\n",
              "    </tr>\n",
              "  </tbody>\n",
              "</table>\n",
              "</div>"
            ],
            "text/plain": [
              "       children  days_employed  dob_years            education  education_id  \\\n",
              "16370         0    -948.341928         37               высшее             0   \n",
              "7966          0    -841.006557         33               высшее             0   \n",
              "20485         0    -705.937433         52              среднее             1   \n",
              "3833          1            NaN         31              среднее             1   \n",
              "3455          0    -466.074965         52              среднее             1   \n",
              "6076          1   -1468.611965         36            начальное             3   \n",
              "17131         0   -2582.927268         38              среднее             1   \n",
              "1947          2   -2019.714859         30              СРЕДНЕЕ             1   \n",
              "1982          0   -2562.143493         45              среднее             1   \n",
              "11253         0    -664.588470         31              Среднее             1   \n",
              "6223          1    -429.580798         42  неоконченное высшее             2   \n",
              "19397         0   -1315.011096         57              среднее             1   \n",
              "6645          0    -961.485327         29  неоконченное высшее             2   \n",
              "7885          2    -715.013873         35              среднее             1   \n",
              "9253          1            NaN         52               высшее             0   \n",
              "21491        20    -173.954460         27              среднее             1   \n",
              "1686          0   -3334.259327         66              среднее             1   \n",
              "3809          0            NaN         66              среднее             1   \n",
              "4662          2   -3993.792604         33              среднее             1   \n",
              "20663         0   -1305.382866         42               высшее             0   \n",
              "\n",
              "               family_status  family_status_id gender  income_type  debt  \\\n",
              "16370  Не женат / не замужем                 4      F  госслужащий     0   \n",
              "7966        гражданский брак                 1      M    компаньон     0   \n",
              "20485        женат / замужем                 0      M    сотрудник     0   \n",
              "3833         женат / замужем                 0      F    сотрудник     0   \n",
              "3455         женат / замужем                 0      F    сотрудник     0   \n",
              "6076         женат / замужем                 0      F    сотрудник     0   \n",
              "17131  Не женат / не замужем                 4      F    компаньон     0   \n",
              "1947        гражданский брак                 1      F  госслужащий     0   \n",
              "1982         женат / замужем                 0      F    сотрудник     0   \n",
              "11253        женат / замужем                 0      F    сотрудник     0   \n",
              "6223        гражданский брак                 1      F    сотрудник     0   \n",
              "19397        женат / замужем                 0      F    сотрудник     0   \n",
              "6645         женат / замужем                 0      M    сотрудник     1   \n",
              "7885        гражданский брак                 1      F    сотрудник     0   \n",
              "9253         женат / замужем                 0      F    сотрудник     0   \n",
              "21491        женат / замужем                 0      F    сотрудник     0   \n",
              "1686          вдовец / вдова                 2      F    компаньон     0   \n",
              "3809         женат / замужем                 0      F    пенсионер     1   \n",
              "4662         женат / замужем                 0      M    сотрудник     0   \n",
              "20663        женат / замужем                 0      M    сотрудник     0   \n",
              "\n",
              "        total_income                                purpose  \n",
              "16370  104504.273382                        свой автомобиль  \n",
              "7966   207181.286322                                свадьба  \n",
              "20485  277343.704798                  на покупку автомобиля  \n",
              "3833             NaN                           недвижимость  \n",
              "3455    86101.897231                      операции с жильем  \n",
              "6076    73381.744207  операции с коммерческой недвижимостью  \n",
              "17131  191465.974993                  на покупку автомобиля  \n",
              "1947    83427.181296                  на проведение свадьбы  \n",
              "1982   120664.574976           заняться высшим образованием  \n",
              "11253  113625.610174           заняться высшим образованием  \n",
              "6223   241921.136879  получение дополнительного образования  \n",
              "19397  242288.044485                      операции с жильем  \n",
              "6645   822426.017324                  получение образования  \n",
              "7885   119869.209618           на покупку своего автомобиля  \n",
              "9253             NaN               операции с недвижимостью  \n",
              "21491  155520.899688     на покупку подержанного автомобиля  \n",
              "1686   109071.120107             строительство недвижимости  \n",
              "3809             NaN        операции со своей недвижимостью  \n",
              "4662   340836.175481                           недвижимость  \n",
              "20663  647456.451083  операции с коммерческой недвижимостью  "
            ]
          },
          "execution_count": 182,
          "metadata": {},
          "output_type": "execute_result"
        }
      ],
      "source": [
        "data.sample(20)"
      ]
    },
    {
      "cell_type": "markdown",
      "id": "dd258542",
      "metadata": {
        "deletable": false,
        "editable": false,
        "id": "dd258542"
      },
      "source": [
        "**Задание 3. Выведите основную информацию о датафрейме с помощью метода `info()`.**"
      ]
    },
    {
      "cell_type": "code",
      "execution_count": null,
      "id": "86f447a6",
      "metadata": {
        "deletable": false,
        "id": "86f447a6",
        "outputId": "15376089-8dad-46c9-b520-c05248d43158"
      },
      "outputs": [
        {
          "name": "stdout",
          "output_type": "stream",
          "text": [
            "<class 'pandas.core.frame.DataFrame'>\n",
            "RangeIndex: 21525 entries, 0 to 21524\n",
            "Data columns (total 12 columns):\n",
            " #   Column            Non-Null Count  Dtype  \n",
            "---  ------            --------------  -----  \n",
            " 0   children          21525 non-null  int64  \n",
            " 1   days_employed     19351 non-null  float64\n",
            " 2   dob_years         21525 non-null  int64  \n",
            " 3   education         21525 non-null  object \n",
            " 4   education_id      21525 non-null  int64  \n",
            " 5   family_status     21525 non-null  object \n",
            " 6   family_status_id  21525 non-null  int64  \n",
            " 7   gender            21525 non-null  object \n",
            " 8   income_type       21525 non-null  object \n",
            " 9   debt              21525 non-null  int64  \n",
            " 10  total_income      19351 non-null  float64\n",
            " 11  purpose           21525 non-null  object \n",
            "dtypes: float64(2), int64(5), object(5)\n",
            "memory usage: 2.0+ MB\n"
          ]
        }
      ],
      "source": [
        "data.info()"
      ]
    },
    {
      "cell_type": "markdown",
      "id": "ba2e4647",
      "metadata": {
        "deletable": false,
        "editable": false,
        "id": "ba2e4647"
      },
      "source": [
        "## Предобработка данных"
      ]
    },
    {
      "cell_type": "markdown",
      "id": "fd7df6ba",
      "metadata": {
        "deletable": false,
        "editable": false,
        "id": "fd7df6ba"
      },
      "source": [
        "### Удаление пропусков"
      ]
    },
    {
      "cell_type": "markdown",
      "id": "6a4a8719",
      "metadata": {
        "deletable": false,
        "editable": false,
        "id": "6a4a8719"
      },
      "source": [
        "**Задание 4. Выведите количество пропущенных значений для каждого столбца. Используйте комбинацию двух методов.**"
      ]
    },
    {
      "cell_type": "code",
      "execution_count": null,
      "id": "ddca690f",
      "metadata": {
        "deletable": false,
        "id": "ddca690f",
        "outputId": "81f4d817-781c-465c-ed15-91ce4446810d"
      },
      "outputs": [
        {
          "data": {
            "text/plain": [
              "children               0\n",
              "days_employed       2174\n",
              "dob_years              0\n",
              "education              0\n",
              "education_id           0\n",
              "family_status          0\n",
              "family_status_id       0\n",
              "gender                 0\n",
              "income_type            0\n",
              "debt                   0\n",
              "total_income        2174\n",
              "purpose                0\n",
              "dtype: int64"
            ]
          },
          "execution_count": 184,
          "metadata": {},
          "output_type": "execute_result"
        }
      ],
      "source": [
        "data.isna().sum()"
      ]
    },
    {
      "cell_type": "markdown",
      "id": "9420817d",
      "metadata": {
        "deletable": false,
        "editable": false,
        "id": "9420817d"
      },
      "source": [
        "**Задание 5. В двух столбцах есть пропущенные значения. Один из них — `days_employed`. Пропуски в этом столбце вы обработаете на следующем этапе. Другой столбец с пропущенными значениями — `total_income` — хранит данные о доходах. На сумму дохода сильнее всего влияет тип занятости, поэтому заполнить пропуски в этом столбце нужно медианным значением по каждому типу из столбца `income_type`. Например, у человека с типом занятости `сотрудник` пропуск в столбце `total_income` должен быть заполнен медианным доходом среди всех записей с тем же типом.**"
      ]
    },
    {
      "cell_type": "code",
      "execution_count": null,
      "id": "f4a85090",
      "metadata": {
        "deletable": false,
        "id": "f4a85090"
      },
      "outputs": [],
      "source": [
        "for t in data['income_type'].unique():\n",
        "    data.loc[(data['income_type'] == t) & (data['total_income'].isna()), 'total_income'] = \\\n",
        "    data.loc[(data['income_type'] == t), 'total_income'].median()"
      ]
    },
    {
      "cell_type": "markdown",
      "id": "507c1490",
      "metadata": {
        "deletable": false,
        "editable": false,
        "id": "507c1490"
      },
      "source": [
        "### Обработка аномальных значений"
      ]
    },
    {
      "cell_type": "markdown",
      "id": "db099437",
      "metadata": {
        "deletable": false,
        "editable": false,
        "id": "db099437"
      },
      "source": [
        "**Задание 6. В данных могут встречаться артефакты (аномалии) — значения, которые не отражают действительность и появились по какой-то ошибке. таким артефактом будет отрицательное количество дней трудового стажа в столбце `days_employed`. Для реальных данных это нормально. Обработайте значения в этом столбце: замените все отрицательные значения положительными с помощью метода `abs()`.**"
      ]
    },
    {
      "cell_type": "code",
      "execution_count": null,
      "id": "f29daa2e",
      "metadata": {
        "deletable": false,
        "id": "f29daa2e"
      },
      "outputs": [],
      "source": [
        "data['days_employed'] = data['days_employed'].abs()"
      ]
    },
    {
      "cell_type": "markdown",
      "id": "09acdea1",
      "metadata": {
        "deletable": false,
        "editable": false,
        "id": "09acdea1"
      },
      "source": [
        "**Задание 7. Для каждого типа занятости выведите медианное значение трудового стажа `days_employed` в днях.**"
      ]
    },
    {
      "cell_type": "code",
      "execution_count": null,
      "id": "513ae8bb",
      "metadata": {
        "deletable": false,
        "id": "513ae8bb",
        "outputId": "801ef80e-522b-4668-f34e-565af7432bcf"
      },
      "outputs": [
        {
          "data": {
            "text/plain": [
              "income_type\n",
              "безработный        366413.652744\n",
              "в декрете            3296.759962\n",
              "госслужащий          2689.368353\n",
              "компаньон            1547.382223\n",
              "пенсионер          365213.306266\n",
              "предприниматель       520.848083\n",
              "сотрудник            1574.202821\n",
              "студент               578.751554\n",
              "Name: days_employed, dtype: float64"
            ]
          },
          "execution_count": 187,
          "metadata": {},
          "output_type": "execute_result"
        }
      ],
      "source": [
        "data.groupby('income_type')['days_employed'].agg('median')"
      ]
    },
    {
      "cell_type": "markdown",
      "id": "db5da8ff",
      "metadata": {
        "deletable": false,
        "editable": false,
        "id": "db5da8ff"
      },
      "source": [
        "У двух типов (безработные и пенсионеры) получатся аномально большие значения. Исправить такие значения сложно, поэтому оставьте их как есть. Тем более этот столбец не понадобится вам для исследования."
      ]
    },
    {
      "cell_type": "markdown",
      "id": "0b1da179",
      "metadata": {
        "deletable": false,
        "editable": false,
        "id": "0b1da179"
      },
      "source": [
        "**Задание 8. Выведите перечень уникальных значений столбца `children`.**"
      ]
    },
    {
      "cell_type": "code",
      "execution_count": null,
      "id": "d38dbfda",
      "metadata": {
        "deletable": false,
        "id": "d38dbfda",
        "outputId": "6975b15c-7f95-4697-d16d-a0c79b657b03"
      },
      "outputs": [
        {
          "data": {
            "text/plain": [
              "array([ 1,  0,  3,  2, -1,  4, 20,  5])"
            ]
          },
          "execution_count": 188,
          "metadata": {},
          "output_type": "execute_result"
        }
      ],
      "source": [
        "data['children'].unique()"
      ]
    },
    {
      "cell_type": "markdown",
      "id": "65638472",
      "metadata": {
        "deletable": false,
        "editable": false,
        "id": "65638472"
      },
      "source": [
        "**Задание 9. В столбце `children` есть два аномальных значения. Удалите строки, в которых встречаются такие аномальные значения из датафрейма `data`.**"
      ]
    },
    {
      "cell_type": "code",
      "execution_count": null,
      "id": "2296637c",
      "metadata": {
        "deletable": false,
        "id": "2296637c"
      },
      "outputs": [],
      "source": [
        "data = data[(data['children'] != -1) & (data['children'] != 20)]"
      ]
    },
    {
      "cell_type": "markdown",
      "id": "fd52a44a",
      "metadata": {
        "deletable": false,
        "editable": false,
        "id": "fd52a44a"
      },
      "source": [
        "**Задание 10. Ещё раз выведите перечень уникальных значений столбца `children`, чтобы убедиться, что артефакты удалены.**"
      ]
    },
    {
      "cell_type": "code",
      "execution_count": null,
      "id": "a7ccf70b",
      "metadata": {
        "deletable": false,
        "id": "a7ccf70b",
        "outputId": "b2097101-d49d-44d9-901b-32a65c9463d1"
      },
      "outputs": [
        {
          "data": {
            "text/plain": [
              "array([1, 0, 3, 2, 4, 5])"
            ]
          },
          "execution_count": 190,
          "metadata": {},
          "output_type": "execute_result"
        }
      ],
      "source": [
        "data['children'].unique()"
      ]
    },
    {
      "cell_type": "markdown",
      "id": "a81c8203",
      "metadata": {
        "deletable": false,
        "editable": false,
        "id": "a81c8203"
      },
      "source": [
        "### Удаление пропусков (продолжение)"
      ]
    },
    {
      "cell_type": "markdown",
      "id": "d950d11d",
      "metadata": {
        "deletable": false,
        "editable": false,
        "id": "d950d11d"
      },
      "source": [
        "**Задание 11. Заполните пропуски в столбце `days_employed` медианными значениями по каждого типа занятости `income_type`.**"
      ]
    },
    {
      "cell_type": "code",
      "execution_count": null,
      "id": "c1ea93fd",
      "metadata": {
        "deletable": false,
        "id": "c1ea93fd"
      },
      "outputs": [],
      "source": [
        "for t in data['income_type'].unique():\n",
        "    data.loc[(data['income_type'] == t) & (data['days_employed'].isna()), 'days_employed'] = \\\n",
        "    data.loc[(data['income_type'] == t), 'days_employed'].median()"
      ]
    },
    {
      "cell_type": "markdown",
      "id": "d7f46fdb",
      "metadata": {
        "deletable": false,
        "editable": false,
        "id": "d7f46fdb"
      },
      "source": [
        "**Задание 12. Убедитесь, что все пропуски заполнены. Проверьте себя и ещё раз выведите количество пропущенных значений для каждого столбца с помощью двух методов.**"
      ]
    },
    {
      "cell_type": "code",
      "execution_count": null,
      "id": "6d80c0bb",
      "metadata": {
        "deletable": false,
        "id": "6d80c0bb",
        "outputId": "8da1e4e1-358e-4e87-98c9-f261bce0a7b2"
      },
      "outputs": [
        {
          "data": {
            "text/plain": [
              "children            0\n",
              "days_employed       0\n",
              "dob_years           0\n",
              "education           0\n",
              "education_id        0\n",
              "family_status       0\n",
              "family_status_id    0\n",
              "gender              0\n",
              "income_type         0\n",
              "debt                0\n",
              "total_income        0\n",
              "purpose             0\n",
              "dtype: int64"
            ]
          },
          "execution_count": 192,
          "metadata": {},
          "output_type": "execute_result"
        }
      ],
      "source": [
        "data.isna().sum()"
      ]
    },
    {
      "cell_type": "markdown",
      "id": "ee98442d",
      "metadata": {
        "deletable": false,
        "editable": false,
        "id": "ee98442d"
      },
      "source": [
        "### Изменение типов данных"
      ]
    },
    {
      "cell_type": "markdown",
      "id": "e7f40f52",
      "metadata": {
        "deletable": false,
        "editable": false,
        "id": "e7f40f52"
      },
      "source": [
        "**Задание 13. Замените вещественный тип данных в столбце `total_income` на целочисленный с помощью метода `astype()`.**"
      ]
    },
    {
      "cell_type": "code",
      "execution_count": null,
      "id": "4da5027f",
      "metadata": {
        "deletable": false,
        "id": "4da5027f"
      },
      "outputs": [],
      "source": [
        "data['total_income'] = data['total_income'].astype(int)"
      ]
    },
    {
      "cell_type": "markdown",
      "id": "23253fc3",
      "metadata": {
        "deletable": false,
        "editable": false,
        "id": "23253fc3"
      },
      "source": [
        "### Обработка дубликатов"
      ]
    },
    {
      "cell_type": "markdown",
      "id": "ae1b6c35",
      "metadata": {
        "deletable": false,
        "editable": false,
        "id": "ae1b6c35"
      },
      "source": [
        "**Задание 14. Обработайте неявные дубликаты в столбце `education`. В этом столбце есть одни и те же значения, но записанные по-разному: с использованием заглавных и строчных букв. Приведите их к нижнему регистру. Проверьте остальные столбцы.**"
      ]
    },
    {
      "cell_type": "code",
      "execution_count": null,
      "id": "0f8b6420",
      "metadata": {
        "deletable": false,
        "id": "0f8b6420"
      },
      "outputs": [],
      "source": [
        "data['education'] = data['education'].str.lower()"
      ]
    },
    {
      "cell_type": "markdown",
      "id": "644fb39d",
      "metadata": {
        "deletable": false,
        "editable": false,
        "id": "644fb39d"
      },
      "source": [
        "**Задание 15. Выведите на экран количество строк-дубликатов в данных. Если такие строки присутствуют, удалите их.**"
      ]
    },
    {
      "cell_type": "code",
      "execution_count": null,
      "id": "fdb779e3",
      "metadata": {
        "deletable": false,
        "id": "fdb779e3",
        "outputId": "9684deba-1934-42d1-99e1-cda61740f822"
      },
      "outputs": [
        {
          "data": {
            "text/plain": [
              "71"
            ]
          },
          "execution_count": 195,
          "metadata": {},
          "output_type": "execute_result"
        }
      ],
      "source": [
        "data.duplicated().sum()"
      ]
    },
    {
      "cell_type": "code",
      "execution_count": null,
      "id": "379eb988",
      "metadata": {
        "deletable": false,
        "id": "379eb988"
      },
      "outputs": [],
      "source": [
        "data = data.drop_duplicates()"
      ]
    },
    {
      "cell_type": "markdown",
      "id": "825f2060",
      "metadata": {
        "deletable": false,
        "editable": false,
        "id": "825f2060"
      },
      "source": [
        "### Категоризация данных"
      ]
    },
    {
      "cell_type": "markdown",
      "id": "74993242",
      "metadata": {
        "deletable": false,
        "editable": false,
        "id": "74993242"
      },
      "source": [
        "**Задание 16. На основании диапазонов, указанных ниже, создайте в датафрейме `data` столбец `total_income_category` с категориями:**\n",
        "\n",
        "- 0–30000 — `'E'`;\n",
        "- 30001–50000 — `'D'`;\n",
        "- 50001–200000 — `'C'`;\n",
        "- 200001–1000000 — `'B'`;\n",
        "- 1000001 и выше — `'A'`.\n",
        "\n",
        "\n",
        "**Например, кредитополучателю с доходом 25000 нужно назначить категорию `'E'`, а клиенту, получающему 235000, — `'B'`. Используйте собственную функцию с именем `categorize_income()` и метод `apply()`.**"
      ]
    },
    {
      "cell_type": "code",
      "execution_count": null,
      "id": "c2c4796a",
      "metadata": {
        "deletable": false,
        "id": "c2c4796a"
      },
      "outputs": [],
      "source": [
        "def categorize_income(income):\n",
        "    try:\n",
        "        if 0 <= income <= 30000:\n",
        "            return 'E'\n",
        "        elif 30001 <= income <= 50000:\n",
        "            return 'D'\n",
        "        elif 50001 <= income <= 200000:\n",
        "            return 'C'\n",
        "        elif 200001 <= income <= 1000000:\n",
        "            return 'B'\n",
        "        elif income >= 1000001:\n",
        "            return 'A'\n",
        "    except:\n",
        "        pass"
      ]
    },
    {
      "cell_type": "code",
      "execution_count": null,
      "id": "d039100d",
      "metadata": {
        "deletable": false,
        "id": "d039100d"
      },
      "outputs": [],
      "source": [
        "data['total_income_category'] = data['total_income'].apply(categorize_income)"
      ]
    },
    {
      "cell_type": "markdown",
      "id": "603399de",
      "metadata": {
        "deletable": false,
        "editable": false,
        "id": "603399de"
      },
      "source": [
        "**Задание 17. Выведите на экран перечень уникальных целей взятия кредита из столбца `purpose`.**"
      ]
    },
    {
      "cell_type": "code",
      "execution_count": null,
      "id": "b7670148",
      "metadata": {
        "deletable": false,
        "id": "b7670148",
        "outputId": "673c12d9-7d7e-4ae0-9812-c622c89dd244"
      },
      "outputs": [
        {
          "data": {
            "text/plain": [
              "array(['покупка жилья', 'приобретение автомобиля',\n",
              "       'дополнительное образование', 'сыграть свадьбу',\n",
              "       'операции с жильем', 'образование', 'на проведение свадьбы',\n",
              "       'покупка жилья для семьи', 'покупка недвижимости',\n",
              "       'покупка коммерческой недвижимости', 'покупка жилой недвижимости',\n",
              "       'строительство собственной недвижимости', 'недвижимость',\n",
              "       'строительство недвижимости', 'на покупку подержанного автомобиля',\n",
              "       'на покупку своего автомобиля',\n",
              "       'операции с коммерческой недвижимостью',\n",
              "       'строительство жилой недвижимости', 'жилье',\n",
              "       'операции со своей недвижимостью', 'автомобили',\n",
              "       'заняться образованием', 'сделка с подержанным автомобилем',\n",
              "       'получение образования', 'автомобиль', 'свадьба',\n",
              "       'получение дополнительного образования', 'покупка своего жилья',\n",
              "       'операции с недвижимостью', 'получение высшего образования',\n",
              "       'свой автомобиль', 'сделка с автомобилем',\n",
              "       'профильное образование', 'высшее образование',\n",
              "       'покупка жилья для сдачи', 'на покупку автомобиля', 'ремонт жилью',\n",
              "       'заняться высшим образованием'], dtype=object)"
            ]
          },
          "execution_count": 199,
          "metadata": {},
          "output_type": "execute_result"
        }
      ],
      "source": [
        "data['purpose'].unique()"
      ]
    },
    {
      "cell_type": "markdown",
      "id": "28efacc1",
      "metadata": {
        "deletable": false,
        "editable": false,
        "id": "28efacc1"
      },
      "source": [
        "**Задание 18. Создайте функцию, которая на основании данных из столбца `purpose` сформирует новый столбец `purpose_category`, в который войдут следующие категории:**\n",
        "\n",
        "- `'операции с автомобилем'`,\n",
        "- `'операции с недвижимостью'`,\n",
        "- `'проведение свадьбы'`,\n",
        "- `'получение образования'`.\n",
        "\n",
        "**Например, если в столбце `purpose` находится подстрока `'на покупку автомобиля'`, то в столбце `purpose_category` должна появиться строка `'операции с автомобилем'`.**\n",
        "\n",
        "**Используйте собственную функцию с именем `categorize_purpose()` и метод `apply()`. Изучите данные в столбце `purpose` и определите, какие подстроки помогут вам правильно определить категорию.**"
      ]
    },
    {
      "cell_type": "code",
      "execution_count": null,
      "id": "e4fa83c2",
      "metadata": {
        "deletable": false,
        "id": "e4fa83c2"
      },
      "outputs": [],
      "source": [
        "def categorize_purpose(row):\n",
        "    try:\n",
        "        if 'автом' in row:\n",
        "            return 'операции с автомобилем'\n",
        "        elif 'жил' in row or 'недвиж' in row:\n",
        "            return 'операции с недвижимостью'\n",
        "        elif 'свад' in row:\n",
        "            return 'проведение свадьбы'\n",
        "        elif 'образов' in row:\n",
        "            return 'получение образования'\n",
        "    except:\n",
        "        return 'нет категории'"
      ]
    },
    {
      "cell_type": "code",
      "execution_count": null,
      "id": "92c95ede",
      "metadata": {
        "deletable": false,
        "id": "92c95ede"
      },
      "outputs": [],
      "source": [
        "data['purpose_category'] = data['purpose'].apply(categorize_purpose)"
      ]
    },
    {
      "cell_type": "markdown",
      "id": "db02946d",
      "metadata": {
        "deletable": false,
        "editable": false,
        "id": "db02946d"
      },
      "source": [
        "### Шаг 3. Исследуйте данные и ответьте на вопросы"
      ]
    },
    {
      "cell_type": "markdown",
      "id": "4c5f420b",
      "metadata": {
        "deletable": false,
        "editable": false,
        "id": "4c5f420b"
      },
      "source": [
        "#### 3.1 Есть ли зависимость между количеством детей и возвратом кредита в срок?"
      ]
    },
    {
      "cell_type": "code",
      "execution_count": null,
      "id": "884090ec",
      "metadata": {
        "deletable": false,
        "id": "884090ec",
        "scrolled": true,
        "outputId": "1f7dfd8c-a0d8-43d4-90c0-9b8691d811d8"
      },
      "outputs": [
        {
          "data": {
            "text/plain": [
              "\"\\n# Округление значений debt_to_total_count_children\\ndata_grouped['debt_to_total_count_children'] = data_grouped['debt_to_total_count_children'].round(3)\\n\\nprint(data_grouped)\\n\""
            ]
          },
          "execution_count": 202,
          "metadata": {},
          "output_type": "execute_result"
        }
      ],
      "source": [
        "'''\n",
        "\n",
        "ВАРИАНТ 1:\n",
        "# группировка по количеству детей с отображением общего числа заемщиков с детьми для каждой группы, а также количества задолженностей по возврату кредитов\n",
        "data_grouped = data.groupby('children').agg({'debt': ['count', 'sum']})\n",
        "\n",
        "# расчет количества задолженностей от общего числа заемщиков для каждой группы\n",
        "data_grouped['debt_to_total_count_children'] = data_grouped['debt']['sum'] / data_grouped['debt']['count']\n",
        "\n",
        "'''\n",
        "'''\n",
        "Попытка анализа с добавлением общего числа заемщиков из категорий, а также ср. арифметическое и медианное значение...\n",
        "\n",
        "data_grouped['debt_from_total'] = data_grouped['debt']['sum'] / data_grouped['debt']['count'].sum()\n",
        "data_grouped['debt_from_total'] = data_grouped['debt']['sum'] / data_grouped['debt']['count'].sum() / 6\n",
        "data_grouped['debt_from_total_median'] = data_grouped['debt']['sum'] / data_grouped['debt']['count'].median()\n",
        "'''\n",
        "'''\n",
        "# Округление значений debt_to_total_count_children\n",
        "data_grouped['debt_to_total_count_children'] = data_grouped['debt_to_total_count_children'].round(3)\n",
        "\n",
        "print(data_grouped)\n",
        "'''"
      ]
    },
    {
      "cell_type": "markdown",
      "id": "506f8011",
      "metadata": {
        "id": "506f8011"
      },
      "source": [
        "<div class='alert alert-block alert-info'>\n",
        "Вариант 2:\n"
      ]
    },
    {
      "cell_type": "code",
      "execution_count": null,
      "id": "dcb7cef2",
      "metadata": {
        "id": "dcb7cef2",
        "outputId": "4dda4461-3f32-4378-e30c-31c167dfead9"
      },
      "outputs": [
        {
          "name": "stdout",
          "output_type": "stream",
          "text": [
            "           debt                 \n",
            "          count   sum <lambda_0>\n",
            "children                        \n",
            "0         14091  1063       7.5%\n",
            "1          4808   444       9.2%\n",
            "2          2052   194       9.5%\n",
            "3           330    27       8.2%\n",
            "4            41     4       9.8%\n",
            "5             9     0       0.0%\n"
          ]
        }
      ],
      "source": [
        "'''\n",
        "\n",
        "ВАРИАНТ 2\n",
        "\n",
        "'''\n",
        "\n",
        "data_grouped = data.groupby('children').agg({'debt': ['count', 'sum',  lambda x: f'{x.mean():.1%}']})\n",
        "\n",
        "print(data_grouped)"
      ]
    },
    {
      "cell_type": "code",
      "execution_count": null,
      "id": "20ea0a45",
      "metadata": {
        "id": "20ea0a45",
        "outputId": "c3562da3-e13a-41e5-ee33-c9b7f4aa1977"
      },
      "outputs": [
        {
          "data": {
            "text/plain": [
              "1191.0"
            ]
          },
          "execution_count": 204,
          "metadata": {},
          "output_type": "execute_result"
        }
      ],
      "source": [
        "data_grouped['debt']['count'].median()"
      ]
    },
    {
      "cell_type": "markdown",
      "id": "18266a2a",
      "metadata": {
        "deletable": false,
        "id": "18266a2a"
      },
      "source": [
        "**Вывод:**\n",
        "Зависимость между количеством детей и возвратом кредита в срок не ярко выражена, но, в целом,  количество заемщиков без детей, имеющих задолженности по выплате кредитов, несколько меньше, чем для заемщиков с детьми  ↓\n",
        "\n",
        "Задолженность по возврату кредитов имели 7,5% - 9,8% заемщиков с количеством детей от 0 до 4 (в целом, думается, разброс значений - небольшой).\n",
        "Мешьшая доля невозврата кредита в срок - в группе заемщиков, не имющих детей.\n",
        "Далее (по возрастанию) - у заемщиков с 3-мя детьми. (на 0.7 процентных пунктов больше, чем категория без детей)\n",
        "Следующая группа - заемщики с количеством детей 2,3 и 4. (на 1 процентный пункт больше, чем категория с 3 детьми)\n",
        "\n",
        "При этом при увеличении количества детей выборка сильно снижается (в случае с 5 детьми выборка совсем мала, и задолженность вообще отсутствует)"
      ]
    },
    {
      "cell_type": "markdown",
      "id": "c95dbe61",
      "metadata": {
        "deletable": false,
        "editable": false,
        "id": "c95dbe61"
      },
      "source": [
        "#### 3.2 Есть ли зависимость между семейным положением и возвратом кредита в срок?"
      ]
    },
    {
      "cell_type": "code",
      "execution_count": null,
      "id": "85190a29",
      "metadata": {
        "deletable": false,
        "id": "85190a29",
        "scrolled": false,
        "outputId": "40e981d4-f287-4f13-acb8-c53e57bcd1bb"
      },
      "outputs": [
        {
          "name": "stdout",
          "output_type": "stream",
          "text": [
            "                                         debt      debt_to_total_count_status\n",
            "                                        count  sum                           \n",
            "family_status         family_status_id                                       \n",
            "вдовец / вдова        2                   951   63                      0.066\n",
            "в разводе             3                  1189   84                      0.071\n",
            "женат / замужем       0                 12261  927                      0.076\n",
            "гражданский брак      1                  4134  385                      0.093\n",
            "Не женат / не замужем 4                  2796  273                      0.098\n"
          ]
        }
      ],
      "source": [
        "# группировка по семейному положению с отображением общего числа заемщиков для каждой групы, а также количества задолженностей по возврату кредитов\n",
        "data_grouped = data.groupby(['family_status', 'family_status_id']).agg({'debt': ['count', 'sum']})\n",
        "\n",
        "# расчет количества задолженностей от общего числа заемщиков для каждой группы\n",
        "data_grouped['debt_to_total_count_status'] = data_grouped['debt']['sum'] / data_grouped['debt']['count']\n",
        "\n",
        "# Округление значений debt_to_total_count_status\n",
        "data_grouped['debt_to_total_count_status'] = data_grouped['debt_to_total_count_status'].round(3)\n",
        "\n",
        "#сортировка итоговых значений по возрастанию и вывод на печать\n",
        "print(data_grouped.sort_values(by='debt_to_total_count_status'))\n"
      ]
    },
    {
      "cell_type": "markdown",
      "id": "ca8f1c57",
      "metadata": {
        "deletable": false,
        "id": "ca8f1c57"
      },
      "source": [
        "**Вывод:**\n",
        "Семейное положение слабо влияет на возврат кредита в срок. Можно отметить, что вдовцы/вдовы реже имеют задолженности по возврату кредитов ↓\n",
        "\n",
        "Разброс значений задолженности по возврату кредитов: 6,6 - 9,8%.\n",
        "Меньший (из выборки) процент невозврата кредита в срок наблюдается у вдов/вдовцов.\n",
        "Далее, по возрастанию, следует процент невозврата кредита в срок у групп 'в разводе', 'женат/замужем' (на 0.5-1.0 п.п. выше, чем у вдов/вдовцов).\n",
        "'Не женаты / не замужем' и 'гражданский брак': самый высокий (из выборки) процент не возврата кредита в срок (на 1.7-2.2 п.п. выше, чем у предыдущих групп)\n"
      ]
    },
    {
      "cell_type": "markdown",
      "id": "99afe2eb",
      "metadata": {
        "id": "99afe2eb"
      },
      "source": [
        "\n",
        "Семейное положение слабо влияет на возврат кредита в срок. Можно отметить, что вдовцы/вдовы реже имеют задолженности по возврату кредитов, а также, что заемщики, состоящие или состоявшие в браке более дисциплинированы в финансовом плане ↓\n",
        "\n",
        "Разброс значений задолженности по возврату кредитов: 6,6 - 9,8%.\n",
        "Меньший (из выборки) процент невозврата кредита в срок наблюдается у вдов/вдовцов.\n",
        "Далее, по возрастанию, следует процент невозврата кредита в срок у групп 'в разводе', 'женат/замужем' (на 0.5-1.0 п.п. выше, чем у вдов/вдовцов).\n",
        "'Не женаты / не замужем' и 'гражданский брак': самый высокий (из выборки) процент не возврата кредита в срок (на 1.7-2.2 п.п. выше, чем у предыдущих групп)\n",
        "    \n"
      ]
    },
    {
      "cell_type": "markdown",
      "id": "e8fc689e",
      "metadata": {
        "deletable": false,
        "editable": false,
        "id": "e8fc689e"
      },
      "source": [
        "#### 3.3 Есть ли зависимость между уровнем дохода и возвратом кредита в срок?"
      ]
    },
    {
      "cell_type": "code",
      "execution_count": null,
      "id": "133034ce",
      "metadata": {
        "deletable": false,
        "id": "133034ce",
        "outputId": "394ec4b1-b5c4-4171-e900-793d570d0b7a"
      },
      "outputs": [
        {
          "name": "stdout",
          "output_type": "stream",
          "text": [
            "                        debt       debt_to_total_count_income\n",
            "                       count   sum                           \n",
            "total_income_category                                        \n",
            "A                         25     2                      0.080\n",
            "B                       5014   354                      0.071\n",
            "C                      15921  1353                      0.085\n",
            "D                        349    21                      0.060\n",
            "E                         22     2                      0.091\n"
          ]
        }
      ],
      "source": [
        "# группировка по уровню дохода с отображением общего числа заемщиков для каждой группы, а также количества задолженностей по возврату кредитов\n",
        "data_grouped = data.groupby('total_income_category').agg({'debt': ['count', 'sum']})\n",
        "\n",
        "# расчет количества задолженностей от общего числа заемщиков для каждой группы\n",
        "data_grouped['debt_to_total_count_income'] = data_grouped['debt']['sum'] / data_grouped['debt']['count']\n",
        "# Округление значений debt_to_total_count_income\n",
        "data_grouped['debt_to_total_count_income'] = data_grouped['debt_to_total_count_income'].round(3)\n",
        "\n",
        "print(data_grouped)\n"
      ]
    },
    {
      "cell_type": "markdown",
      "id": "1bad5d60",
      "metadata": {
        "deletable": false,
        "id": "1bad5d60"
      },
      "source": [
        "**Вывод:**\n",
        "Уровень дохода не влияет на возврат кредита в срок. ↓\n",
        "\n",
        "Ожидался рост 'просрочки' при последовательном снижении уровня дохода заемщика, однако, из небольшого разброса значений и без учета разного веса выборок можно выделить, что при наибольшем уровне дохода - наибольший невозврат кредита в срок (при этом число таких земщиков всего 22 чел. - меньше всего)\n"
      ]
    },
    {
      "cell_type": "code",
      "execution_count": null,
      "id": "fb3fee74",
      "metadata": {
        "id": "fb3fee74",
        "outputId": "224c8060-28d7-4803-c672-0d95b786c180"
      },
      "outputs": [
        {
          "data": {
            "text/plain": [
              "\"\\n\\nПроверка работы метода pd.qcut()\\n\\ndata['example_qcut'] = pd.qcut(data['total_income'], 5)\\ndata\\n\\n\""
            ]
          },
          "execution_count": 207,
          "metadata": {},
          "output_type": "execute_result"
        }
      ],
      "source": [
        "'''\n",
        "Альтернативный вариант\n",
        "Проверка работы метода pd.qcut()\n",
        "\n",
        "data['example_qcut'] = pd.qcut(data['total_income'], 5)\n",
        "data\n",
        "\n",
        "'''\n"
      ]
    },
    {
      "cell_type": "markdown",
      "id": "7e0454ef",
      "metadata": {
        "deletable": false,
        "editable": false,
        "id": "7e0454ef"
      },
      "source": [
        "#### 3.4 Как разные цели кредита влияют на его возврат в срок?"
      ]
    },
    {
      "cell_type": "code",
      "execution_count": null,
      "id": "cf0247b1",
      "metadata": {
        "deletable": false,
        "id": "cf0247b1",
        "outputId": "983e43b3-38d1-423a-949a-ba51ced34a5c"
      },
      "outputs": [
        {
          "name": "stdout",
          "output_type": "stream",
          "text": [
            "                           debt      debt_to_total_count_purpose\n",
            "                          count  sum                            \n",
            "purpose_category                                                \n",
            "операции с недвижимостью  10751  780                       0.073\n",
            "проведение свадьбы         2313  183                       0.079\n",
            "операции с автомобилем     4279  400                       0.093\n",
            "получение образования      3988  369                       0.093\n"
          ]
        }
      ],
      "source": [
        "# группировка по уровню дохода  с отображением общего числа заемщиков для каждой группы, а также количества задолженностей по возврату кредитов\n",
        "data_grouped = data.groupby('purpose_category').agg({'debt': ['count', 'sum']})\n",
        "\n",
        "# расчет количества задолженностей от общего числа заемщиков для каждой группы\n",
        "data_grouped['debt_to_total_count_purpose'] = data_grouped['debt']['sum'] / data_grouped['debt']['count']\n",
        "# Округление значений debt_to_total_count_income\n",
        "data_grouped['debt_to_total_count_purpose'] = data_grouped['debt_to_total_count_purpose'].round(3)\n",
        "\n",
        "print(data_grouped.sort_values(by='debt_to_total_count_purpose'))"
      ]
    },
    {
      "cell_type": "markdown",
      "id": "e0a85bbf",
      "metadata": {
        "deletable": false,
        "id": "e0a85bbf"
      },
      "source": [
        "**Вывод:**\n",
        "Из полученного разброса значений (7,3-9,3%) можно выделить следующие моменты:\n",
        "- наименьший не возврат кредита в срок - в операциях с недвижимостью. Эти люди - чуть более ответственны/надежны/креитоспособны? Также можно отметить, что ставка по кредатам на недвижимость заметно ниже, чем ставка на обычные потребительские кредиты; при этом для операций с недвижимостью, как правило, требуется больше кредитных средств, и, соответственно, выше комплаенс со стороны банка.\n",
        "- 'проведение свадьбы' имеет также низкий (исходя из полученного разброса значений) процент невозврата кредита вовремя. Можно предположить, что это связано с тем, что денеженые средства, полученные в качестве подарка во время торжества, идут в т.ч. на погашение долга.\n",
        "- 'операции с автомобилем', 'получение образования', напротив, имеют наибольшую 'просрочку'. Наиболее высокая доля невозврата кредита вовремя при покупке автомобиля может быть связана с тем, что некоторе число заемщиков хотят 'тачку получше' и, в итоге, неверно рассчитывают свои силы (плюс более высокая ставка по потреб. кредитам). Что же касается образования, то попадание этой категории в группу с высокой долей 'проcрочки' выглядит необычным. Определенный процент заемщиков  не доучиватся/не находит в итоге работу и считает, что можно дальше не платить?)"
      ]
    },
    {
      "cell_type": "markdown",
      "id": "d2879cca",
      "metadata": {
        "deletable": false,
        "editable": false,
        "id": "d2879cca"
      },
      "source": [
        "#### 3.5 Приведите возможные причины появления пропусков в исходных данных."
      ]
    },
    {
      "cell_type": "markdown",
      "id": "39bb3eec",
      "metadata": {
        "deletable": false,
        "id": "39bb3eec"
      },
      "source": [
        "*Ответ:*\n",
        "Пропуски значений в строках DataFrame, представленного в качестве исходных данных, имеются в колонках 'total_income' и 'days_employed', причем они появляются одновременно. Встречаются и у людей разного типа занятости, семейного положения, возраста и разных целей получения кредита.\n",
        "Однако, только эти колонки хранят в себе типы данных float. В связи с этим, можно предположить, что имела место быть техническая ошибка/сбой. Например, если агрегатор этой информации неправильно воспринял входящие числовые значения.\n",
        "Теоретический вариант, в котором заполение данных анкетирования по уровню дохода и срокам работы не являются обязательными (и кто-то просто проигнорировал эти пункты), что, конечно, выглядит неприемлемым (т.к. уровень дохода и стаж работы на текущем месте - наиболее важные данные потенциального заемщика).\n"
      ]
    },
    {
      "cell_type": "markdown",
      "id": "410fa096",
      "metadata": {
        "deletable": false,
        "editable": false,
        "id": "410fa096"
      },
      "source": [
        "#### 3.6 Объясните, почему заполнить пропуски медианным значением — лучшее решение для количественных переменных."
      ]
    },
    {
      "cell_type": "markdown",
      "id": "4e1f09df",
      "metadata": {
        "deletable": false,
        "id": "4e1f09df"
      },
      "source": [
        "*Ответ:*\n",
        "Главным примером, по которому я уяснил, что среднее арифметическое - не самое хорошее решение при начилии экстремальных значений является статистика по заработным платам в РФ, которую любят время от времени показывать.\n",
        "Витя ест хрящи, а Петя - стейки Рибай. В среднем они едят мясо. Знакомый утрированный пример.\n",
        "Т.о. при наличии явно выпадающих значений в выборке лучшим образом проявляет себя медиана (хоть и получается более грустная статистика по заработной плате), которая поделит выборку пополам и позволит увидеть более реальную картину."
      ]
    },
    {
      "cell_type": "markdown",
      "id": "ba07cf37",
      "metadata": {
        "deletable": false,
        "editable": false,
        "id": "ba07cf37"
      },
      "source": [
        "### Шаг 4: общий вывод."
      ]
    },
    {
      "cell_type": "markdown",
      "id": "9d347455",
      "metadata": {
        "deletable": false,
        "id": "9d347455"
      },
      "source": [
        "**Количество детей у заемщика имеет малое влияние на возврат кредита в срок.**\n",
        "Процент заемщиков без детей, имющих задолженность по возврату кредитов, несколько меньше (на 0.7 п.п. и выше), чем заемщиков с детьми.\n",
        "Исключение: заемщикии с 5 детьми. Они не имеют задолженностей, но выборка слишком мала.\n",
        "\n",
        "**Семейное положение слабо влияет на возврат кредита в срок.**\n",
        "Можно отметить, что вдовцы/вдовы немного реже имеют задолженности по возврату кредитов.\n",
        "\n",
        "**Уровень дохода не влияет на возврат кредита в срок **\n",
        "\n",
        "**Цели кредита оказывают некоторое влияние на возврат кредита в срок**\n",
        "'Недвижимость' и 'свадьба' - меньше 'просрочек';\n",
        "'автомобиль' и 'образование' - больше 'просрочек'.\n"
      ]
    },
    {
      "cell_type": "markdown",
      "id": "843daf4a",
      "metadata": {
        "id": "843daf4a"
      },
      "source": [
        "   \n",
        "**ОБЩИЙ ВЫВОД**\n",
        "\n",
        "В настоящей работе была исследована статистика платежеспособности клиентов банка с целью выявления влияния семейного положения и количества детей клиента на факт погашения кредита в срок.\n",
        "\n",
        "Исходные данные содержат пропуски в ячейках.\n",
        "Для получения более репрезентативных данных, пропущенные значения в колонке, содержащей информацию о доходах, были заполнены медианным значением по каждому типу занятости заемщика.\n",
        "\n",
        "Столбец с количеством дней трудового стажа содержит отрицательные значения. Была проведена работа по исправлению этой проблемы. Также здесь были устранены пропуски значений с помощью медианы по каждому типу занятости.\n",
        "\n",
        "В колонке, в строках которой отображено количество детей заемщика, встречаются аномальные значения (-1, 20). Эти аномалии были устранены.\n",
        "\n",
        "Далее были устранены неявные дубликаты с столбце \"образование\".\n",
        "\n",
        "На следующем этапе была проведена категоризация данных:\n",
        "- созданы категории дохода на основании ранжирования этих самых доходов;\n",
        "- для множества уникальных значений целей кредита были созданы основные категории.\n",
        "\n",
        "    \n",
        "    \n",
        "**Количество детей у заемщика имеет малое влияние на возврат кредита в срок.**\n",
        "Процент заемщиков без детей, имющих задолженность по возврату кредитов, несколько меньше (на 0.7 п.п. и выше), чем заемщиков с детьми.\n",
        "Исключение: заемщикии с 5 детьми. Они не имеют задолженностей, но выборка слишком мала, что ставит под сомнение ее результаты.\n",
        "\n",
        "**Семейное положение слабо влияет на возврат кредита в срок.**\n",
        "Можно отметить, что вдовцы/вдовы немного реже имеют задолженности по возврату кредитов.\n",
        "\n",
        "**Уровень дохода не влияет на возврат кредита в срок **\n",
        "\n",
        "**Цели кредита оказывают некоторое влияние на возврат кредита в срок**\n",
        "'Недвижимость' и 'свадьба' - меньше 'просрочек';\n",
        "'автомобиль' и 'образование' - больше 'просрочек'.\n",
        "\n"
      ]
    }
  ],
  "metadata": {
    "ExecuteTimeLog": [
      {
        "duration": 587,
        "start_time": "2024-07-01T05:46:24.797Z"
      },
      {
        "duration": 17,
        "start_time": "2024-07-01T05:46:25.386Z"
      },
      {
        "duration": 32,
        "start_time": "2024-07-01T05:46:25.404Z"
      },
      {
        "duration": 7,
        "start_time": "2024-07-01T05:46:25.437Z"
      },
      {
        "duration": 28,
        "start_time": "2024-07-01T05:46:25.446Z"
      },
      {
        "duration": 3,
        "start_time": "2024-07-01T05:46:25.475Z"
      },
      {
        "duration": 17,
        "start_time": "2024-07-01T05:46:25.479Z"
      },
      {
        "duration": 3,
        "start_time": "2024-07-01T05:46:25.497Z"
      },
      {
        "duration": 9,
        "start_time": "2024-07-01T05:46:25.501Z"
      },
      {
        "duration": 4,
        "start_time": "2024-07-01T05:46:25.511Z"
      },
      {
        "duration": 26,
        "start_time": "2024-07-01T05:46:25.516Z"
      },
      {
        "duration": 7,
        "start_time": "2024-07-01T05:46:25.543Z"
      },
      {
        "duration": 5,
        "start_time": "2024-07-01T05:46:25.552Z"
      },
      {
        "duration": 14,
        "start_time": "2024-07-01T05:46:25.560Z"
      },
      {
        "duration": 15,
        "start_time": "2024-07-01T05:46:25.589Z"
      },
      {
        "duration": 12,
        "start_time": "2024-07-01T05:46:25.605Z"
      },
      {
        "duration": 3,
        "start_time": "2024-07-01T05:46:25.618Z"
      },
      {
        "duration": 13,
        "start_time": "2024-07-01T05:46:25.622Z"
      },
      {
        "duration": 6,
        "start_time": "2024-07-01T05:46:25.636Z"
      },
      {
        "duration": 7,
        "start_time": "2024-07-01T05:46:25.643Z"
      },
      {
        "duration": 11,
        "start_time": "2024-07-01T05:46:25.651Z"
      },
      {
        "duration": 23,
        "start_time": "2024-07-01T05:46:25.663Z"
      },
      {
        "duration": 6,
        "start_time": "2024-07-01T05:46:25.687Z"
      },
      {
        "duration": 37,
        "start_time": "2024-07-01T05:46:25.694Z"
      },
      {
        "duration": 3,
        "start_time": "2024-07-01T05:46:25.732Z"
      },
      {
        "duration": 10,
        "start_time": "2024-07-01T05:46:43.639Z"
      },
      {
        "duration": 11,
        "start_time": "2024-07-01T05:46:51.270Z"
      },
      {
        "duration": 14,
        "start_time": "2024-07-01T05:50:01.335Z"
      },
      {
        "duration": 10,
        "start_time": "2024-07-01T05:50:24.168Z"
      },
      {
        "duration": 11,
        "start_time": "2024-07-01T05:51:06.270Z"
      },
      {
        "duration": 3,
        "start_time": "2024-07-01T06:01:16.719Z"
      },
      {
        "duration": 11,
        "start_time": "2024-07-01T06:02:01.249Z"
      },
      {
        "duration": 10,
        "start_time": "2024-07-01T06:02:17.271Z"
      },
      {
        "duration": 5,
        "start_time": "2024-07-01T06:02:37.399Z"
      },
      {
        "duration": 4,
        "start_time": "2024-07-01T06:06:18.155Z"
      },
      {
        "duration": 132,
        "start_time": "2024-07-01T06:07:01.759Z"
      },
      {
        "duration": 7,
        "start_time": "2024-07-01T06:07:19.976Z"
      },
      {
        "duration": 52,
        "start_time": "2024-07-01T06:08:56.176Z"
      },
      {
        "duration": 5,
        "start_time": "2024-07-01T06:16:17.931Z"
      },
      {
        "duration": 885,
        "start_time": "2024-07-01T06:20:50.201Z"
      },
      {
        "duration": 865,
        "start_time": "2024-07-01T06:21:18.648Z"
      },
      {
        "duration": 9,
        "start_time": "2024-07-01T06:21:48.025Z"
      },
      {
        "duration": 11,
        "start_time": "2024-07-01T06:22:22.235Z"
      },
      {
        "duration": 12,
        "start_time": "2024-07-01T06:24:12.564Z"
      },
      {
        "duration": 8,
        "start_time": "2024-07-01T06:25:20.051Z"
      },
      {
        "duration": 11,
        "start_time": "2024-07-01T06:26:05.099Z"
      },
      {
        "duration": 8,
        "start_time": "2024-07-01T06:26:10.174Z"
      },
      {
        "duration": 13,
        "start_time": "2024-07-01T06:32:53.813Z"
      },
      {
        "duration": 9,
        "start_time": "2024-07-01T06:33:03.868Z"
      },
      {
        "duration": 8,
        "start_time": "2024-07-01T06:33:18.619Z"
      },
      {
        "duration": 11,
        "start_time": "2024-07-01T06:33:47.762Z"
      },
      {
        "duration": 9,
        "start_time": "2024-07-01T06:33:51.621Z"
      },
      {
        "duration": 9,
        "start_time": "2024-07-01T06:33:54.829Z"
      },
      {
        "duration": 9,
        "start_time": "2024-07-01T06:34:19.158Z"
      },
      {
        "duration": 8,
        "start_time": "2024-07-01T06:34:55.990Z"
      },
      {
        "duration": 8,
        "start_time": "2024-07-01T06:34:59.839Z"
      },
      {
        "duration": 10,
        "start_time": "2024-07-01T06:36:19.789Z"
      },
      {
        "duration": 10,
        "start_time": "2024-07-01T06:36:31.184Z"
      },
      {
        "duration": 9,
        "start_time": "2024-07-01T06:36:58.274Z"
      },
      {
        "duration": 8,
        "start_time": "2024-07-01T06:38:03.930Z"
      },
      {
        "duration": 8,
        "start_time": "2024-07-01T06:38:09.377Z"
      },
      {
        "duration": 12,
        "start_time": "2024-07-01T06:39:40.455Z"
      },
      {
        "duration": 9,
        "start_time": "2024-07-01T06:40:32.106Z"
      },
      {
        "duration": 10,
        "start_time": "2024-07-01T06:56:46.634Z"
      },
      {
        "duration": 10,
        "start_time": "2024-07-01T06:56:58.889Z"
      },
      {
        "duration": 12,
        "start_time": "2024-07-01T06:57:02.198Z"
      },
      {
        "duration": 10,
        "start_time": "2024-07-01T06:58:04.062Z"
      },
      {
        "duration": 10,
        "start_time": "2024-07-01T06:58:29.376Z"
      },
      {
        "duration": 11,
        "start_time": "2024-07-01T06:58:32.635Z"
      },
      {
        "duration": 11,
        "start_time": "2024-07-01T06:58:35.903Z"
      },
      {
        "duration": 12,
        "start_time": "2024-07-01T06:58:58.977Z"
      },
      {
        "duration": 10,
        "start_time": "2024-07-01T06:59:23.951Z"
      },
      {
        "duration": 9,
        "start_time": "2024-07-01T06:59:42.662Z"
      },
      {
        "duration": 14,
        "start_time": "2024-07-01T07:01:03.453Z"
      },
      {
        "duration": 15,
        "start_time": "2024-07-01T07:01:13.567Z"
      },
      {
        "duration": 11,
        "start_time": "2024-07-01T07:01:56.700Z"
      },
      {
        "duration": 11,
        "start_time": "2024-07-01T07:02:10.198Z"
      },
      {
        "duration": 10,
        "start_time": "2024-07-01T07:02:16.053Z"
      },
      {
        "duration": 11,
        "start_time": "2024-07-01T07:02:22.154Z"
      },
      {
        "duration": 11,
        "start_time": "2024-07-01T07:02:57.223Z"
      },
      {
        "duration": 12,
        "start_time": "2024-07-01T07:03:02.005Z"
      },
      {
        "duration": 8,
        "start_time": "2024-07-01T07:03:26.822Z"
      },
      {
        "duration": 8,
        "start_time": "2024-07-01T07:03:30.967Z"
      },
      {
        "duration": 12,
        "start_time": "2024-07-01T07:03:55.744Z"
      },
      {
        "duration": 12,
        "start_time": "2024-07-01T07:04:41.485Z"
      },
      {
        "duration": 12,
        "start_time": "2024-07-01T07:04:53.274Z"
      },
      {
        "duration": 11,
        "start_time": "2024-07-01T07:08:23.640Z"
      },
      {
        "duration": 12,
        "start_time": "2024-07-01T07:08:26.999Z"
      },
      {
        "duration": 68,
        "start_time": "2024-07-01T07:08:33.987Z"
      },
      {
        "duration": 70,
        "start_time": "2024-07-01T07:08:40.570Z"
      },
      {
        "duration": 10,
        "start_time": "2024-07-01T07:08:44.784Z"
      },
      {
        "duration": 11,
        "start_time": "2024-07-01T07:08:48.469Z"
      },
      {
        "duration": 10,
        "start_time": "2024-07-01T07:10:02.202Z"
      },
      {
        "duration": 11,
        "start_time": "2024-07-01T07:10:10.260Z"
      },
      {
        "duration": 11,
        "start_time": "2024-07-01T07:10:13.061Z"
      },
      {
        "duration": 11,
        "start_time": "2024-07-01T07:10:18.258Z"
      },
      {
        "duration": 11,
        "start_time": "2024-07-01T07:10:25.039Z"
      },
      {
        "duration": 11,
        "start_time": "2024-07-01T07:10:30.367Z"
      },
      {
        "duration": 10,
        "start_time": "2024-07-01T07:10:54.318Z"
      },
      {
        "duration": 63,
        "start_time": "2024-07-01T07:11:26.893Z"
      },
      {
        "duration": 12,
        "start_time": "2024-07-01T07:11:35.919Z"
      },
      {
        "duration": 13,
        "start_time": "2024-07-01T07:12:23.808Z"
      },
      {
        "duration": 860,
        "start_time": "2024-07-01T07:13:38.299Z"
      },
      {
        "duration": 11,
        "start_time": "2024-07-01T07:13:46.129Z"
      },
      {
        "duration": 11,
        "start_time": "2024-07-01T07:15:44.098Z"
      },
      {
        "duration": 14,
        "start_time": "2024-07-01T07:16:30.681Z"
      },
      {
        "duration": 13,
        "start_time": "2024-07-01T07:17:44.396Z"
      },
      {
        "duration": 61,
        "start_time": "2024-07-01T07:18:24.233Z"
      },
      {
        "duration": 11,
        "start_time": "2024-07-01T07:18:24.296Z"
      },
      {
        "duration": 14,
        "start_time": "2024-07-01T07:18:24.308Z"
      },
      {
        "duration": 7,
        "start_time": "2024-07-01T07:18:24.323Z"
      },
      {
        "duration": 57,
        "start_time": "2024-07-01T07:18:24.331Z"
      },
      {
        "duration": 3,
        "start_time": "2024-07-01T07:18:24.389Z"
      },
      {
        "duration": 17,
        "start_time": "2024-07-01T07:18:24.393Z"
      },
      {
        "duration": 15,
        "start_time": "2024-07-01T07:18:24.411Z"
      },
      {
        "duration": 6,
        "start_time": "2024-07-01T07:18:24.428Z"
      },
      {
        "duration": 9,
        "start_time": "2024-07-01T07:18:24.436Z"
      },
      {
        "duration": 28,
        "start_time": "2024-07-01T07:18:24.446Z"
      },
      {
        "duration": 7,
        "start_time": "2024-07-01T07:18:24.475Z"
      },
      {
        "duration": 21,
        "start_time": "2024-07-01T07:18:24.483Z"
      },
      {
        "duration": 26,
        "start_time": "2024-07-01T07:18:24.505Z"
      },
      {
        "duration": 19,
        "start_time": "2024-07-01T07:18:24.532Z"
      },
      {
        "duration": 19,
        "start_time": "2024-07-01T07:18:24.552Z"
      },
      {
        "duration": 6,
        "start_time": "2024-07-01T07:18:24.573Z"
      },
      {
        "duration": 28,
        "start_time": "2024-07-01T07:18:24.580Z"
      },
      {
        "duration": 10,
        "start_time": "2024-07-01T07:18:24.610Z"
      },
      {
        "duration": 13,
        "start_time": "2024-07-01T07:18:24.622Z"
      },
      {
        "duration": 30,
        "start_time": "2024-07-01T07:18:24.636Z"
      },
      {
        "duration": 25,
        "start_time": "2024-07-01T07:18:24.667Z"
      },
      {
        "duration": 14,
        "start_time": "2024-07-01T07:18:24.693Z"
      },
      {
        "duration": 1,
        "start_time": "2024-07-01T07:18:24.709Z"
      },
      {
        "duration": 62,
        "start_time": "2024-07-01T07:18:24.712Z"
      },
      {
        "duration": 6,
        "start_time": "2024-07-01T07:20:03.812Z"
      },
      {
        "duration": 15,
        "start_time": "2024-07-01T07:20:07.764Z"
      },
      {
        "duration": 16,
        "start_time": "2024-07-01T07:20:48.647Z"
      },
      {
        "duration": 9,
        "start_time": "2024-07-01T07:22:00.513Z"
      },
      {
        "duration": 9,
        "start_time": "2024-07-01T07:22:14.184Z"
      },
      {
        "duration": 11,
        "start_time": "2024-07-01T07:22:43.476Z"
      },
      {
        "duration": 17,
        "start_time": "2024-07-01T07:25:08.812Z"
      },
      {
        "duration": 5,
        "start_time": "2024-07-01T07:27:18.286Z"
      },
      {
        "duration": 5,
        "start_time": "2024-07-01T07:27:29.613Z"
      },
      {
        "duration": 58,
        "start_time": "2024-07-01T07:27:36.010Z"
      },
      {
        "duration": 11,
        "start_time": "2024-07-01T07:27:36.069Z"
      },
      {
        "duration": 70,
        "start_time": "2024-07-01T07:27:36.082Z"
      },
      {
        "duration": 18,
        "start_time": "2024-07-01T07:27:36.153Z"
      },
      {
        "duration": 41,
        "start_time": "2024-07-01T07:27:36.172Z"
      },
      {
        "duration": 16,
        "start_time": "2024-07-01T07:27:36.214Z"
      },
      {
        "duration": 6,
        "start_time": "2024-07-01T07:27:36.231Z"
      },
      {
        "duration": 16,
        "start_time": "2024-07-01T07:27:36.238Z"
      },
      {
        "duration": 24,
        "start_time": "2024-07-01T07:27:36.255Z"
      },
      {
        "duration": 13,
        "start_time": "2024-07-01T07:27:36.281Z"
      },
      {
        "duration": 29,
        "start_time": "2024-07-01T07:27:36.295Z"
      },
      {
        "duration": 7,
        "start_time": "2024-07-01T07:27:36.325Z"
      },
      {
        "duration": 10,
        "start_time": "2024-07-01T07:27:36.333Z"
      },
      {
        "duration": 85,
        "start_time": "2024-07-01T07:27:36.344Z"
      },
      {
        "duration": 22,
        "start_time": "2024-07-01T07:27:36.431Z"
      },
      {
        "duration": 13,
        "start_time": "2024-07-01T07:27:36.454Z"
      },
      {
        "duration": 28,
        "start_time": "2024-07-01T07:27:36.468Z"
      },
      {
        "duration": 15,
        "start_time": "2024-07-01T07:27:36.497Z"
      },
      {
        "duration": 6,
        "start_time": "2024-07-01T07:27:36.514Z"
      },
      {
        "duration": 5,
        "start_time": "2024-07-01T07:27:36.521Z"
      },
      {
        "duration": 21,
        "start_time": "2024-07-01T07:27:36.527Z"
      },
      {
        "duration": 12,
        "start_time": "2024-07-01T07:27:36.549Z"
      },
      {
        "duration": 32,
        "start_time": "2024-07-01T07:27:36.562Z"
      },
      {
        "duration": 19,
        "start_time": "2024-07-01T07:27:36.595Z"
      },
      {
        "duration": 14,
        "start_time": "2024-07-01T07:27:36.614Z"
      },
      {
        "duration": 5,
        "start_time": "2024-07-01T07:27:46.366Z"
      },
      {
        "duration": 6,
        "start_time": "2024-07-01T07:27:50.188Z"
      },
      {
        "duration": 20,
        "start_time": "2024-07-01T07:28:09.510Z"
      },
      {
        "duration": 15,
        "start_time": "2024-07-01T07:32:54.500Z"
      },
      {
        "duration": 8,
        "start_time": "2024-07-01T07:35:02.071Z"
      },
      {
        "duration": 15,
        "start_time": "2024-07-01T07:35:14.823Z"
      },
      {
        "duration": 17,
        "start_time": "2024-07-01T07:38:19.920Z"
      },
      {
        "duration": 13,
        "start_time": "2024-07-01T07:40:18.373Z"
      },
      {
        "duration": 16,
        "start_time": "2024-07-01T07:40:22.720Z"
      },
      {
        "duration": 10,
        "start_time": "2024-07-01T07:40:39.929Z"
      },
      {
        "duration": 14,
        "start_time": "2024-07-01T07:41:14.276Z"
      },
      {
        "duration": 16,
        "start_time": "2024-07-01T07:41:17.687Z"
      },
      {
        "duration": 17,
        "start_time": "2024-07-01T07:41:33.119Z"
      },
      {
        "duration": 16,
        "start_time": "2024-07-01T07:41:40.023Z"
      },
      {
        "duration": 15,
        "start_time": "2024-07-01T07:51:44.852Z"
      },
      {
        "duration": 73,
        "start_time": "2024-07-01T07:52:49.585Z"
      },
      {
        "duration": 67,
        "start_time": "2024-07-01T07:52:53.849Z"
      },
      {
        "duration": 61,
        "start_time": "2024-07-01T07:53:03.851Z"
      },
      {
        "duration": 15,
        "start_time": "2024-07-01T07:53:20.727Z"
      },
      {
        "duration": 16,
        "start_time": "2024-07-01T07:53:56.704Z"
      },
      {
        "duration": 22,
        "start_time": "2024-07-01T07:54:11.263Z"
      },
      {
        "duration": 14,
        "start_time": "2024-07-01T07:54:37.396Z"
      },
      {
        "duration": 15,
        "start_time": "2024-07-01T07:54:50.541Z"
      },
      {
        "duration": 54,
        "start_time": "2024-07-01T15:38:18.568Z"
      },
      {
        "duration": 610,
        "start_time": "2024-07-01T15:38:42.394Z"
      },
      {
        "duration": 25,
        "start_time": "2024-07-01T15:38:43.006Z"
      },
      {
        "duration": 17,
        "start_time": "2024-07-01T15:38:43.033Z"
      },
      {
        "duration": 22,
        "start_time": "2024-07-01T15:38:43.052Z"
      },
      {
        "duration": 107,
        "start_time": "2024-07-01T15:38:43.076Z"
      },
      {
        "duration": 201,
        "start_time": "2024-07-01T15:38:43.185Z"
      },
      {
        "duration": 14,
        "start_time": "2024-07-01T15:38:43.388Z"
      },
      {
        "duration": 5,
        "start_time": "2024-07-01T15:38:43.404Z"
      },
      {
        "duration": 23,
        "start_time": "2024-07-01T15:38:43.411Z"
      },
      {
        "duration": 8,
        "start_time": "2024-07-01T15:38:43.436Z"
      },
      {
        "duration": 53,
        "start_time": "2024-07-01T15:38:43.445Z"
      },
      {
        "duration": 11,
        "start_time": "2024-07-01T15:38:43.499Z"
      },
      {
        "duration": 18,
        "start_time": "2024-07-01T15:38:43.512Z"
      },
      {
        "duration": 24,
        "start_time": "2024-07-01T15:38:43.532Z"
      },
      {
        "duration": 43,
        "start_time": "2024-07-01T15:38:43.558Z"
      },
      {
        "duration": 17,
        "start_time": "2024-07-01T15:38:43.603Z"
      },
      {
        "duration": 4,
        "start_time": "2024-07-01T15:38:43.622Z"
      },
      {
        "duration": 31,
        "start_time": "2024-07-01T15:38:43.628Z"
      },
      {
        "duration": 21,
        "start_time": "2024-07-01T15:38:43.661Z"
      },
      {
        "duration": 20,
        "start_time": "2024-07-01T15:38:43.684Z"
      },
      {
        "duration": 25,
        "start_time": "2024-07-01T15:38:43.706Z"
      },
      {
        "duration": 25,
        "start_time": "2024-07-01T15:38:43.733Z"
      },
      {
        "duration": 28,
        "start_time": "2024-07-01T15:38:43.760Z"
      },
      {
        "duration": 20,
        "start_time": "2024-07-01T15:38:43.790Z"
      },
      {
        "duration": 16,
        "start_time": "2024-07-01T15:38:43.811Z"
      },
      {
        "duration": 16,
        "start_time": "2024-07-01T15:39:28.983Z"
      },
      {
        "duration": 18,
        "start_time": "2024-07-01T16:29:57.561Z"
      },
      {
        "duration": 81,
        "start_time": "2024-07-01T16:30:26.472Z"
      },
      {
        "duration": 19,
        "start_time": "2024-07-01T16:30:47.645Z"
      },
      {
        "duration": 19,
        "start_time": "2024-07-01T16:57:10.812Z"
      },
      {
        "duration": 17,
        "start_time": "2024-07-01T16:57:31.088Z"
      },
      {
        "duration": 80,
        "start_time": "2024-07-01T16:57:45.889Z"
      },
      {
        "duration": 62,
        "start_time": "2024-07-01T16:57:45.971Z"
      },
      {
        "duration": 15,
        "start_time": "2024-07-01T16:57:59.832Z"
      },
      {
        "duration": 19,
        "start_time": "2024-07-01T16:59:30.868Z"
      },
      {
        "duration": 17,
        "start_time": "2024-07-01T16:59:53.807Z"
      },
      {
        "duration": 17,
        "start_time": "2024-07-01T17:04:51.696Z"
      },
      {
        "duration": 26,
        "start_time": "2024-07-01T17:05:19.618Z"
      },
      {
        "duration": 29,
        "start_time": "2024-07-01T18:29:53.866Z"
      },
      {
        "duration": 80,
        "start_time": "2024-07-01T18:30:09.696Z"
      },
      {
        "duration": 100,
        "start_time": "2024-07-01T18:30:09.778Z"
      },
      {
        "duration": 53,
        "start_time": "2024-07-01T18:30:09.880Z"
      },
      {
        "duration": 17,
        "start_time": "2024-07-01T18:30:09.935Z"
      },
      {
        "duration": 40,
        "start_time": "2024-07-01T18:30:09.954Z"
      },
      {
        "duration": 4,
        "start_time": "2024-07-01T18:30:09.996Z"
      },
      {
        "duration": 177,
        "start_time": "2024-07-01T18:30:10.001Z"
      },
      {
        "duration": 16,
        "start_time": "2024-07-01T18:30:10.179Z"
      },
      {
        "duration": 15,
        "start_time": "2024-07-01T18:30:10.196Z"
      },
      {
        "duration": 18,
        "start_time": "2024-07-01T18:30:10.213Z"
      },
      {
        "duration": 50,
        "start_time": "2024-07-01T18:30:10.232Z"
      },
      {
        "duration": 12,
        "start_time": "2024-07-01T18:30:10.284Z"
      },
      {
        "duration": 7,
        "start_time": "2024-07-01T18:30:10.297Z"
      },
      {
        "duration": 17,
        "start_time": "2024-07-01T18:30:10.306Z"
      },
      {
        "duration": 57,
        "start_time": "2024-07-01T18:30:10.325Z"
      },
      {
        "duration": 35,
        "start_time": "2024-07-01T18:30:10.384Z"
      },
      {
        "duration": 31,
        "start_time": "2024-07-01T18:30:10.421Z"
      },
      {
        "duration": 60,
        "start_time": "2024-07-01T18:30:10.454Z"
      },
      {
        "duration": 28,
        "start_time": "2024-07-01T18:30:10.516Z"
      },
      {
        "duration": 5,
        "start_time": "2024-07-01T18:30:10.546Z"
      },
      {
        "duration": 27,
        "start_time": "2024-07-01T18:30:10.553Z"
      },
      {
        "duration": 41,
        "start_time": "2024-07-01T18:30:10.583Z"
      },
      {
        "duration": 18,
        "start_time": "2024-07-01T18:30:10.626Z"
      },
      {
        "duration": 15,
        "start_time": "2024-07-01T18:30:10.646Z"
      },
      {
        "duration": 17,
        "start_time": "2024-07-01T18:30:10.663Z"
      },
      {
        "duration": 60,
        "start_time": "2024-07-01T18:30:55.936Z"
      },
      {
        "duration": 74,
        "start_time": "2024-07-01T18:31:36.062Z"
      },
      {
        "duration": 91,
        "start_time": "2024-07-01T18:31:36.138Z"
      },
      {
        "duration": 28,
        "start_time": "2024-07-01T18:31:36.231Z"
      },
      {
        "duration": 18,
        "start_time": "2024-07-01T18:31:36.261Z"
      },
      {
        "duration": 39,
        "start_time": "2024-07-01T18:31:36.281Z"
      },
      {
        "duration": 4,
        "start_time": "2024-07-01T18:31:36.321Z"
      },
      {
        "duration": 21,
        "start_time": "2024-07-01T18:31:36.327Z"
      },
      {
        "duration": 4,
        "start_time": "2024-07-01T18:31:36.350Z"
      },
      {
        "duration": 15,
        "start_time": "2024-07-01T18:31:36.356Z"
      },
      {
        "duration": 12,
        "start_time": "2024-07-01T18:31:36.374Z"
      },
      {
        "duration": 42,
        "start_time": "2024-07-01T18:31:36.388Z"
      },
      {
        "duration": 19,
        "start_time": "2024-07-01T18:31:36.431Z"
      },
      {
        "duration": 82,
        "start_time": "2024-07-01T18:31:36.452Z"
      },
      {
        "duration": 33,
        "start_time": "2024-07-01T18:31:36.536Z"
      },
      {
        "duration": 33,
        "start_time": "2024-07-01T18:31:36.571Z"
      },
      {
        "duration": 54,
        "start_time": "2024-07-01T18:31:36.606Z"
      },
      {
        "duration": 4,
        "start_time": "2024-07-01T18:31:36.662Z"
      },
      {
        "duration": 26,
        "start_time": "2024-07-01T18:31:36.668Z"
      },
      {
        "duration": 38,
        "start_time": "2024-07-01T18:31:36.695Z"
      },
      {
        "duration": 13,
        "start_time": "2024-07-01T18:31:36.735Z"
      },
      {
        "duration": 24,
        "start_time": "2024-07-01T18:31:36.750Z"
      },
      {
        "duration": 79,
        "start_time": "2024-07-01T18:31:36.775Z"
      },
      {
        "duration": 0,
        "start_time": "2024-07-01T18:31:36.856Z"
      },
      {
        "duration": 0,
        "start_time": "2024-07-01T18:31:36.857Z"
      },
      {
        "duration": 0,
        "start_time": "2024-07-01T18:31:36.858Z"
      },
      {
        "duration": 21,
        "start_time": "2024-07-01T18:31:54.239Z"
      },
      {
        "duration": 21,
        "start_time": "2024-07-01T18:47:07.655Z"
      },
      {
        "duration": 16,
        "start_time": "2024-07-01T18:47:25.566Z"
      },
      {
        "duration": 18,
        "start_time": "2024-07-01T18:47:28.839Z"
      },
      {
        "duration": 21,
        "start_time": "2024-07-01T18:53:35.508Z"
      },
      {
        "duration": 27,
        "start_time": "2024-07-01T18:53:43.150Z"
      },
      {
        "duration": 729,
        "start_time": "2024-07-01T19:00:12.894Z"
      },
      {
        "duration": 85,
        "start_time": "2024-07-01T19:00:25.890Z"
      },
      {
        "duration": 18,
        "start_time": "2024-07-01T19:00:25.978Z"
      },
      {
        "duration": 36,
        "start_time": "2024-07-01T19:00:25.998Z"
      },
      {
        "duration": 37,
        "start_time": "2024-07-01T19:00:26.037Z"
      },
      {
        "duration": 69,
        "start_time": "2024-07-01T19:00:26.076Z"
      },
      {
        "duration": 3,
        "start_time": "2024-07-01T19:00:26.147Z"
      },
      {
        "duration": 30,
        "start_time": "2024-07-01T19:00:26.151Z"
      },
      {
        "duration": 14,
        "start_time": "2024-07-01T19:00:26.183Z"
      },
      {
        "duration": 26,
        "start_time": "2024-07-01T19:00:26.198Z"
      },
      {
        "duration": 46,
        "start_time": "2024-07-01T19:00:26.227Z"
      },
      {
        "duration": 38,
        "start_time": "2024-07-01T19:00:26.274Z"
      },
      {
        "duration": 10,
        "start_time": "2024-07-01T19:00:26.314Z"
      },
      {
        "duration": 49,
        "start_time": "2024-07-01T19:00:26.326Z"
      },
      {
        "duration": 15,
        "start_time": "2024-07-01T19:00:26.376Z"
      },
      {
        "duration": 28,
        "start_time": "2024-07-01T19:00:26.392Z"
      },
      {
        "duration": 19,
        "start_time": "2024-07-01T19:00:26.422Z"
      },
      {
        "duration": 4,
        "start_time": "2024-07-01T19:00:26.442Z"
      },
      {
        "duration": 17,
        "start_time": "2024-07-01T19:00:26.447Z"
      },
      {
        "duration": 11,
        "start_time": "2024-07-01T19:00:26.465Z"
      },
      {
        "duration": 5,
        "start_time": "2024-07-01T19:00:26.478Z"
      },
      {
        "duration": 17,
        "start_time": "2024-07-01T19:00:26.484Z"
      },
      {
        "duration": 28,
        "start_time": "2024-07-01T19:00:26.503Z"
      },
      {
        "duration": 810,
        "start_time": "2024-07-01T19:00:26.533Z"
      },
      {
        "duration": 0,
        "start_time": "2024-07-01T19:00:27.344Z"
      },
      {
        "duration": 0,
        "start_time": "2024-07-01T19:00:27.346Z"
      },
      {
        "duration": 0,
        "start_time": "2024-07-01T19:00:27.347Z"
      },
      {
        "duration": 5,
        "start_time": "2024-07-01T19:01:16.483Z"
      },
      {
        "duration": 704,
        "start_time": "2024-07-01T19:01:34.267Z"
      },
      {
        "duration": 767,
        "start_time": "2024-07-01T19:01:39.724Z"
      },
      {
        "duration": 6,
        "start_time": "2024-07-01T19:01:53.027Z"
      },
      {
        "duration": 27,
        "start_time": "2024-07-01T19:02:53.092Z"
      },
      {
        "duration": 76,
        "start_time": "2024-07-01T19:10:27.517Z"
      },
      {
        "duration": 15,
        "start_time": "2024-07-01T19:10:27.595Z"
      },
      {
        "duration": 16,
        "start_time": "2024-07-01T19:10:27.612Z"
      },
      {
        "duration": 24,
        "start_time": "2024-07-01T19:10:27.630Z"
      },
      {
        "duration": 35,
        "start_time": "2024-07-01T19:10:27.656Z"
      },
      {
        "duration": 3,
        "start_time": "2024-07-01T19:10:27.693Z"
      },
      {
        "duration": 17,
        "start_time": "2024-07-01T19:10:27.697Z"
      },
      {
        "duration": 4,
        "start_time": "2024-07-01T19:10:27.716Z"
      },
      {
        "duration": 25,
        "start_time": "2024-07-01T19:10:27.721Z"
      },
      {
        "duration": 5,
        "start_time": "2024-07-01T19:10:27.748Z"
      },
      {
        "duration": 45,
        "start_time": "2024-07-01T19:10:27.754Z"
      },
      {
        "duration": 10,
        "start_time": "2024-07-01T19:10:27.801Z"
      },
      {
        "duration": 8,
        "start_time": "2024-07-01T19:10:27.812Z"
      },
      {
        "duration": 29,
        "start_time": "2024-07-01T19:10:27.821Z"
      },
      {
        "duration": 51,
        "start_time": "2024-07-01T19:10:27.851Z"
      },
      {
        "duration": 38,
        "start_time": "2024-07-01T19:10:27.904Z"
      },
      {
        "duration": 4,
        "start_time": "2024-07-01T19:10:27.944Z"
      },
      {
        "duration": 22,
        "start_time": "2024-07-01T19:10:27.949Z"
      },
      {
        "duration": 9,
        "start_time": "2024-07-01T19:10:27.972Z"
      },
      {
        "duration": 9,
        "start_time": "2024-07-01T19:10:27.983Z"
      },
      {
        "duration": 23,
        "start_time": "2024-07-01T19:10:27.993Z"
      },
      {
        "duration": 42,
        "start_time": "2024-07-01T19:10:28.018Z"
      },
      {
        "duration": 5,
        "start_time": "2024-07-01T19:10:28.062Z"
      },
      {
        "duration": 29,
        "start_time": "2024-07-01T19:10:28.068Z"
      },
      {
        "duration": 15,
        "start_time": "2024-07-01T19:10:28.099Z"
      },
      {
        "duration": 37,
        "start_time": "2024-07-01T19:10:28.115Z"
      },
      {
        "duration": 27,
        "start_time": "2024-07-01T19:34:25.413Z"
      },
      {
        "duration": 25,
        "start_time": "2024-07-01T19:34:32.886Z"
      },
      {
        "duration": 28,
        "start_time": "2024-07-01T19:40:35.548Z"
      },
      {
        "duration": 24,
        "start_time": "2024-07-01T19:43:01.792Z"
      },
      {
        "duration": 980,
        "start_time": "2024-07-01T19:45:08.086Z"
      },
      {
        "duration": 0,
        "start_time": "2024-07-01T19:45:09.068Z"
      },
      {
        "duration": 20,
        "start_time": "2024-07-01T19:45:10.290Z"
      },
      {
        "duration": 1332,
        "start_time": "2024-07-01T19:46:13.057Z"
      },
      {
        "duration": 14,
        "start_time": "2024-07-01T19:46:28.054Z"
      },
      {
        "duration": 56,
        "start_time": "2024-07-01T19:47:09.503Z"
      },
      {
        "duration": 991,
        "start_time": "2024-07-01T19:47:25.157Z"
      },
      {
        "duration": 1422,
        "start_time": "2024-07-01T19:48:11.909Z"
      },
      {
        "duration": 15,
        "start_time": "2024-07-01T19:48:49.133Z"
      },
      {
        "duration": 20,
        "start_time": "2024-07-01T20:19:20.730Z"
      },
      {
        "duration": 17,
        "start_time": "2024-07-01T20:22:38.023Z"
      },
      {
        "duration": 641,
        "start_time": "2024-07-02T02:09:13.203Z"
      },
      {
        "duration": 26,
        "start_time": "2024-07-02T02:09:13.846Z"
      },
      {
        "duration": 14,
        "start_time": "2024-07-02T02:09:13.874Z"
      },
      {
        "duration": 8,
        "start_time": "2024-07-02T02:09:13.890Z"
      },
      {
        "duration": 32,
        "start_time": "2024-07-02T02:09:13.900Z"
      },
      {
        "duration": 3,
        "start_time": "2024-07-02T02:09:13.933Z"
      },
      {
        "duration": 9,
        "start_time": "2024-07-02T02:09:13.937Z"
      },
      {
        "duration": 12,
        "start_time": "2024-07-02T02:09:13.947Z"
      },
      {
        "duration": 14,
        "start_time": "2024-07-02T02:09:13.960Z"
      },
      {
        "duration": 4,
        "start_time": "2024-07-02T02:09:13.975Z"
      },
      {
        "duration": 38,
        "start_time": "2024-07-02T02:09:13.980Z"
      },
      {
        "duration": 8,
        "start_time": "2024-07-02T02:09:14.019Z"
      },
      {
        "duration": 3,
        "start_time": "2024-07-02T02:09:14.028Z"
      },
      {
        "duration": 12,
        "start_time": "2024-07-02T02:09:14.034Z"
      },
      {
        "duration": 19,
        "start_time": "2024-07-02T02:09:14.047Z"
      },
      {
        "duration": 15,
        "start_time": "2024-07-02T02:09:14.068Z"
      },
      {
        "duration": 25,
        "start_time": "2024-07-02T02:09:14.084Z"
      },
      {
        "duration": 11,
        "start_time": "2024-07-02T02:09:14.110Z"
      },
      {
        "duration": 5,
        "start_time": "2024-07-02T02:09:14.122Z"
      },
      {
        "duration": 4,
        "start_time": "2024-07-02T02:09:14.128Z"
      },
      {
        "duration": 35,
        "start_time": "2024-07-02T02:09:14.133Z"
      },
      {
        "duration": 24,
        "start_time": "2024-07-02T02:09:14.170Z"
      },
      {
        "duration": 5,
        "start_time": "2024-07-02T02:09:14.196Z"
      },
      {
        "duration": 49,
        "start_time": "2024-07-02T02:09:14.202Z"
      },
      {
        "duration": 13,
        "start_time": "2024-07-02T02:09:14.252Z"
      },
      {
        "duration": 26,
        "start_time": "2024-07-02T02:09:14.266Z"
      },
      {
        "duration": 662,
        "start_time": "2024-07-03T11:56:15.295Z"
      },
      {
        "duration": 25,
        "start_time": "2024-07-03T11:56:15.960Z"
      },
      {
        "duration": 23,
        "start_time": "2024-07-03T11:56:15.987Z"
      },
      {
        "duration": 13,
        "start_time": "2024-07-03T11:56:16.011Z"
      },
      {
        "duration": 69,
        "start_time": "2024-07-03T11:56:16.026Z"
      },
      {
        "duration": 5,
        "start_time": "2024-07-03T11:56:16.097Z"
      },
      {
        "duration": 35,
        "start_time": "2024-07-03T11:56:16.104Z"
      },
      {
        "duration": 17,
        "start_time": "2024-07-03T11:56:16.141Z"
      },
      {
        "duration": 36,
        "start_time": "2024-07-03T11:56:16.160Z"
      },
      {
        "duration": 4,
        "start_time": "2024-07-03T11:56:16.199Z"
      },
      {
        "duration": 40,
        "start_time": "2024-07-03T11:56:16.205Z"
      },
      {
        "duration": 12,
        "start_time": "2024-07-03T11:56:16.246Z"
      },
      {
        "duration": 19,
        "start_time": "2024-07-03T11:56:16.260Z"
      },
      {
        "duration": 45,
        "start_time": "2024-07-03T11:56:16.282Z"
      },
      {
        "duration": 25,
        "start_time": "2024-07-03T11:56:16.329Z"
      },
      {
        "duration": 18,
        "start_time": "2024-07-03T11:56:16.356Z"
      },
      {
        "duration": 3,
        "start_time": "2024-07-03T11:56:16.376Z"
      },
      {
        "duration": 13,
        "start_time": "2024-07-03T11:56:16.381Z"
      },
      {
        "duration": 6,
        "start_time": "2024-07-03T11:56:16.395Z"
      },
      {
        "duration": 5,
        "start_time": "2024-07-03T11:56:16.403Z"
      },
      {
        "duration": 16,
        "start_time": "2024-07-03T11:56:16.410Z"
      },
      {
        "duration": 20,
        "start_time": "2024-07-03T11:56:16.427Z"
      },
      {
        "duration": 22,
        "start_time": "2024-07-03T11:56:16.448Z"
      },
      {
        "duration": 33,
        "start_time": "2024-07-03T11:56:16.472Z"
      },
      {
        "duration": 37,
        "start_time": "2024-07-03T11:56:16.507Z"
      },
      {
        "duration": 19,
        "start_time": "2024-07-03T11:56:16.547Z"
      },
      {
        "duration": 87,
        "start_time": "2024-07-03T11:56:52.822Z"
      },
      {
        "duration": 59,
        "start_time": "2024-07-03T11:57:20.778Z"
      },
      {
        "duration": 5,
        "start_time": "2024-07-03T11:57:57.813Z"
      },
      {
        "duration": 4,
        "start_time": "2024-07-03T11:59:51.052Z"
      },
      {
        "duration": 89,
        "start_time": "2024-07-03T12:00:39.817Z"
      },
      {
        "duration": 4,
        "start_time": "2024-07-03T12:01:40.862Z"
      },
      {
        "duration": 17,
        "start_time": "2024-07-03T12:01:48.041Z"
      },
      {
        "duration": 28,
        "start_time": "2024-07-03T12:11:06.637Z"
      },
      {
        "duration": 18,
        "start_time": "2024-07-03T12:11:11.102Z"
      },
      {
        "duration": 19,
        "start_time": "2024-07-03T12:12:20.713Z"
      },
      {
        "duration": 18,
        "start_time": "2024-07-03T12:12:24.238Z"
      },
      {
        "duration": 22,
        "start_time": "2024-07-03T12:12:29.783Z"
      },
      {
        "duration": 80,
        "start_time": "2024-07-03T12:17:02.668Z"
      },
      {
        "duration": 21,
        "start_time": "2024-07-03T12:17:02.750Z"
      },
      {
        "duration": 16,
        "start_time": "2024-07-03T12:17:02.772Z"
      },
      {
        "duration": 13,
        "start_time": "2024-07-03T12:17:02.790Z"
      },
      {
        "duration": 35,
        "start_time": "2024-07-03T12:17:02.805Z"
      },
      {
        "duration": 24,
        "start_time": "2024-07-03T12:17:02.842Z"
      },
      {
        "duration": 10,
        "start_time": "2024-07-03T12:17:02.868Z"
      },
      {
        "duration": 7,
        "start_time": "2024-07-03T12:17:02.879Z"
      },
      {
        "duration": 30,
        "start_time": "2024-07-03T12:17:02.888Z"
      },
      {
        "duration": 63,
        "start_time": "2024-07-03T12:17:02.920Z"
      },
      {
        "duration": 43,
        "start_time": "2024-07-03T12:17:02.985Z"
      },
      {
        "duration": 10,
        "start_time": "2024-07-03T12:17:03.030Z"
      },
      {
        "duration": 23,
        "start_time": "2024-07-03T12:17:03.042Z"
      },
      {
        "duration": 77,
        "start_time": "2024-07-03T12:17:03.067Z"
      },
      {
        "duration": 46,
        "start_time": "2024-07-03T12:17:03.145Z"
      },
      {
        "duration": 17,
        "start_time": "2024-07-03T12:17:03.193Z"
      },
      {
        "duration": 12,
        "start_time": "2024-07-03T12:17:03.211Z"
      },
      {
        "duration": 92,
        "start_time": "2024-07-03T12:17:03.225Z"
      },
      {
        "duration": 7,
        "start_time": "2024-07-03T12:17:03.319Z"
      },
      {
        "duration": 3,
        "start_time": "2024-07-03T12:17:03.328Z"
      },
      {
        "duration": 10,
        "start_time": "2024-07-03T12:17:03.333Z"
      },
      {
        "duration": 18,
        "start_time": "2024-07-03T12:17:03.344Z"
      },
      {
        "duration": 6,
        "start_time": "2024-07-03T12:17:03.364Z"
      },
      {
        "duration": 21,
        "start_time": "2024-07-03T12:17:03.371Z"
      },
      {
        "duration": 25,
        "start_time": "2024-07-03T12:17:03.394Z"
      },
      {
        "duration": 17,
        "start_time": "2024-07-03T12:17:03.420Z"
      },
      {
        "duration": 27,
        "start_time": "2024-07-03T12:18:36.857Z"
      },
      {
        "duration": 10,
        "start_time": "2024-07-03T12:21:57.858Z"
      },
      {
        "duration": 11,
        "start_time": "2024-07-03T12:22:07.957Z"
      },
      {
        "duration": 60,
        "start_time": "2024-07-03T12:31:47.926Z"
      },
      {
        "duration": 70,
        "start_time": "2024-07-03T12:45:22.187Z"
      },
      {
        "duration": 78,
        "start_time": "2024-07-03T12:47:46.402Z"
      },
      {
        "duration": 17,
        "start_time": "2024-07-03T12:47:46.482Z"
      },
      {
        "duration": 18,
        "start_time": "2024-07-03T12:47:46.501Z"
      },
      {
        "duration": 12,
        "start_time": "2024-07-03T12:47:46.521Z"
      },
      {
        "duration": 59,
        "start_time": "2024-07-03T12:47:46.534Z"
      },
      {
        "duration": 3,
        "start_time": "2024-07-03T12:47:46.595Z"
      },
      {
        "duration": 17,
        "start_time": "2024-07-03T12:47:46.600Z"
      },
      {
        "duration": 4,
        "start_time": "2024-07-03T12:47:46.618Z"
      },
      {
        "duration": 6,
        "start_time": "2024-07-03T12:47:46.624Z"
      },
      {
        "duration": 4,
        "start_time": "2024-07-03T12:47:46.633Z"
      },
      {
        "duration": 56,
        "start_time": "2024-07-03T12:47:46.638Z"
      },
      {
        "duration": 11,
        "start_time": "2024-07-03T12:47:46.696Z"
      },
      {
        "duration": 9,
        "start_time": "2024-07-03T12:47:46.709Z"
      },
      {
        "duration": 11,
        "start_time": "2024-07-03T12:47:46.719Z"
      },
      {
        "duration": 48,
        "start_time": "2024-07-03T12:47:46.731Z"
      },
      {
        "duration": 17,
        "start_time": "2024-07-03T12:47:46.780Z"
      },
      {
        "duration": 3,
        "start_time": "2024-07-03T12:47:46.799Z"
      },
      {
        "duration": 12,
        "start_time": "2024-07-03T12:47:46.804Z"
      },
      {
        "duration": 5,
        "start_time": "2024-07-03T12:47:46.818Z"
      },
      {
        "duration": 3,
        "start_time": "2024-07-03T12:47:46.825Z"
      },
      {
        "duration": 42,
        "start_time": "2024-07-03T12:47:46.830Z"
      },
      {
        "duration": 62,
        "start_time": "2024-07-03T12:47:46.874Z"
      },
      {
        "duration": 0,
        "start_time": "2024-07-03T12:47:46.937Z"
      },
      {
        "duration": 0,
        "start_time": "2024-07-03T12:47:46.939Z"
      },
      {
        "duration": 0,
        "start_time": "2024-07-03T12:47:46.940Z"
      },
      {
        "duration": 0,
        "start_time": "2024-07-03T12:47:46.941Z"
      },
      {
        "duration": 0,
        "start_time": "2024-07-03T12:47:46.943Z"
      },
      {
        "duration": 9,
        "start_time": "2024-07-03T12:48:35.287Z"
      },
      {
        "duration": 53,
        "start_time": "2024-07-03T13:14:26.941Z"
      },
      {
        "duration": 68,
        "start_time": "2024-07-03T13:40:10.777Z"
      },
      {
        "duration": 80,
        "start_time": "2024-07-03T13:40:23.500Z"
      },
      {
        "duration": 16,
        "start_time": "2024-07-03T13:40:23.582Z"
      },
      {
        "duration": 39,
        "start_time": "2024-07-03T13:40:23.600Z"
      },
      {
        "duration": 11,
        "start_time": "2024-07-03T13:40:23.640Z"
      },
      {
        "duration": 43,
        "start_time": "2024-07-03T13:40:23.654Z"
      },
      {
        "duration": 4,
        "start_time": "2024-07-03T13:40:23.698Z"
      },
      {
        "duration": 9,
        "start_time": "2024-07-03T13:40:23.703Z"
      },
      {
        "duration": 5,
        "start_time": "2024-07-03T13:40:23.713Z"
      },
      {
        "duration": 11,
        "start_time": "2024-07-03T13:40:23.719Z"
      },
      {
        "duration": 5,
        "start_time": "2024-07-03T13:40:23.731Z"
      },
      {
        "duration": 58,
        "start_time": "2024-07-03T13:40:23.737Z"
      },
      {
        "duration": 16,
        "start_time": "2024-07-03T13:40:23.797Z"
      },
      {
        "duration": 5,
        "start_time": "2024-07-03T13:40:23.815Z"
      },
      {
        "duration": 14,
        "start_time": "2024-07-03T13:40:23.823Z"
      },
      {
        "duration": 21,
        "start_time": "2024-07-03T13:40:23.865Z"
      },
      {
        "duration": 18,
        "start_time": "2024-07-03T13:40:23.887Z"
      },
      {
        "duration": 3,
        "start_time": "2024-07-03T13:40:23.907Z"
      },
      {
        "duration": 12,
        "start_time": "2024-07-03T13:40:23.912Z"
      },
      {
        "duration": 6,
        "start_time": "2024-07-03T13:40:23.926Z"
      },
      {
        "duration": 35,
        "start_time": "2024-07-03T13:40:23.933Z"
      },
      {
        "duration": 16,
        "start_time": "2024-07-03T13:40:23.969Z"
      },
      {
        "duration": 55,
        "start_time": "2024-07-03T13:40:23.987Z"
      },
      {
        "duration": 0,
        "start_time": "2024-07-03T13:40:24.044Z"
      },
      {
        "duration": 0,
        "start_time": "2024-07-03T13:40:24.045Z"
      },
      {
        "duration": 0,
        "start_time": "2024-07-03T13:40:24.046Z"
      },
      {
        "duration": 0,
        "start_time": "2024-07-03T13:40:24.047Z"
      },
      {
        "duration": 0,
        "start_time": "2024-07-03T13:40:24.048Z"
      },
      {
        "duration": 0,
        "start_time": "2024-07-03T13:40:24.049Z"
      },
      {
        "duration": 9,
        "start_time": "2024-07-03T13:40:37.647Z"
      },
      {
        "duration": 21,
        "start_time": "2024-07-03T13:40:45.229Z"
      },
      {
        "duration": 79,
        "start_time": "2024-07-03T13:41:27.829Z"
      },
      {
        "duration": 22,
        "start_time": "2024-07-03T13:41:27.910Z"
      },
      {
        "duration": 53,
        "start_time": "2024-07-03T13:41:27.934Z"
      },
      {
        "duration": 11,
        "start_time": "2024-07-03T13:41:27.989Z"
      },
      {
        "duration": 63,
        "start_time": "2024-07-03T13:41:28.002Z"
      },
      {
        "duration": 3,
        "start_time": "2024-07-03T13:41:28.067Z"
      },
      {
        "duration": 26,
        "start_time": "2024-07-03T13:41:28.071Z"
      },
      {
        "duration": 13,
        "start_time": "2024-07-03T13:41:28.099Z"
      },
      {
        "duration": 18,
        "start_time": "2024-07-03T13:41:28.114Z"
      },
      {
        "duration": 27,
        "start_time": "2024-07-03T13:41:28.135Z"
      },
      {
        "duration": 75,
        "start_time": "2024-07-03T13:41:28.164Z"
      },
      {
        "duration": 11,
        "start_time": "2024-07-03T13:41:28.240Z"
      },
      {
        "duration": 22,
        "start_time": "2024-07-03T13:41:28.252Z"
      },
      {
        "duration": 34,
        "start_time": "2024-07-03T13:41:28.275Z"
      },
      {
        "duration": 22,
        "start_time": "2024-07-03T13:41:28.311Z"
      },
      {
        "duration": 35,
        "start_time": "2024-07-03T13:41:28.335Z"
      },
      {
        "duration": 6,
        "start_time": "2024-07-03T13:41:28.371Z"
      },
      {
        "duration": 29,
        "start_time": "2024-07-03T13:41:28.379Z"
      },
      {
        "duration": 24,
        "start_time": "2024-07-03T13:41:28.409Z"
      },
      {
        "duration": 3,
        "start_time": "2024-07-03T13:41:28.435Z"
      },
      {
        "duration": 9,
        "start_time": "2024-07-03T13:41:28.440Z"
      },
      {
        "duration": 5,
        "start_time": "2024-07-03T13:41:28.451Z"
      },
      {
        "duration": 13,
        "start_time": "2024-07-03T13:41:28.458Z"
      },
      {
        "duration": 7,
        "start_time": "2024-07-03T13:41:28.473Z"
      },
      {
        "duration": 29,
        "start_time": "2024-07-03T13:41:28.482Z"
      },
      {
        "duration": 17,
        "start_time": "2024-07-03T13:41:28.513Z"
      },
      {
        "duration": 42,
        "start_time": "2024-07-03T13:41:28.532Z"
      },
      {
        "duration": 0,
        "start_time": "2024-07-03T13:41:28.576Z"
      },
      {
        "duration": 62,
        "start_time": "2024-07-03T13:42:32.959Z"
      },
      {
        "duration": 21,
        "start_time": "2024-07-03T13:42:41.576Z"
      },
      {
        "duration": 79,
        "start_time": "2024-07-03T13:42:58.056Z"
      },
      {
        "duration": 16,
        "start_time": "2024-07-03T13:42:58.137Z"
      },
      {
        "duration": 22,
        "start_time": "2024-07-03T13:42:58.154Z"
      },
      {
        "duration": 10,
        "start_time": "2024-07-03T13:42:58.179Z"
      },
      {
        "duration": 38,
        "start_time": "2024-07-03T13:42:58.191Z"
      },
      {
        "duration": 3,
        "start_time": "2024-07-03T13:42:58.231Z"
      },
      {
        "duration": 31,
        "start_time": "2024-07-03T13:42:58.235Z"
      },
      {
        "duration": 5,
        "start_time": "2024-07-03T13:42:58.267Z"
      },
      {
        "duration": 6,
        "start_time": "2024-07-03T13:42:58.273Z"
      },
      {
        "duration": 4,
        "start_time": "2024-07-03T13:42:58.281Z"
      },
      {
        "duration": 38,
        "start_time": "2024-07-03T13:42:58.287Z"
      },
      {
        "duration": 41,
        "start_time": "2024-07-03T13:42:58.326Z"
      },
      {
        "duration": 3,
        "start_time": "2024-07-03T13:42:58.368Z"
      },
      {
        "duration": 28,
        "start_time": "2024-07-03T13:42:58.373Z"
      },
      {
        "duration": 20,
        "start_time": "2024-07-03T13:42:58.403Z"
      },
      {
        "duration": 16,
        "start_time": "2024-07-03T13:42:58.424Z"
      },
      {
        "duration": 3,
        "start_time": "2024-07-03T13:42:58.442Z"
      },
      {
        "duration": 21,
        "start_time": "2024-07-03T13:42:58.446Z"
      },
      {
        "duration": 72,
        "start_time": "2024-07-03T13:42:58.468Z"
      },
      {
        "duration": 7,
        "start_time": "2024-07-03T13:42:58.542Z"
      },
      {
        "duration": 48,
        "start_time": "2024-07-03T13:42:58.551Z"
      },
      {
        "duration": 6,
        "start_time": "2024-07-03T13:42:58.601Z"
      },
      {
        "duration": 15,
        "start_time": "2024-07-03T13:42:58.608Z"
      },
      {
        "duration": 6,
        "start_time": "2024-07-03T13:42:58.625Z"
      },
      {
        "duration": 21,
        "start_time": "2024-07-03T13:42:58.632Z"
      },
      {
        "duration": 16,
        "start_time": "2024-07-03T13:42:58.655Z"
      },
      {
        "duration": 22,
        "start_time": "2024-07-03T13:42:58.673Z"
      },
      {
        "duration": 0,
        "start_time": "2024-07-03T13:42:58.696Z"
      },
      {
        "duration": 8,
        "start_time": "2024-07-03T13:43:35.921Z"
      },
      {
        "duration": 19,
        "start_time": "2024-07-03T13:43:59.211Z"
      },
      {
        "duration": 18,
        "start_time": "2024-07-03T13:44:05.319Z"
      },
      {
        "duration": 21,
        "start_time": "2024-07-03T13:44:10.495Z"
      },
      {
        "duration": 22,
        "start_time": "2024-07-03T13:44:14.167Z"
      },
      {
        "duration": 30,
        "start_time": "2024-07-03T13:44:32.070Z"
      },
      {
        "duration": 81,
        "start_time": "2024-07-03T14:00:06.387Z"
      },
      {
        "duration": 18,
        "start_time": "2024-07-03T14:00:06.470Z"
      },
      {
        "duration": 46,
        "start_time": "2024-07-03T14:00:06.490Z"
      },
      {
        "duration": 72,
        "start_time": "2024-07-03T14:00:06.538Z"
      },
      {
        "duration": 58,
        "start_time": "2024-07-03T14:00:06.612Z"
      },
      {
        "duration": 4,
        "start_time": "2024-07-03T14:00:06.671Z"
      },
      {
        "duration": 15,
        "start_time": "2024-07-03T14:00:06.678Z"
      },
      {
        "duration": 5,
        "start_time": "2024-07-03T14:00:06.696Z"
      },
      {
        "duration": 8,
        "start_time": "2024-07-03T14:00:06.703Z"
      },
      {
        "duration": 5,
        "start_time": "2024-07-03T14:00:06.715Z"
      },
      {
        "duration": 86,
        "start_time": "2024-07-03T14:00:06.721Z"
      },
      {
        "duration": 11,
        "start_time": "2024-07-03T14:00:06.809Z"
      },
      {
        "duration": 8,
        "start_time": "2024-07-03T14:00:06.821Z"
      },
      {
        "duration": 15,
        "start_time": "2024-07-03T14:00:06.831Z"
      },
      {
        "duration": 33,
        "start_time": "2024-07-03T14:00:06.848Z"
      },
      {
        "duration": 19,
        "start_time": "2024-07-03T14:00:06.883Z"
      },
      {
        "duration": 4,
        "start_time": "2024-07-03T14:00:06.903Z"
      },
      {
        "duration": 20,
        "start_time": "2024-07-03T14:00:06.909Z"
      },
      {
        "duration": 8,
        "start_time": "2024-07-03T14:00:06.931Z"
      },
      {
        "duration": 7,
        "start_time": "2024-07-03T14:00:06.940Z"
      },
      {
        "duration": 24,
        "start_time": "2024-07-03T14:00:06.948Z"
      },
      {
        "duration": 6,
        "start_time": "2024-07-03T14:00:06.975Z"
      },
      {
        "duration": 34,
        "start_time": "2024-07-03T14:00:06.983Z"
      },
      {
        "duration": 7,
        "start_time": "2024-07-03T14:00:07.019Z"
      },
      {
        "duration": 55,
        "start_time": "2024-07-03T14:00:07.028Z"
      },
      {
        "duration": 19,
        "start_time": "2024-07-03T14:00:07.085Z"
      },
      {
        "duration": 5,
        "start_time": "2024-07-03T14:00:07.105Z"
      },
      {
        "duration": 27,
        "start_time": "2024-07-03T14:00:07.113Z"
      }
    ],
    "colab": {
      "provenance": []
    },
    "kernelspec": {
      "display_name": "Python 3 (ipykernel)",
      "language": "python",
      "name": "python3"
    },
    "language_info": {
      "codemirror_mode": {
        "name": "ipython",
        "version": 3
      },
      "file_extension": ".py",
      "mimetype": "text/x-python",
      "name": "python",
      "nbconvert_exporter": "python",
      "pygments_lexer": "ipython3",
      "version": "3.9.5"
    },
    "toc": {
      "base_numbering": 1,
      "nav_menu": {},
      "number_sections": true,
      "sideBar": true,
      "skip_h1_title": true,
      "title_cell": "Table of Contents",
      "title_sidebar": "Contents",
      "toc_cell": false,
      "toc_position": {},
      "toc_section_display": true,
      "toc_window_display": true
    }
  },
  "nbformat": 4,
  "nbformat_minor": 5
}