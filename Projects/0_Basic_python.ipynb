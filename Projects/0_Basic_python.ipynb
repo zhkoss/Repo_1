{
  "cells": [
    {
      "cell_type": "markdown",
      "metadata": {
        "id": "view-in-github",
        "colab_type": "text"
      },
      "source": [
        "<a href=\"https://colab.research.google.com/github/zhkoss/Repo_1/blob/main/Projects/0_Basic_python.ipynb\" target=\"_parent\"><img src=\"https://colab.research.google.com/assets/colab-badge.svg\" alt=\"Open In Colab\"/></a>"
      ]
    },
    {
      "cell_type": "markdown",
      "metadata": {
        "deletable": false,
        "editable": false,
        "id": "E0vqbgi9ay0H"
      },
      "source": [
        "# Яндекс Музыка"
      ]
    },
    {
      "cell_type": "markdown",
      "metadata": {
        "deletable": false,
        "editable": false,
        "id": "VUC88oWjTJw2"
      },
      "source": [
        "Сравнение Москвы и Петербурга окружено мифами. Например:\n",
        " * Москва — мегаполис, подчинённый жёсткому ритму рабочей недели;\n",
        " * Петербург — культурная столица, со своими вкусами.\n",
        "\n",
        "На данных Яндекс Музыки вы сравните поведение пользователей двух столиц.\n",
        "\n",
        "**Цель исследования** — проверьте три гипотезы:\n",
        "1. Активность пользователей зависит от дня недели. Причём в Москве и Петербурге это проявляется по-разному.\n",
        "2. В понедельник утром в Москве преобладают одни жанры, а в Петербурге — другие. Так же и вечером пятницы преобладают разные жанры — в зависимости от города.\n",
        "3. Москва и Петербург предпочитают разные жанры музыки. В Москве чаще слушают поп-музыку, в Петербурге — русский рэп.\n",
        "\n",
        "**Ход исследования**\n",
        "\n",
        "Данные о поведении пользователей вы получите из файла `yandex_music_project.csv`. О качестве данных ничего не известно. Поэтому перед проверкой гипотез понадобится обзор данных.\n",
        "\n",
        "Вы проверите данные на ошибки и оцените их влияние на исследование. Затем, на этапе предобработки вы поищете возможность исправить самые критичные ошибки данных.\n",
        "\n",
        "Таким образом, исследование пройдёт в три этапа:\n",
        " 1. Обзор данных.\n",
        " 2. Предобработка данных.\n",
        " 3. Проверка гипотез.\n",
        "\n"
      ]
    },
    {
      "cell_type": "markdown",
      "metadata": {
        "deletable": false,
        "editable": false,
        "id": "Ml1hmfXC_Zcs"
      },
      "source": [
        "## Обзор данных\n",
        "\n",
        "Составьте первое представление о данных Яндекс Музыки.\n",
        "\n",
        "\n"
      ]
    },
    {
      "cell_type": "markdown",
      "metadata": {
        "deletable": false,
        "editable": false,
        "id": "57eAOGIz_Zcs",
        "tags": [
          "start_task"
        ]
      },
      "source": [
        "**Задание 1**"
      ]
    },
    {
      "cell_type": "code",
      "execution_count": null,
      "metadata": {
        "deletable": false,
        "id": "AXN7PHPN_Zcs"
      },
      "outputs": [],
      "source": [
        "import pandas as pd # импорт библиотеки pandas"
      ]
    },
    {
      "cell_type": "markdown",
      "metadata": {
        "deletable": false,
        "editable": false,
        "id": "SG23P8tt_Zcs",
        "tags": [
          "start_task"
        ]
      },
      "source": [
        "**Задание 2**"
      ]
    },
    {
      "cell_type": "code",
      "execution_count": null,
      "metadata": {
        "deletable": false,
        "id": "fFVu7vqh_Zct"
      },
      "outputs": [],
      "source": [
        "df = pd.read_csv('/datasets/yandex_music_project.csv') # чтение файла с данными и сохранение в df"
      ]
    },
    {
      "cell_type": "markdown",
      "metadata": {
        "deletable": false,
        "editable": false,
        "id": "rDoOMd3uTqnZ",
        "tags": [
          "start_task"
        ]
      },
      "source": [
        "**Задание 3**"
      ]
    },
    {
      "cell_type": "code",
      "execution_count": null,
      "metadata": {
        "deletable": false,
        "id": "oWTVX3gW_Zct",
        "outputId": "52555182-d3a7-4b61-ae50-6ead1ff58268"
      },
      "outputs": [
        {
          "data": {
            "text/html": [
              "<div>\n",
              "<style scoped>\n",
              "    .dataframe tbody tr th:only-of-type {\n",
              "        vertical-align: middle;\n",
              "    }\n",
              "\n",
              "    .dataframe tbody tr th {\n",
              "        vertical-align: top;\n",
              "    }\n",
              "\n",
              "    .dataframe thead th {\n",
              "        text-align: right;\n",
              "    }\n",
              "</style>\n",
              "<table border=\"1\" class=\"dataframe\">\n",
              "  <thead>\n",
              "    <tr style=\"text-align: right;\">\n",
              "      <th></th>\n",
              "      <th>userID</th>\n",
              "      <th>Track</th>\n",
              "      <th>artist</th>\n",
              "      <th>genre</th>\n",
              "      <th>City</th>\n",
              "      <th>time</th>\n",
              "      <th>Day</th>\n",
              "    </tr>\n",
              "  </thead>\n",
              "  <tbody>\n",
              "    <tr>\n",
              "      <th>0</th>\n",
              "      <td>FFB692EC</td>\n",
              "      <td>Kamigata To Boots</td>\n",
              "      <td>The Mass Missile</td>\n",
              "      <td>rock</td>\n",
              "      <td>Saint-Petersburg</td>\n",
              "      <td>20:28:33</td>\n",
              "      <td>Wednesday</td>\n",
              "    </tr>\n",
              "    <tr>\n",
              "      <th>1</th>\n",
              "      <td>55204538</td>\n",
              "      <td>Delayed Because of Accident</td>\n",
              "      <td>Andreas Rönnberg</td>\n",
              "      <td>rock</td>\n",
              "      <td>Moscow</td>\n",
              "      <td>14:07:09</td>\n",
              "      <td>Friday</td>\n",
              "    </tr>\n",
              "    <tr>\n",
              "      <th>2</th>\n",
              "      <td>20EC38</td>\n",
              "      <td>Funiculì funiculà</td>\n",
              "      <td>Mario Lanza</td>\n",
              "      <td>pop</td>\n",
              "      <td>Saint-Petersburg</td>\n",
              "      <td>20:58:07</td>\n",
              "      <td>Wednesday</td>\n",
              "    </tr>\n",
              "    <tr>\n",
              "      <th>3</th>\n",
              "      <td>A3DD03C9</td>\n",
              "      <td>Dragons in the Sunset</td>\n",
              "      <td>Fire + Ice</td>\n",
              "      <td>folk</td>\n",
              "      <td>Saint-Petersburg</td>\n",
              "      <td>08:37:09</td>\n",
              "      <td>Monday</td>\n",
              "    </tr>\n",
              "    <tr>\n",
              "      <th>4</th>\n",
              "      <td>E2DC1FAE</td>\n",
              "      <td>Soul People</td>\n",
              "      <td>Space Echo</td>\n",
              "      <td>dance</td>\n",
              "      <td>Moscow</td>\n",
              "      <td>08:34:34</td>\n",
              "      <td>Monday</td>\n",
              "    </tr>\n",
              "    <tr>\n",
              "      <th>5</th>\n",
              "      <td>842029A1</td>\n",
              "      <td>Преданная</td>\n",
              "      <td>IMPERVTOR</td>\n",
              "      <td>rusrap</td>\n",
              "      <td>Saint-Petersburg</td>\n",
              "      <td>13:09:41</td>\n",
              "      <td>Friday</td>\n",
              "    </tr>\n",
              "    <tr>\n",
              "      <th>6</th>\n",
              "      <td>4CB90AA5</td>\n",
              "      <td>True</td>\n",
              "      <td>Roman Messer</td>\n",
              "      <td>dance</td>\n",
              "      <td>Moscow</td>\n",
              "      <td>13:00:07</td>\n",
              "      <td>Wednesday</td>\n",
              "    </tr>\n",
              "    <tr>\n",
              "      <th>7</th>\n",
              "      <td>F03E1C1F</td>\n",
              "      <td>Feeling This Way</td>\n",
              "      <td>Polina Griffith</td>\n",
              "      <td>dance</td>\n",
              "      <td>Moscow</td>\n",
              "      <td>20:47:49</td>\n",
              "      <td>Wednesday</td>\n",
              "    </tr>\n",
              "    <tr>\n",
              "      <th>8</th>\n",
              "      <td>8FA1D3BE</td>\n",
              "      <td>И вновь продолжается бой</td>\n",
              "      <td>NaN</td>\n",
              "      <td>ruspop</td>\n",
              "      <td>Moscow</td>\n",
              "      <td>09:17:40</td>\n",
              "      <td>Friday</td>\n",
              "    </tr>\n",
              "    <tr>\n",
              "      <th>9</th>\n",
              "      <td>E772D5C0</td>\n",
              "      <td>Pessimist</td>\n",
              "      <td>NaN</td>\n",
              "      <td>dance</td>\n",
              "      <td>Saint-Petersburg</td>\n",
              "      <td>21:20:49</td>\n",
              "      <td>Wednesday</td>\n",
              "    </tr>\n",
              "  </tbody>\n",
              "</table>\n",
              "</div>"
            ],
            "text/plain": [
              "     userID                        Track            artist   genre  \\\n",
              "0  FFB692EC            Kamigata To Boots  The Mass Missile    rock   \n",
              "1  55204538  Delayed Because of Accident  Andreas Rönnberg    rock   \n",
              "2    20EC38            Funiculì funiculà       Mario Lanza     pop   \n",
              "3  A3DD03C9        Dragons in the Sunset        Fire + Ice    folk   \n",
              "4  E2DC1FAE                  Soul People        Space Echo   dance   \n",
              "5  842029A1                    Преданная         IMPERVTOR  rusrap   \n",
              "6  4CB90AA5                         True      Roman Messer   dance   \n",
              "7  F03E1C1F             Feeling This Way   Polina Griffith   dance   \n",
              "8  8FA1D3BE     И вновь продолжается бой               NaN  ruspop   \n",
              "9  E772D5C0                    Pessimist               NaN   dance   \n",
              "\n",
              "             City        time        Day  \n",
              "0  Saint-Petersburg  20:28:33  Wednesday  \n",
              "1            Moscow  14:07:09     Friday  \n",
              "2  Saint-Petersburg  20:58:07  Wednesday  \n",
              "3  Saint-Petersburg  08:37:09     Monday  \n",
              "4            Moscow  08:34:34     Monday  \n",
              "5  Saint-Petersburg  13:09:41     Friday  \n",
              "6            Moscow  13:00:07  Wednesday  \n",
              "7            Moscow  20:47:49  Wednesday  \n",
              "8            Moscow  09:17:40     Friday  \n",
              "9  Saint-Petersburg  21:20:49  Wednesday  "
            ]
          },
          "execution_count": 3,
          "metadata": {},
          "output_type": "execute_result"
        }
      ],
      "source": [
        "df.head(10) # получение первых 10 строк таблицы df"
      ]
    },
    {
      "cell_type": "markdown",
      "metadata": {
        "deletable": false,
        "editable": false,
        "id": "EO73Kwic_Zct",
        "tags": [
          "start_task"
        ]
      },
      "source": [
        "**Задание 4**"
      ]
    },
    {
      "cell_type": "code",
      "execution_count": null,
      "metadata": {
        "deletable": false,
        "id": "DSf2kIb-_Zct",
        "outputId": "001fde13-e52e-4bc4-d51b-c6906f54ba8d"
      },
      "outputs": [
        {
          "name": "stdout",
          "output_type": "stream",
          "text": [
            "<class 'pandas.core.frame.DataFrame'>\n",
            "RangeIndex: 65079 entries, 0 to 65078\n",
            "Data columns (total 7 columns):\n",
            " #   Column    Non-Null Count  Dtype \n",
            "---  ------    --------------  ----- \n",
            " 0     userID  65079 non-null  object\n",
            " 1   Track     63848 non-null  object\n",
            " 2   artist    57876 non-null  object\n",
            " 3   genre     63881 non-null  object\n",
            " 4     City    65079 non-null  object\n",
            " 5   time      65079 non-null  object\n",
            " 6   Day       65079 non-null  object\n",
            "dtypes: object(7)\n",
            "memory usage: 3.5+ MB\n"
          ]
        }
      ],
      "source": [
        "df.info() # получение общей информации о данных в таблице df"
      ]
    },
    {
      "cell_type": "markdown",
      "metadata": {
        "deletable": false,
        "editable": false,
        "id": "TaQ2Iwbr_Zct"
      },
      "source": [
        "Количество значений в столбцах различается. Значит, в данных есть пропущенные значения."
      ]
    },
    {
      "cell_type": "markdown",
      "metadata": {
        "deletable": false,
        "editable": false,
        "id": "4P0UCWzswgEm",
        "tags": [
          "start_task"
        ]
      },
      "source": [
        "**Задание 5**"
      ]
    },
    {
      "cell_type": "code",
      "execution_count": null,
      "metadata": {
        "id": "c137-ZstwgEm"
      },
      "outputs": [],
      "source": [
        "# Наименование колонок представлено не в стиле \"змеиный регистр\". # Напишите ваш ответ здесь комментарием. Не удаляйте символ #. Не меняйте тип этой ячейки на Markdown."
      ]
    },
    {
      "cell_type": "markdown",
      "metadata": {
        "deletable": false,
        "editable": false,
        "id": "MCB6-dXG_Zct"
      },
      "source": [
        "**Выводы**\n",
        "\n",
        "В каждой строке таблицы — данные о прослушанном треке. Часть колонок описывает саму композицию: название, исполнителя и жанр. Остальные данные рассказывают о пользователе: из какого он города, когда он слушал музыку.\n",
        "\n",
        "Предварительно можно утверждать, что данных достаточно для проверки гипотез. Но встречаются пропуски в данных, а в названиях колонок — расхождения с хорошим стилем.\n",
        "\n",
        "Чтобы двигаться дальше, нужно устранить проблемы в данных."
      ]
    },
    {
      "cell_type": "markdown",
      "metadata": {
        "deletable": false,
        "editable": false,
        "id": "SjYF6Ub9_Zct"
      },
      "source": [
        "## Предобработка данных"
      ]
    },
    {
      "cell_type": "markdown",
      "metadata": {
        "deletable": false,
        "editable": false,
        "id": "dIaKXr29_Zct",
        "tags": [
          "start_task"
        ]
      },
      "source": [
        "### Переименование столбцов\n",
        "\n",
        "**Задание 6**"
      ]
    },
    {
      "cell_type": "code",
      "execution_count": null,
      "metadata": {
        "deletable": false,
        "id": "oKOTdF_Q_Zct",
        "outputId": "95e6e736-2a00-4ab3-f251-6fce92a6bedb"
      },
      "outputs": [
        {
          "data": {
            "text/plain": [
              "Index(['  userID', 'Track', 'artist', 'genre', '  City  ', 'time', 'Day'], dtype='object')"
            ]
          },
          "execution_count": 6,
          "metadata": {},
          "output_type": "execute_result"
        }
      ],
      "source": [
        "df.columns # перечень названий столбцов таблицы df"
      ]
    },
    {
      "cell_type": "markdown",
      "metadata": {
        "deletable": false,
        "editable": false,
        "id": "zj5534cv_Zct",
        "tags": [
          "start_task"
        ]
      },
      "source": [
        "**Задание 7**"
      ]
    },
    {
      "cell_type": "code",
      "execution_count": null,
      "metadata": {
        "deletable": false,
        "id": "ISlFqs5y_Zct"
      },
      "outputs": [],
      "source": [
        "df = df.rename(\n",
        "    columns={\n",
        "        '  userID': 'user_id',\n",
        "        'Track': 'track',\n",
        "        '  City  ': 'city',\n",
        "        'Day': 'day',\n",
        "    }\n",
        ")\n",
        "# переименование столбцов"
      ]
    },
    {
      "cell_type": "markdown",
      "metadata": {
        "deletable": false,
        "editable": false,
        "id": "1dqbh00J_Zct",
        "tags": [
          "start_task"
        ]
      },
      "source": [
        "**Задание 8**"
      ]
    },
    {
      "cell_type": "code",
      "execution_count": null,
      "metadata": {
        "deletable": false,
        "id": "d4NOAmTW_Zct",
        "outputId": "a450ac86-79ab-4673-9246-8fa5a20b6e31"
      },
      "outputs": [
        {
          "data": {
            "text/plain": [
              "Index(['user_id', 'track', 'artist', 'genre', 'city', 'time', 'day'], dtype='object')"
            ]
          },
          "execution_count": 8,
          "metadata": {},
          "output_type": "execute_result"
        }
      ],
      "source": [
        "df.columns # проверка результатов - перечень названий столбцов"
      ]
    },
    {
      "cell_type": "markdown",
      "metadata": {
        "deletable": false,
        "editable": false,
        "id": "5ISfbcfY_Zct",
        "tags": [
          "start_task"
        ]
      },
      "source": [
        "### Обработка пропущенных значений\n",
        "\n",
        "**Задание 9**"
      ]
    },
    {
      "cell_type": "code",
      "execution_count": null,
      "metadata": {
        "deletable": false,
        "id": "RskX29qr_Zct",
        "scrolled": true,
        "outputId": "d21a92cf-f653-4153-b569-5dee0345b33f"
      },
      "outputs": [
        {
          "data": {
            "text/plain": [
              "user_id       0\n",
              "track      1231\n",
              "artist     7203\n",
              "genre      1198\n",
              "city          0\n",
              "time          0\n",
              "day           0\n",
              "dtype: int64"
            ]
          },
          "execution_count": 9,
          "metadata": {},
          "output_type": "execute_result"
        }
      ],
      "source": [
        "df.isna().sum() # подсчёт пропусков"
      ]
    },
    {
      "cell_type": "markdown",
      "metadata": {
        "deletable": false,
        "editable": false,
        "id": "fSv2laPA_Zct",
        "tags": [
          "start_task"
        ]
      },
      "source": [
        "**Задание 10**"
      ]
    },
    {
      "cell_type": "code",
      "execution_count": null,
      "metadata": {
        "deletable": false,
        "id": "KplB5qWs_Zct"
      },
      "outputs": [],
      "source": [
        "columns_to_replace = ['track', 'artist', 'genre']\n",
        "for column in columns_to_replace:\n",
        "   df[column] = df[column].fillna('unknown') # замена пропущенных значений на 'unknown'"
      ]
    },
    {
      "cell_type": "markdown",
      "metadata": {
        "deletable": false,
        "editable": false,
        "id": "Ilsm-MZo_Zct",
        "tags": [
          "start_task"
        ]
      },
      "source": [
        "**Задание 11**"
      ]
    },
    {
      "cell_type": "code",
      "execution_count": null,
      "metadata": {
        "deletable": false,
        "id": "Tq4nYRX4_Zct",
        "outputId": "6c5a0376-ce1b-4bd1-c20e-d43b06feb2a6"
      },
      "outputs": [
        {
          "data": {
            "text/plain": [
              "user_id    0\n",
              "track      0\n",
              "artist     0\n",
              "genre      0\n",
              "city       0\n",
              "time       0\n",
              "day        0\n",
              "dtype: int64"
            ]
          },
          "execution_count": 11,
          "metadata": {},
          "output_type": "execute_result"
        }
      ],
      "source": [
        "df.isna().sum() # проверка на отсутствие пропусков"
      ]
    },
    {
      "cell_type": "markdown",
      "metadata": {
        "deletable": false,
        "editable": false,
        "id": "BWKRtBJ3_Zct",
        "tags": [
          "start_task"
        ]
      },
      "source": [
        "### Обработка дубликатов\n",
        "\n",
        "**Задание 12**"
      ]
    },
    {
      "cell_type": "code",
      "execution_count": null,
      "metadata": {
        "deletable": false,
        "id": "36eES_S0_Zct",
        "outputId": "109c83ce-5e0d-4873-e052-36a0ee608dba"
      },
      "outputs": [
        {
          "data": {
            "text/plain": [
              "3826"
            ]
          },
          "execution_count": 12,
          "metadata": {},
          "output_type": "execute_result"
        }
      ],
      "source": [
        "df.duplicated().sum() # подсчёт явных дубликатов"
      ]
    },
    {
      "cell_type": "markdown",
      "metadata": {
        "deletable": false,
        "editable": false,
        "id": "Ot25h6XR_Zct",
        "tags": [
          "start_task"
        ]
      },
      "source": [
        "**Задание 13**"
      ]
    },
    {
      "cell_type": "code",
      "execution_count": null,
      "metadata": {
        "deletable": false,
        "id": "exFHq6tt_Zct"
      },
      "outputs": [],
      "source": [
        "df = df.drop_duplicates().reset_index(drop=True) # удаление явных дубликатов, создание новых индексов и удаление старых"
      ]
    },
    {
      "cell_type": "markdown",
      "metadata": {
        "deletable": false,
        "editable": false,
        "id": "Im2YwBEG_Zct",
        "tags": [
          "start_task"
        ]
      },
      "source": [
        "**Задание 14**"
      ]
    },
    {
      "cell_type": "code",
      "execution_count": null,
      "metadata": {
        "deletable": false,
        "id": "-8PuNWQ0_Zct",
        "outputId": "68a9f270-beaa-43d5-b623-4e674dd17c4d"
      },
      "outputs": [
        {
          "data": {
            "text/plain": [
              "0"
            ]
          },
          "execution_count": 14,
          "metadata": {},
          "output_type": "execute_result"
        }
      ],
      "source": [
        "df.duplicated().sum() # проверка на отсутствие явных дубликатов"
      ]
    },
    {
      "cell_type": "markdown",
      "metadata": {
        "deletable": false,
        "editable": false,
        "id": "eSjWwsOh_Zct",
        "tags": [
          "start_task"
        ]
      },
      "source": [
        "**Задание 15**"
      ]
    },
    {
      "cell_type": "code",
      "execution_count": null,
      "metadata": {
        "deletable": false,
        "id": "JIUcqzZN_Zct",
        "outputId": "82aa0b30-ea5c-4ca6-b31b-c1e8f52ebe68"
      },
      "outputs": [
        {
          "data": {
            "text/plain": [
              "array(['acid', 'acoustic', 'action', 'adult', 'africa', 'afrikaans',\n",
              "       'alternative', 'alternativepunk', 'ambient', 'americana',\n",
              "       'animated', 'anime', 'arabesk', 'arabic', 'arena',\n",
              "       'argentinetango', 'art', 'audiobook', 'author', 'avantgarde',\n",
              "       'axé', 'baile', 'balkan', 'beats', 'bigroom', 'black', 'bluegrass',\n",
              "       'blues', 'bollywood', 'bossa', 'brazilian', 'breakbeat', 'breaks',\n",
              "       'broadway', 'cantautori', 'cantopop', 'canzone', 'caribbean',\n",
              "       'caucasian', 'celtic', 'chamber', 'chanson', 'children', 'chill',\n",
              "       'chinese', 'choral', 'christian', 'christmas', 'classical',\n",
              "       'classicmetal', 'club', 'colombian', 'comedy', 'conjazz',\n",
              "       'contemporary', 'country', 'cuban', 'dance', 'dancehall',\n",
              "       'dancepop', 'dark', 'death', 'deep', 'deutschrock', 'deutschspr',\n",
              "       'dirty', 'disco', 'dnb', 'documentary', 'downbeat', 'downtempo',\n",
              "       'drum', 'dub', 'dubstep', 'eastern', 'easy', 'electronic',\n",
              "       'electropop', 'emo', 'entehno', 'epicmetal', 'estrada', 'ethnic',\n",
              "       'eurofolk', 'european', 'experimental', 'extrememetal', 'fado',\n",
              "       'fairytail', 'film', 'fitness', 'flamenco', 'folk', 'folklore',\n",
              "       'folkmetal', 'folkrock', 'folktronica', 'forró', 'frankreich',\n",
              "       'französisch', 'french', 'funk', 'future', 'gangsta', 'garage',\n",
              "       'german', 'ghazal', 'gitarre', 'glitch', 'gospel', 'gothic',\n",
              "       'grime', 'grunge', 'gypsy', 'handsup', \"hard'n'heavy\", 'hardcore',\n",
              "       'hardstyle', 'hardtechno', 'hip', 'hip-hop', 'hiphop',\n",
              "       'historisch', 'holiday', 'hop', 'horror', 'house', 'hymn', 'idm',\n",
              "       'independent', 'indian', 'indie', 'indipop', 'industrial',\n",
              "       'inspirational', 'instrumental', 'international', 'irish', 'jam',\n",
              "       'japanese', 'jazz', 'jewish', 'jpop', 'jungle', 'k-pop',\n",
              "       'karadeniz', 'karaoke', 'kayokyoku', 'korean', 'laiko', 'latin',\n",
              "       'latino', 'leftfield', 'local', 'lounge', 'loungeelectronic',\n",
              "       'lovers', 'malaysian', 'mandopop', 'marschmusik', 'meditative',\n",
              "       'mediterranean', 'melodic', 'metal', 'metalcore', 'mexican',\n",
              "       'middle', 'minimal', 'miscellaneous', 'modern', 'mood', 'mpb',\n",
              "       'muslim', 'native', 'neoklassik', 'neue', 'new', 'newage',\n",
              "       'newwave', 'nu', 'nujazz', 'numetal', 'oceania', 'old', 'opera',\n",
              "       'orchestral', 'other', 'piano', 'podcasts', 'pop', 'popdance',\n",
              "       'popelectronic', 'popeurodance', 'poprussian', 'post',\n",
              "       'posthardcore', 'postrock', 'power', 'progmetal', 'progressive',\n",
              "       'psychedelic', 'punjabi', 'punk', 'quebecois', 'ragga', 'ram',\n",
              "       'rancheras', 'rap', 'rave', 'reggae', 'reggaeton', 'regional',\n",
              "       'relax', 'religious', 'retro', 'rhythm', 'rnb', 'rnr', 'rock',\n",
              "       'rockabilly', 'rockalternative', 'rockindie', 'rockother',\n",
              "       'romance', 'roots', 'ruspop', 'rusrap', 'rusrock', 'russian',\n",
              "       'salsa', 'samba', 'scenic', 'schlager', 'self', 'sertanejo',\n",
              "       'shanson', 'shoegazing', 'showtunes', 'singer', 'ska', 'skarock',\n",
              "       'slow', 'smooth', 'soft', 'soul', 'soulful', 'sound', 'soundtrack',\n",
              "       'southern', 'specialty', 'speech', 'spiritual', 'sport',\n",
              "       'stonerrock', 'surf', 'swing', 'synthpop', 'synthrock',\n",
              "       'sängerportrait', 'tango', 'tanzorchester', 'taraftar', 'tatar',\n",
              "       'tech', 'techno', 'teen', 'thrash', 'top', 'traditional',\n",
              "       'tradjazz', 'trance', 'tribal', 'trip', 'triphop', 'tropical',\n",
              "       'türk', 'türkçe', 'ukrrock', 'unknown', 'urban', 'uzbek',\n",
              "       'variété', 'vi', 'videogame', 'vocal', 'western', 'world',\n",
              "       'worldbeat', 'ïîï', 'электроника'], dtype=object)"
            ]
          },
          "execution_count": 15,
          "metadata": {},
          "output_type": "execute_result"
        }
      ],
      "source": [
        "df_sorted = df['genre'].sort_values().unique()\n",
        "df_sorted # просмотр уникальных отсортированных названий жанров"
      ]
    },
    {
      "cell_type": "markdown",
      "metadata": {
        "deletable": false,
        "editable": false,
        "id": "qej-Qmuo_Zct",
        "tags": [
          "start_task"
        ]
      },
      "source": [
        "**Задание 16**"
      ]
    },
    {
      "cell_type": "code",
      "execution_count": null,
      "metadata": {
        "deletable": false,
        "id": "ErNDkmns_Zct"
      },
      "outputs": [],
      "source": [
        "df['genre'] = df['genre'].replace('hip','hiphop')\n",
        "df['genre'] = df['genre'].replace('hop','hiphop')\n",
        "df['genre'] = df['genre'].replace('hip-hop','hiphop')# устранение неявных дубликатов"
      ]
    },
    {
      "cell_type": "markdown",
      "metadata": {
        "deletable": false,
        "editable": false,
        "id": "zQKF16_RG15m",
        "tags": [
          "start_task"
        ]
      },
      "source": [
        "**Задание 17**"
      ]
    },
    {
      "cell_type": "code",
      "execution_count": null,
      "metadata": {
        "deletable": false,
        "id": "wvixALnFG15m",
        "outputId": "27f611be-9be4-44eb-ebce-71faa7c9a6f9"
      },
      "outputs": [
        {
          "data": {
            "text/plain": [
              "array(['acid', 'acoustic', 'action', 'adult', 'africa', 'afrikaans',\n",
              "       'alternative', 'alternativepunk', 'ambient', 'americana',\n",
              "       'animated', 'anime', 'arabesk', 'arabic', 'arena',\n",
              "       'argentinetango', 'art', 'audiobook', 'author', 'avantgarde',\n",
              "       'axé', 'baile', 'balkan', 'beats', 'bigroom', 'black', 'bluegrass',\n",
              "       'blues', 'bollywood', 'bossa', 'brazilian', 'breakbeat', 'breaks',\n",
              "       'broadway', 'cantautori', 'cantopop', 'canzone', 'caribbean',\n",
              "       'caucasian', 'celtic', 'chamber', 'chanson', 'children', 'chill',\n",
              "       'chinese', 'choral', 'christian', 'christmas', 'classical',\n",
              "       'classicmetal', 'club', 'colombian', 'comedy', 'conjazz',\n",
              "       'contemporary', 'country', 'cuban', 'dance', 'dancehall',\n",
              "       'dancepop', 'dark', 'death', 'deep', 'deutschrock', 'deutschspr',\n",
              "       'dirty', 'disco', 'dnb', 'documentary', 'downbeat', 'downtempo',\n",
              "       'drum', 'dub', 'dubstep', 'eastern', 'easy', 'electronic',\n",
              "       'electropop', 'emo', 'entehno', 'epicmetal', 'estrada', 'ethnic',\n",
              "       'eurofolk', 'european', 'experimental', 'extrememetal', 'fado',\n",
              "       'fairytail', 'film', 'fitness', 'flamenco', 'folk', 'folklore',\n",
              "       'folkmetal', 'folkrock', 'folktronica', 'forró', 'frankreich',\n",
              "       'französisch', 'french', 'funk', 'future', 'gangsta', 'garage',\n",
              "       'german', 'ghazal', 'gitarre', 'glitch', 'gospel', 'gothic',\n",
              "       'grime', 'grunge', 'gypsy', 'handsup', \"hard'n'heavy\", 'hardcore',\n",
              "       'hardstyle', 'hardtechno', 'hiphop', 'historisch', 'holiday',\n",
              "       'horror', 'house', 'hymn', 'idm', 'independent', 'indian', 'indie',\n",
              "       'indipop', 'industrial', 'inspirational', 'instrumental',\n",
              "       'international', 'irish', 'jam', 'japanese', 'jazz', 'jewish',\n",
              "       'jpop', 'jungle', 'k-pop', 'karadeniz', 'karaoke', 'kayokyoku',\n",
              "       'korean', 'laiko', 'latin', 'latino', 'leftfield', 'local',\n",
              "       'lounge', 'loungeelectronic', 'lovers', 'malaysian', 'mandopop',\n",
              "       'marschmusik', 'meditative', 'mediterranean', 'melodic', 'metal',\n",
              "       'metalcore', 'mexican', 'middle', 'minimal', 'miscellaneous',\n",
              "       'modern', 'mood', 'mpb', 'muslim', 'native', 'neoklassik', 'neue',\n",
              "       'new', 'newage', 'newwave', 'nu', 'nujazz', 'numetal', 'oceania',\n",
              "       'old', 'opera', 'orchestral', 'other', 'piano', 'podcasts', 'pop',\n",
              "       'popdance', 'popelectronic', 'popeurodance', 'poprussian', 'post',\n",
              "       'posthardcore', 'postrock', 'power', 'progmetal', 'progressive',\n",
              "       'psychedelic', 'punjabi', 'punk', 'quebecois', 'ragga', 'ram',\n",
              "       'rancheras', 'rap', 'rave', 'reggae', 'reggaeton', 'regional',\n",
              "       'relax', 'religious', 'retro', 'rhythm', 'rnb', 'rnr', 'rock',\n",
              "       'rockabilly', 'rockalternative', 'rockindie', 'rockother',\n",
              "       'romance', 'roots', 'ruspop', 'rusrap', 'rusrock', 'russian',\n",
              "       'salsa', 'samba', 'scenic', 'schlager', 'self', 'sertanejo',\n",
              "       'shanson', 'shoegazing', 'showtunes', 'singer', 'ska', 'skarock',\n",
              "       'slow', 'smooth', 'soft', 'soul', 'soulful', 'sound', 'soundtrack',\n",
              "       'southern', 'specialty', 'speech', 'spiritual', 'sport',\n",
              "       'stonerrock', 'surf', 'swing', 'synthpop', 'synthrock',\n",
              "       'sängerportrait', 'tango', 'tanzorchester', 'taraftar', 'tatar',\n",
              "       'tech', 'techno', 'teen', 'thrash', 'top', 'traditional',\n",
              "       'tradjazz', 'trance', 'tribal', 'trip', 'triphop', 'tropical',\n",
              "       'türk', 'türkçe', 'ukrrock', 'unknown', 'urban', 'uzbek',\n",
              "       'variété', 'vi', 'videogame', 'vocal', 'western', 'world',\n",
              "       'worldbeat', 'ïîï', 'электроника'], dtype=object)"
            ]
          },
          "execution_count": 17,
          "metadata": {},
          "output_type": "execute_result"
        }
      ],
      "source": [
        "df['genre'].sort_values().unique() # проверка на отсутствие неявных дубликатов"
      ]
    },
    {
      "cell_type": "markdown",
      "metadata": {
        "deletable": false,
        "editable": false,
        "id": "jz6a9-7HQUDd"
      },
      "source": [
        "**Выводы**\n",
        "\n",
        "Предобработка обнаружила три проблемы в данных:\n",
        "\n",
        "- нарушения в стиле заголовков,\n",
        "- пропущенные значения,\n",
        "- дубликаты — явные и неявные.\n",
        "\n",
        "Вы исправили заголовки, чтобы упростить работу с таблицей. Без дубликатов исследование станет более точным.\n",
        "\n",
        "Пропущенные значения вы заменили на `'unknown'`. Ещё предстоит увидеть, не повредят ли исследованию пропуски в колонке `genre`.\n",
        "\n",
        "Теперь можно перейти к проверке гипотез."
      ]
    },
    {
      "cell_type": "markdown",
      "metadata": {
        "deletable": false,
        "editable": false,
        "id": "WttZHXH0SqKk"
      },
      "source": [
        "## Проверка гипотез"
      ]
    },
    {
      "cell_type": "markdown",
      "metadata": {
        "deletable": false,
        "editable": false,
        "id": "Im936VVi_Zcu"
      },
      "source": [
        "### Сравнение поведения пользователей двух столиц"
      ]
    },
    {
      "cell_type": "markdown",
      "metadata": {
        "deletable": false,
        "editable": false,
        "id": "nwt_MuaL_Zcu"
      },
      "source": [
        "Первая гипотеза утверждает, что пользователи по-разному слушают музыку в Москве и Санкт-Петербурге. Проверим это предположение по данным о трёх днях недели — понедельнике, среде и пятнице. Для этого:\n",
        "\n",
        "* Разделим пользователей Москвы и Санкт-Петербурга.\n",
        "* Сравним, сколько треков послушала каждая группа пользователей в понедельник, среду и пятницу.\n"
      ]
    },
    {
      "cell_type": "markdown",
      "metadata": {
        "deletable": false,
        "id": "8Dw_YMmT_Zcu",
        "tags": [
          "start_task"
        ]
      },
      "source": [
        "**Задание 18**\n",
        "\n"
      ]
    },
    {
      "cell_type": "code",
      "execution_count": null,
      "metadata": {
        "deletable": false,
        "id": "0_Qs96oh_Zcu",
        "outputId": "9e8b7464-f0d0-4df1-83a5-ae04d18ec3f0"
      },
      "outputs": [
        {
          "data": {
            "text/plain": [
              "city\n",
              "Moscow              42741\n",
              "Saint-Petersburg    18512\n",
              "Name: time, dtype: int64"
            ]
          },
          "execution_count": 18,
          "metadata": {},
          "output_type": "execute_result"
        }
      ],
      "source": [
        "df.groupby('city')['time'].count() # подсчёт прослушиваний в каждом городе"
      ]
    },
    {
      "cell_type": "markdown",
      "metadata": {
        "id": "dzli3w8o_Zcu",
        "tags": [
          "start_task"
        ]
      },
      "source": [
        "**Задание 19**\n"
      ]
    },
    {
      "cell_type": "code",
      "execution_count": null,
      "metadata": {
        "deletable": false,
        "id": "uZMKjiJz_Zcu",
        "outputId": "87b8d2c8-130c-4ce1-ea7a-a8950106e9aa"
      },
      "outputs": [
        {
          "data": {
            "text/plain": [
              "day\n",
              "Friday       21840\n",
              "Monday       21354\n",
              "Wednesday    18059\n",
              "Name: time, dtype: int64"
            ]
          },
          "execution_count": 19,
          "metadata": {},
          "output_type": "execute_result"
        }
      ],
      "source": [
        "df.groupby('day')['time'].count() # подсчёт прослушиваний в каждый из трёх дней"
      ]
    },
    {
      "cell_type": "markdown",
      "metadata": {
        "deletable": false,
        "editable": false,
        "id": "POzs8bGa_Zcu",
        "tags": [
          "start_task"
        ]
      },
      "source": [
        "**Задание 20**"
      ]
    },
    {
      "cell_type": "code",
      "execution_count": null,
      "metadata": {
        "deletable": false,
        "id": "Nz3GdQB1_Zcu"
      },
      "outputs": [],
      "source": [
        "def number_tracks(day, city):\n",
        "    track_list = df[df['day'] == day] # выберите только строки df со значением переменной day в столбце day\n",
        "    track_list = track_list[track_list['city'] == city] # выберите только строки track_list со значением переменной city в столбце city\n",
        "    track_list_count = track_list['user_id'].count() # вызовите метод подсчета строк для track_list и выберите столбец user_id\n",
        "    return track_list_count # верните значение track_list_count из функции"
      ]
    },
    {
      "cell_type": "markdown",
      "metadata": {
        "deletable": false,
        "editable": false,
        "id": "ytf7xFrFJQ2r",
        "tags": [
          "start_task"
        ]
      },
      "source": [
        "**Задание 21**"
      ]
    },
    {
      "cell_type": "code",
      "execution_count": null,
      "metadata": {
        "deletable": false,
        "id": "rJcRATNQ_Zcu",
        "outputId": "15a2e8fd-42e7-495d-9dff-5c207b43f78d"
      },
      "outputs": [
        {
          "data": {
            "text/plain": [
              "15740"
            ]
          },
          "execution_count": 21,
          "metadata": {},
          "output_type": "execute_result"
        }
      ],
      "source": [
        "number_tracks('Monday', 'Moscow') # количество прослушиваний в Москве по понедельникам"
      ]
    },
    {
      "cell_type": "code",
      "execution_count": null,
      "metadata": {
        "deletable": false,
        "id": "hq_ncZ5T_Zcu",
        "outputId": "4726322b-1584-4bac-c3f8-a948d0a9619b"
      },
      "outputs": [
        {
          "data": {
            "text/plain": [
              "5614"
            ]
          },
          "execution_count": 22,
          "metadata": {},
          "output_type": "execute_result"
        }
      ],
      "source": [
        "number_tracks('Monday', 'Saint-Petersburg')# количество прослушиваний в Санкт-Петербурге по понедельникам"
      ]
    },
    {
      "cell_type": "code",
      "execution_count": null,
      "metadata": {
        "deletable": false,
        "id": "_NTy2VPU_Zcu",
        "outputId": "5d4a9e5d-e498-4404-8fab-f12a6fc617dc"
      },
      "outputs": [
        {
          "data": {
            "text/plain": [
              "11056"
            ]
          },
          "execution_count": 23,
          "metadata": {},
          "output_type": "execute_result"
        }
      ],
      "source": [
        "number_tracks('Wednesday', 'Moscow')# количество прослушиваний в Москве по средам"
      ]
    },
    {
      "cell_type": "code",
      "execution_count": null,
      "metadata": {
        "deletable": false,
        "id": "j2y3TAwo_Zcu",
        "outputId": "81efcc95-c1d6-4fcf-bdec-e436fcdceafd"
      },
      "outputs": [
        {
          "data": {
            "text/plain": [
              "7003"
            ]
          },
          "execution_count": 24,
          "metadata": {},
          "output_type": "execute_result"
        }
      ],
      "source": [
        "number_tracks('Wednesday', 'Saint-Petersburg')# количество прослушиваний в Санкт-Петербурге по средам"
      ]
    },
    {
      "cell_type": "code",
      "execution_count": null,
      "metadata": {
        "deletable": false,
        "id": "vYDw5u_K_Zcu",
        "outputId": "b637a72c-27e8-4524-e3dd-3557632b0f2f"
      },
      "outputs": [
        {
          "data": {
            "text/plain": [
              "15945"
            ]
          },
          "execution_count": 25,
          "metadata": {},
          "output_type": "execute_result"
        }
      ],
      "source": [
        "number_tracks('Friday', 'Moscow')# количество прослушиваний в Москве по пятницам"
      ]
    },
    {
      "cell_type": "code",
      "execution_count": null,
      "metadata": {
        "deletable": false,
        "id": "8_yzFtW3_Zcu",
        "outputId": "ed2cde90-be39-4bb1-9578-62705c750b64"
      },
      "outputs": [
        {
          "data": {
            "text/plain": [
              "5895"
            ]
          },
          "execution_count": 26,
          "metadata": {},
          "output_type": "execute_result"
        }
      ],
      "source": [
        "number_tracks('Friday', 'Saint-Petersburg')## количество прослушиваний в Санкт-Петербурге по пятницам"
      ]
    },
    {
      "cell_type": "markdown",
      "metadata": {
        "deletable": false,
        "editable": false,
        "id": "7QXffbO-_Zcu",
        "tags": [
          "start_task"
        ]
      },
      "source": [
        "**Задание 22**"
      ]
    },
    {
      "cell_type": "code",
      "execution_count": null,
      "metadata": {
        "deletable": false,
        "id": "APAcLpOr_Zcu",
        "outputId": "df58cf0e-37b9-4700-b5da-9b79df13ef2c"
      },
      "outputs": [
        {
          "data": {
            "text/html": [
              "<div>\n",
              "<style scoped>\n",
              "    .dataframe tbody tr th:only-of-type {\n",
              "        vertical-align: middle;\n",
              "    }\n",
              "\n",
              "    .dataframe tbody tr th {\n",
              "        vertical-align: top;\n",
              "    }\n",
              "\n",
              "    .dataframe thead th {\n",
              "        text-align: right;\n",
              "    }\n",
              "</style>\n",
              "<table border=\"1\" class=\"dataframe\">\n",
              "  <thead>\n",
              "    <tr style=\"text-align: right;\">\n",
              "      <th></th>\n",
              "      <th>city</th>\n",
              "      <th>monday</th>\n",
              "      <th>wednesday</th>\n",
              "      <th>friday</th>\n",
              "    </tr>\n",
              "  </thead>\n",
              "  <tbody>\n",
              "    <tr>\n",
              "      <th>0</th>\n",
              "      <td>Moscow</td>\n",
              "      <td>15740</td>\n",
              "      <td>11056</td>\n",
              "      <td>15945</td>\n",
              "    </tr>\n",
              "    <tr>\n",
              "      <th>1</th>\n",
              "      <td>Saint-Petersburg</td>\n",
              "      <td>5614</td>\n",
              "      <td>7003</td>\n",
              "      <td>5895</td>\n",
              "    </tr>\n",
              "  </tbody>\n",
              "</table>\n",
              "</div>"
            ],
            "text/plain": [
              "               city  monday  wednesday  friday\n",
              "0            Moscow   15740      11056   15945\n",
              "1  Saint-Petersburg    5614       7003    5895"
            ]
          },
          "execution_count": 27,
          "metadata": {},
          "output_type": "execute_result"
        }
      ],
      "source": [
        "info = pd.DataFrame(data=[['Moscow', 15740, 11056, 15945], ['Saint-Petersburg', 5614, 7003, 5895]], columns=['city', 'monday', 'wednesday', 'friday']) # создание таблицы с результатами\n",
        "info # вывод таблицы на экран"
      ]
    },
    {
      "cell_type": "markdown",
      "metadata": {
        "deletable": false,
        "editable": false,
        "id": "-EgPIHYu_Zcu"
      },
      "source": [
        "**Выводы**\n",
        "\n",
        "Данные показывают разницу поведения пользователей:\n",
        "\n",
        "- В Москве пик прослушиваний приходится на понедельник и пятницу, а в среду заметен спад.\n",
        "- В Петербурге, наоборот, больше слушают музыку по средам. Активность в понедельник и пятницу здесь почти в равной мере уступает среде.\n",
        "\n",
        "Значит, данные говорят в пользу первой гипотезы."
      ]
    },
    {
      "cell_type": "markdown",
      "metadata": {
        "deletable": false,
        "editable": false,
        "id": "atZAxtq4_Zcu"
      },
      "source": [
        "### Музыка в начале и в конце недели"
      ]
    },
    {
      "cell_type": "markdown",
      "metadata": {
        "deletable": false,
        "editable": false,
        "id": "eXrQqXFH_Zcu"
      },
      "source": [
        "Согласно второй гипотезе, утром в понедельник в Москве преобладают одни жанры, а в Петербурге — другие. Так же и вечером пятницы преобладают разные жанры — в зависимости от города."
      ]
    },
    {
      "cell_type": "markdown",
      "metadata": {
        "deletable": false,
        "editable": false,
        "id": "S8UcW6Hw_Zcu",
        "tags": [
          "start_task"
        ]
      },
      "source": [
        "**Задание 23**"
      ]
    },
    {
      "cell_type": "code",
      "execution_count": null,
      "metadata": {
        "deletable": false,
        "id": "qeaFfM_P_Zcu"
      },
      "outputs": [],
      "source": [
        "moscow_general = df[df['city'] == 'Moscow'] # получение таблицы moscow_general из тех строк таблицы df, для которых значение в столбце 'city' равно 'Moscow'\n"
      ]
    },
    {
      "cell_type": "code",
      "execution_count": null,
      "metadata": {
        "deletable": false,
        "id": "ORaVRKto_Zcu"
      },
      "outputs": [],
      "source": [
        "spb_general = df[df['city'] == 'Saint-Petersburg'] # получение таблицы spb_general из тех строк таблицы df, для которых значение в столбце 'city' равно 'Saint-Petersburg'\n"
      ]
    },
    {
      "cell_type": "markdown",
      "metadata": {
        "deletable": false,
        "editable": false,
        "id": "MEJV-CX2_Zcu",
        "tags": [
          "start_task"
        ]
      },
      "source": [
        "**Задание 24**"
      ]
    },
    {
      "cell_type": "code",
      "execution_count": null,
      "metadata": {
        "deletable": false,
        "id": "laJT9BYl_Zcu"
      },
      "outputs": [],
      "source": [
        "def genre_weekday(df, day, time1, time2):\n",
        "    # последовательная фильтрация\n",
        "    # оставляем в genre_df только те строки df, у которых день равен day\n",
        "    genre_df = df[df['day'] == day] # ваш код здесь\n",
        "    # оставляем в genre_df только те строки genre_df, у которых время меньше time2\n",
        "    genre_df = genre_df[genre_df['time'] < time2] # ваш код здесь\n",
        "    # оставляем в genre_df только те строки genre_df, у которых время больше time1\n",
        "    genre_df = genre_df[genre_df['time'] > time1] # ваш код здесь\n",
        "    # сгруппируем отфильтрованный датафрейм по столбцу с названиями жанров, возьмём столбец genre и посчитаем кол-во строк для каждого жанра методом count()\n",
        "    genre_df_grouped = genre_df.groupby('genre')['genre'].count() # ваш код здесь\n",
        "    # отсортируем результат по убыванию (чтобы в начале Series оказались самые популярные жанры)\n",
        "    genre_df_sorted =  genre_df_grouped.sort_values(ascending=False) # ваш код здесь\n",
        "    # вернём Series с 10 самыми популярными жанрами в указанный отрезок времени заданного дня\n",
        "    return genre_df_sorted[:10]"
      ]
    },
    {
      "cell_type": "markdown",
      "metadata": {
        "deletable": false,
        "editable": false,
        "id": "la2s2_PF_Zcu",
        "tags": [
          "start_task"
        ]
      },
      "source": [
        "**Задание 25**"
      ]
    },
    {
      "cell_type": "code",
      "execution_count": null,
      "metadata": {
        "deletable": false,
        "id": "yz7itPUQ_Zcu",
        "outputId": "f1f4cf29-ff71-49ce-a55c-94d5f3109a09"
      },
      "outputs": [
        {
          "data": {
            "text/plain": [
              "genre\n",
              "pop            781\n",
              "dance          549\n",
              "electronic     480\n",
              "rock           474\n",
              "hiphop         286\n",
              "ruspop         186\n",
              "world          181\n",
              "rusrap         175\n",
              "alternative    164\n",
              "unknown        161\n",
              "Name: genre, dtype: int64"
            ]
          },
          "execution_count": 31,
          "metadata": {},
          "output_type": "execute_result"
        }
      ],
      "source": [
        "genre_weekday(moscow_general, 'Monday', '07:00', '11:00') # вызов функции для утра понедельника в Москве (вместо df — таблица moscow_general)"
      ]
    },
    {
      "cell_type": "code",
      "execution_count": null,
      "metadata": {
        "deletable": false,
        "id": "kwUcHPdy_Zcu",
        "outputId": "a719d5cd-93ac-4e7e-f52d-87b208b43a70"
      },
      "outputs": [
        {
          "data": {
            "text/plain": [
              "genre\n",
              "pop            218\n",
              "dance          182\n",
              "rock           162\n",
              "electronic     147\n",
              "hiphop          80\n",
              "ruspop          64\n",
              "alternative     58\n",
              "rusrap          55\n",
              "jazz            44\n",
              "classical       40\n",
              "Name: genre, dtype: int64"
            ]
          },
          "execution_count": 32,
          "metadata": {},
          "output_type": "execute_result"
        }
      ],
      "source": [
        "genre_weekday(spb_general, 'Monday', '07:00', '11:00') # вызов функции для утра понедельника в Петербурге (вместо df — таблица spb_general)"
      ]
    },
    {
      "cell_type": "code",
      "execution_count": null,
      "metadata": {
        "deletable": false,
        "id": "EzXVRE1o_Zcu",
        "outputId": "26b07267-fec1-4b3e-929a-99edf3e5fcb0"
      },
      "outputs": [
        {
          "data": {
            "text/plain": [
              "genre\n",
              "pop            713\n",
              "rock           517\n",
              "dance          495\n",
              "electronic     482\n",
              "hiphop         273\n",
              "world          208\n",
              "ruspop         170\n",
              "alternative    163\n",
              "classical      163\n",
              "rusrap         142\n",
              "Name: genre, dtype: int64"
            ]
          },
          "execution_count": 33,
          "metadata": {},
          "output_type": "execute_result"
        }
      ],
      "source": [
        "genre_weekday(moscow_general, 'Friday', '17:00', '23:00') # вызов функции для вечера пятницы в Москве"
      ]
    },
    {
      "cell_type": "code",
      "execution_count": null,
      "metadata": {
        "deletable": false,
        "id": "JZaEKu5v_Zcu",
        "outputId": "89269b1c-00d0-4228-961e-6b0f04e11d56"
      },
      "outputs": [
        {
          "data": {
            "text/plain": [
              "genre\n",
              "pop            256\n",
              "electronic     216\n",
              "rock           216\n",
              "dance          210\n",
              "hiphop          97\n",
              "alternative     63\n",
              "jazz            61\n",
              "classical       60\n",
              "rusrap          59\n",
              "world           54\n",
              "Name: genre, dtype: int64"
            ]
          },
          "execution_count": 34,
          "metadata": {},
          "output_type": "execute_result"
        }
      ],
      "source": [
        "genre_weekday(spb_general, 'Friday', '17:00', '23:00') # вызов функции для вечера пятницы в Петербурге"
      ]
    },
    {
      "cell_type": "markdown",
      "metadata": {
        "deletable": false,
        "editable": false,
        "id": "wrCe4MNX_Zcu"
      },
      "source": [
        "**Выводы**\n",
        "\n",
        "Если сравнить топ-10 жанров в понедельник утром, можно сделать такие выводы:\n",
        "\n",
        "1. В Москве и Петербурге слушают похожую музыку. Единственное различие — в московский рейтинг вошёл жанр “world”, а в петербургский — джаз и классика.\n",
        "\n",
        "2. В Москве пропущенных значений оказалось так много, что значение `'unknown'` заняло десятое место среди самых популярных жанров. Значит, пропущенные значения занимают существенную долю в данных и угрожают достоверности исследования.\n",
        "\n",
        "Вечер пятницы не меняет эту картину. Некоторые жанры поднимаются немного выше, другие спускаются, но в целом топ-10 остаётся тем же самым.\n",
        "\n",
        "Таким образом, вторая гипотеза подтвердилась лишь частично:\n",
        "* Пользователи слушают похожую музыку в начале недели и в конце.\n",
        "* Разница между Москвой и Петербургом не слишком выражена. В Москве чаще слушают русскую популярную музыку, в Петербурге — джаз.\n",
        "\n",
        "Однако пропуски в данных ставят под сомнение этот результат. В Москве их так много, что рейтинг топ-10 мог бы выглядеть иначе, если бы не утерянные  данные о жанрах."
      ]
    },
    {
      "cell_type": "markdown",
      "metadata": {
        "deletable": false,
        "editable": false,
        "id": "JolODAqr_Zcu"
      },
      "source": [
        "### Жанровые предпочтения в Москве и Петербурге\n",
        "\n",
        "Гипотеза: Петербург — столица рэпа, музыку этого жанра там слушают чаще, чем в Москве.  А Москва — город контрастов, в котором, тем не менее, преобладает поп-музыка."
      ]
    },
    {
      "cell_type": "markdown",
      "metadata": {
        "deletable": false,
        "editable": false,
        "id": "DlegSvaT_Zcu",
        "tags": [
          "start_task"
        ]
      },
      "source": [
        "**Задание 26**"
      ]
    },
    {
      "cell_type": "code",
      "execution_count": null,
      "metadata": {
        "deletable": false,
        "id": "r19lIPke_Zcu"
      },
      "outputs": [],
      "source": [
        "moscow_genres = moscow_general.groupby('genre')['genre'].count() # одной строкой: группировка таблицы moscow_general по столбцу 'genre', выбор столбца `genre`, подсчёт числа значений 'genre' методом count(), сохранение в moscow_genres\n",
        "moscow_genres = moscow_genres.sort_values(ascending=False) # сортировка получившегося Series в порядке убывания и сохранение обратно в moscow_genres"
      ]
    },
    {
      "cell_type": "markdown",
      "metadata": {
        "deletable": false,
        "editable": false,
        "id": "6kMuomxTiIr8",
        "tags": [
          "start_task"
        ]
      },
      "source": [
        "**Задание 27**"
      ]
    },
    {
      "cell_type": "code",
      "execution_count": null,
      "metadata": {
        "deletable": false,
        "id": "WhCSooF8_Zcv",
        "outputId": "d48fc91f-ebff-4405-ae6d-c65f150320e4"
      },
      "outputs": [
        {
          "data": {
            "text/plain": [
              "genre\n",
              "pop            5892\n",
              "dance          4435\n",
              "rock           3965\n",
              "electronic     3786\n",
              "hiphop         2096\n",
              "classical      1616\n",
              "world          1432\n",
              "alternative    1379\n",
              "ruspop         1372\n",
              "rusrap         1161\n",
              "Name: genre, dtype: int64"
            ]
          },
          "execution_count": 36,
          "metadata": {},
          "output_type": "execute_result"
        }
      ],
      "source": [
        "moscow_genres.head(10) # просмотр первых 10 строк moscow_genres"
      ]
    },
    {
      "cell_type": "markdown",
      "metadata": {
        "deletable": false,
        "editable": false,
        "id": "cnPG2vnN_Zcv",
        "tags": [
          "start_task"
        ]
      },
      "source": [
        "**Задание 28**"
      ]
    },
    {
      "cell_type": "code",
      "execution_count": null,
      "metadata": {
        "deletable": false,
        "id": "gluLIpE7_Zcv"
      },
      "outputs": [],
      "source": [
        "spb_genres = spb_general.groupby('genre')['genre'].count() # одной строкой: группировка таблицы spb_general по столбцу 'genre', выбор столбца `genre`, подсчёт числа значений 'genre' методом count(), сохранение в spb_genres\n",
        "spb_genres = spb_genres.sort_values(ascending=False) # сортировка получившегося Series в порядке убывания и сохранение обратно в spb_genres"
      ]
    },
    {
      "cell_type": "markdown",
      "metadata": {
        "deletable": false,
        "editable": false,
        "id": "5Doha_ODgyQ8",
        "tags": [
          "start_task"
        ]
      },
      "source": [
        "**Задание 29**"
      ]
    },
    {
      "cell_type": "code",
      "execution_count": null,
      "metadata": {
        "deletable": false,
        "id": "uaGJHjVU_Zcv",
        "outputId": "ae8a2560-7082-4965-ba39-3228dc30b2d7"
      },
      "outputs": [
        {
          "data": {
            "text/plain": [
              "genre\n",
              "pop            2431\n",
              "dance          1932\n",
              "rock           1879\n",
              "electronic     1736\n",
              "hiphop          960\n",
              "alternative     649\n",
              "classical       646\n",
              "rusrap          564\n",
              "ruspop          538\n",
              "world           515\n",
              "Name: genre, dtype: int64"
            ]
          },
          "execution_count": 38,
          "metadata": {},
          "output_type": "execute_result"
        }
      ],
      "source": [
        "spb_genres.head(10) # просмотр первых 10 строк spb_genres"
      ]
    },
    {
      "cell_type": "markdown",
      "metadata": {
        "deletable": false,
        "editable": false,
        "id": "RY51YJYu_Zcv"
      },
      "source": [
        "**Выводы**"
      ]
    },
    {
      "cell_type": "markdown",
      "metadata": {
        "deletable": false,
        "editable": false,
        "id": "nVhnJEm__Zcv"
      },
      "source": [
        "Гипотеза частично подтвердилась:\n",
        "* Поп-музыка — самый популярный жанр в Москве, как и предполагала гипотеза. Более того, в топ-10 жанров встречается близкий жанр — русская популярная музыка.\n",
        "* Вопреки ожиданиям, рэп одинаково популярен в Москве и Петербурге.\n"
      ]
    },
    {
      "cell_type": "markdown",
      "metadata": {
        "deletable": false,
        "editable": false,
        "id": "ykKQ0N65_Zcv"
      },
      "source": [
        "## Итоги исследования"
      ]
    },
    {
      "cell_type": "markdown",
      "metadata": {
        "deletable": false,
        "editable": false,
        "id": "tjUwbHb3_Zcv"
      },
      "source": [
        "Вы проверили три гипотезы и установили:\n",
        "\n",
        "1. День недели по-разному влияет на активность пользователей в Москве и Петербурге.\n",
        "\n",
        "Первая гипотеза полностью подтвердилась.\n",
        "\n",
        "2. Музыкальные предпочтения не сильно меняются в течение недели — будь то Москва или Петербург. Небольшие различия заметны в начале недели, по понедельникам:\n",
        "* в Москве слушают музыку жанра “world”,\n",
        "* в Петербурге — джаз и классику.\n",
        "\n",
        "Таким образом, вторая гипотеза подтвердилась лишь отчасти. Этот результат мог оказаться иным, если бы не пропуски в данных.\n",
        "\n",
        "3. Во вкусах пользователей Москвы и Петербурга больше общего, чем различий. Вопреки ожиданиям, предпочтения жанров в Петербурге напоминают московские.\n",
        "\n",
        "Третья гипотеза не подтвердилась. Если различия в предпочтениях и существуют, на основной массе пользователей они незаметны.\n",
        "\n",
        "**На практике исследования содержат проверки статистических гипотез.**\n",
        "Из части данных одного сервиса невозможно сделать какие-то выводы о всех пользователях сервиса без методов статистики.\n",
        "Проверки статистических гипотез покажут, насколько они достоверны, исходя из имеющихся данных.\n",
        "С методами проверок гипотез вы ещё познакомитесь в следующих темах."
      ]
    }
  ],
  "metadata": {
    "ExecuteTimeLog": [
      {
        "duration": 47,
        "start_time": "2024-06-17T10:42:59.446Z"
      },
      {
        "duration": 8,
        "start_time": "2024-06-17T10:43:05.936Z"
      },
      {
        "duration": 473,
        "start_time": "2024-06-17T10:43:08.248Z"
      },
      {
        "duration": 473,
        "start_time": "2024-06-17T10:43:09.538Z"
      },
      {
        "duration": 27,
        "start_time": "2024-06-17T10:43:11.688Z"
      },
      {
        "duration": 12,
        "start_time": "2024-06-17T10:43:17.325Z"
      },
      {
        "duration": 30,
        "start_time": "2024-06-17T10:45:14.978Z"
      },
      {
        "duration": 9,
        "start_time": "2024-06-17T10:45:26.273Z"
      },
      {
        "duration": 2,
        "start_time": "2024-06-17T10:45:55.597Z"
      },
      {
        "duration": 193,
        "start_time": "2024-06-17T10:45:55.601Z"
      },
      {
        "duration": 12,
        "start_time": "2024-06-17T10:45:55.796Z"
      },
      {
        "duration": 9,
        "start_time": "2024-06-17T10:45:55.810Z"
      },
      {
        "duration": 0,
        "start_time": "2024-06-17T10:45:55.822Z"
      },
      {
        "duration": 0,
        "start_time": "2024-06-17T10:45:55.824Z"
      },
      {
        "duration": 1,
        "start_time": "2024-06-17T10:45:55.825Z"
      },
      {
        "duration": 0,
        "start_time": "2024-06-17T10:45:55.827Z"
      },
      {
        "duration": 0,
        "start_time": "2024-06-17T10:45:55.828Z"
      },
      {
        "duration": 0,
        "start_time": "2024-06-17T10:45:55.830Z"
      },
      {
        "duration": 1,
        "start_time": "2024-06-17T10:45:55.831Z"
      },
      {
        "duration": 0,
        "start_time": "2024-06-17T10:45:55.861Z"
      },
      {
        "duration": 0,
        "start_time": "2024-06-17T10:45:55.863Z"
      },
      {
        "duration": 0,
        "start_time": "2024-06-17T10:45:55.865Z"
      },
      {
        "duration": 0,
        "start_time": "2024-06-17T10:45:55.866Z"
      },
      {
        "duration": 0,
        "start_time": "2024-06-17T10:45:55.868Z"
      },
      {
        "duration": 1,
        "start_time": "2024-06-17T10:45:55.869Z"
      },
      {
        "duration": 0,
        "start_time": "2024-06-17T10:45:55.871Z"
      },
      {
        "duration": 0,
        "start_time": "2024-06-17T10:45:55.872Z"
      },
      {
        "duration": 0,
        "start_time": "2024-06-17T10:45:55.874Z"
      },
      {
        "duration": 0,
        "start_time": "2024-06-17T10:45:55.876Z"
      },
      {
        "duration": 0,
        "start_time": "2024-06-17T10:45:55.877Z"
      },
      {
        "duration": 0,
        "start_time": "2024-06-17T10:45:55.879Z"
      },
      {
        "duration": 0,
        "start_time": "2024-06-17T10:45:55.881Z"
      },
      {
        "duration": 0,
        "start_time": "2024-06-17T10:45:55.882Z"
      },
      {
        "duration": 0,
        "start_time": "2024-06-17T10:45:55.883Z"
      },
      {
        "duration": 0,
        "start_time": "2024-06-17T10:45:55.885Z"
      },
      {
        "duration": 0,
        "start_time": "2024-06-17T10:45:55.886Z"
      },
      {
        "duration": 0,
        "start_time": "2024-06-17T10:45:55.888Z"
      },
      {
        "duration": 0,
        "start_time": "2024-06-17T10:45:55.889Z"
      },
      {
        "duration": 0,
        "start_time": "2024-06-17T10:45:55.891Z"
      },
      {
        "duration": 0,
        "start_time": "2024-06-17T10:45:55.892Z"
      },
      {
        "duration": 0,
        "start_time": "2024-06-17T10:45:55.893Z"
      },
      {
        "duration": 0,
        "start_time": "2024-06-17T10:45:55.894Z"
      },
      {
        "duration": 0,
        "start_time": "2024-06-17T10:45:55.895Z"
      },
      {
        "duration": 0,
        "start_time": "2024-06-17T10:45:55.896Z"
      },
      {
        "duration": 0,
        "start_time": "2024-06-17T10:45:55.897Z"
      },
      {
        "duration": 0,
        "start_time": "2024-06-17T10:45:55.898Z"
      },
      {
        "duration": 34,
        "start_time": "2024-06-17T10:46:45.629Z"
      },
      {
        "duration": 3,
        "start_time": "2024-06-17T10:57:08.661Z"
      },
      {
        "duration": 4,
        "start_time": "2024-06-17T10:58:22.674Z"
      },
      {
        "duration": 54,
        "start_time": "2024-06-17T11:01:19.563Z"
      },
      {
        "duration": 61,
        "start_time": "2024-06-17T11:01:31.082Z"
      },
      {
        "duration": 80,
        "start_time": "2024-06-17T11:02:34.632Z"
      },
      {
        "duration": 73,
        "start_time": "2024-06-17T11:02:40.184Z"
      },
      {
        "duration": 106,
        "start_time": "2024-06-17T11:03:56.325Z"
      },
      {
        "duration": 24,
        "start_time": "2024-06-17T11:04:04.645Z"
      },
      {
        "duration": 12,
        "start_time": "2024-06-17T11:04:48.842Z"
      },
      {
        "duration": 14,
        "start_time": "2024-06-17T11:04:52.547Z"
      },
      {
        "duration": 11,
        "start_time": "2024-06-17T11:04:54.211Z"
      },
      {
        "duration": 4,
        "start_time": "2024-06-17T11:06:16.399Z"
      },
      {
        "duration": 35,
        "start_time": "2024-06-17T11:06:52.269Z"
      },
      {
        "duration": 28,
        "start_time": "2024-06-17T11:07:03.567Z"
      },
      {
        "duration": 26,
        "start_time": "2024-06-17T11:07:34.862Z"
      },
      {
        "duration": 46,
        "start_time": "2024-06-17T11:10:04.278Z"
      },
      {
        "duration": 74,
        "start_time": "2024-06-17T11:12:16.386Z"
      },
      {
        "duration": 111,
        "start_time": "2024-06-17T11:14:53.564Z"
      },
      {
        "duration": 20,
        "start_time": "2024-06-17T11:15:06.858Z"
      },
      {
        "duration": 20,
        "start_time": "2024-06-17T11:15:09.356Z"
      },
      {
        "duration": 26,
        "start_time": "2024-06-17T11:15:20.827Z"
      },
      {
        "duration": 19,
        "start_time": "2024-06-17T11:15:36.905Z"
      },
      {
        "duration": 11,
        "start_time": "2024-06-17T11:15:44.298Z"
      },
      {
        "duration": 10,
        "start_time": "2024-06-17T11:16:12.345Z"
      },
      {
        "duration": 12,
        "start_time": "2024-06-17T11:19:28.291Z"
      },
      {
        "duration": 11,
        "start_time": "2024-06-17T11:19:32.593Z"
      },
      {
        "duration": 11,
        "start_time": "2024-06-17T11:20:36.719Z"
      },
      {
        "duration": 11,
        "start_time": "2024-06-17T11:20:51.646Z"
      },
      {
        "duration": 9,
        "start_time": "2024-06-17T11:21:12.045Z"
      },
      {
        "duration": 12,
        "start_time": "2024-06-17T11:21:18.285Z"
      },
      {
        "duration": 10,
        "start_time": "2024-06-17T11:21:40.028Z"
      },
      {
        "duration": 10,
        "start_time": "2024-06-17T11:21:41.292Z"
      },
      {
        "duration": 11,
        "start_time": "2024-06-17T11:22:16.475Z"
      },
      {
        "duration": 10,
        "start_time": "2024-06-17T11:22:57.465Z"
      },
      {
        "duration": 11,
        "start_time": "2024-06-17T11:23:42.663Z"
      },
      {
        "duration": 13,
        "start_time": "2024-06-17T11:24:09.622Z"
      },
      {
        "duration": 11,
        "start_time": "2024-06-17T11:24:21.574Z"
      },
      {
        "duration": 14,
        "start_time": "2024-06-17T11:25:21.283Z"
      },
      {
        "duration": 10,
        "start_time": "2024-06-17T11:25:27.524Z"
      },
      {
        "duration": 11,
        "start_time": "2024-06-17T11:25:54.051Z"
      },
      {
        "duration": 9,
        "start_time": "2024-06-17T11:28:26.907Z"
      },
      {
        "duration": 20,
        "start_time": "2024-06-17T11:29:09.243Z"
      },
      {
        "duration": 12,
        "start_time": "2024-06-17T11:29:44.217Z"
      },
      {
        "duration": 20,
        "start_time": "2024-06-17T11:31:26.901Z"
      },
      {
        "duration": 18,
        "start_time": "2024-06-17T11:31:38.235Z"
      },
      {
        "duration": 15,
        "start_time": "2024-06-17T11:31:41.573Z"
      },
      {
        "duration": 17,
        "start_time": "2024-06-17T11:32:27.075Z"
      },
      {
        "duration": 11,
        "start_time": "2024-06-17T11:32:29.106Z"
      },
      {
        "duration": 10,
        "start_time": "2024-06-17T11:32:30.307Z"
      },
      {
        "duration": 13,
        "start_time": "2024-06-17T11:32:31.522Z"
      },
      {
        "duration": 19,
        "start_time": "2024-06-17T11:32:50.545Z"
      },
      {
        "duration": 16,
        "start_time": "2024-06-17T11:33:17.873Z"
      },
      {
        "duration": 16,
        "start_time": "2024-06-17T11:33:23.953Z"
      },
      {
        "duration": 17,
        "start_time": "2024-06-17T11:34:25.774Z"
      },
      {
        "duration": 19,
        "start_time": "2024-06-17T11:34:49.438Z"
      },
      {
        "duration": 14,
        "start_time": "2024-06-17T11:34:52.446Z"
      },
      {
        "duration": 9,
        "start_time": "2024-06-17T11:36:54.312Z"
      },
      {
        "duration": 11,
        "start_time": "2024-06-17T11:37:44.406Z"
      },
      {
        "duration": 10,
        "start_time": "2024-06-17T11:39:01.299Z"
      },
      {
        "duration": 9,
        "start_time": "2024-06-17T11:39:04.627Z"
      },
      {
        "duration": 9,
        "start_time": "2024-06-17T11:40:19.681Z"
      },
      {
        "duration": 11,
        "start_time": "2024-06-17T11:40:49.966Z"
      },
      {
        "duration": 9,
        "start_time": "2024-06-17T11:40:55.023Z"
      },
      {
        "duration": 12,
        "start_time": "2024-06-17T11:40:58.591Z"
      },
      {
        "duration": 12,
        "start_time": "2024-06-17T11:41:47.469Z"
      },
      {
        "duration": 10,
        "start_time": "2024-06-17T11:41:57.036Z"
      },
      {
        "duration": 11,
        "start_time": "2024-06-17T11:42:02.908Z"
      },
      {
        "duration": 9,
        "start_time": "2024-06-17T11:42:55.626Z"
      },
      {
        "duration": 12,
        "start_time": "2024-06-17T11:44:51.382Z"
      },
      {
        "duration": 10,
        "start_time": "2024-06-17T11:45:06.405Z"
      },
      {
        "duration": 13,
        "start_time": "2024-06-17T11:45:51.779Z"
      },
      {
        "duration": 10,
        "start_time": "2024-06-17T11:47:06.192Z"
      },
      {
        "duration": 9,
        "start_time": "2024-06-17T11:47:28.655Z"
      },
      {
        "duration": 10,
        "start_time": "2024-06-17T11:47:43.135Z"
      },
      {
        "duration": 10,
        "start_time": "2024-06-17T11:50:29.736Z"
      },
      {
        "duration": 9,
        "start_time": "2024-06-17T11:51:53.509Z"
      },
      {
        "duration": 11,
        "start_time": "2024-06-17T11:51:54.853Z"
      },
      {
        "duration": 9,
        "start_time": "2024-06-17T11:51:58.133Z"
      },
      {
        "duration": 9,
        "start_time": "2024-06-17T11:52:01.573Z"
      },
      {
        "duration": 10,
        "start_time": "2024-06-17T11:52:37.219Z"
      },
      {
        "duration": 9,
        "start_time": "2024-06-17T11:54:04.672Z"
      },
      {
        "duration": 11,
        "start_time": "2024-06-17T11:54:19.744Z"
      },
      {
        "duration": 11,
        "start_time": "2024-06-17T11:55:51.755Z"
      },
      {
        "duration": 2,
        "start_time": "2024-06-17T11:55:54.956Z"
      },
      {
        "duration": 10,
        "start_time": "2024-06-17T11:56:00.091Z"
      },
      {
        "duration": 9,
        "start_time": "2024-06-17T11:58:14.710Z"
      },
      {
        "duration": 8,
        "start_time": "2024-06-17T11:58:21.445Z"
      },
      {
        "duration": 2,
        "start_time": "2024-06-17T11:58:40.365Z"
      },
      {
        "duration": 264,
        "start_time": "2024-06-17T11:58:40.370Z"
      },
      {
        "duration": 11,
        "start_time": "2024-06-17T11:58:40.636Z"
      },
      {
        "duration": 47,
        "start_time": "2024-06-17T11:58:40.649Z"
      },
      {
        "duration": 2,
        "start_time": "2024-06-17T11:58:40.699Z"
      },
      {
        "duration": 7,
        "start_time": "2024-06-17T11:58:40.703Z"
      },
      {
        "duration": 9,
        "start_time": "2024-06-17T11:58:40.712Z"
      },
      {
        "duration": 4,
        "start_time": "2024-06-17T11:58:40.723Z"
      },
      {
        "duration": 56,
        "start_time": "2024-06-17T11:58:40.728Z"
      },
      {
        "duration": 27,
        "start_time": "2024-06-17T11:58:40.786Z"
      },
      {
        "duration": 30,
        "start_time": "2024-06-17T11:58:40.815Z"
      },
      {
        "duration": 83,
        "start_time": "2024-06-17T11:58:40.847Z"
      },
      {
        "duration": 100,
        "start_time": "2024-06-17T11:58:40.933Z"
      },
      {
        "duration": 63,
        "start_time": "2024-06-17T11:58:41.034Z"
      },
      {
        "duration": 762,
        "start_time": "2024-06-17T11:58:41.099Z"
      },
      {
        "duration": 0,
        "start_time": "2024-06-17T11:58:41.863Z"
      },
      {
        "duration": 0,
        "start_time": "2024-06-17T11:58:41.864Z"
      },
      {
        "duration": 0,
        "start_time": "2024-06-17T11:58:41.866Z"
      },
      {
        "duration": 0,
        "start_time": "2024-06-17T11:58:41.868Z"
      },
      {
        "duration": 0,
        "start_time": "2024-06-17T11:58:41.869Z"
      },
      {
        "duration": 0,
        "start_time": "2024-06-17T11:58:41.871Z"
      },
      {
        "duration": 0,
        "start_time": "2024-06-17T11:58:41.872Z"
      },
      {
        "duration": 0,
        "start_time": "2024-06-17T11:58:41.874Z"
      },
      {
        "duration": 1,
        "start_time": "2024-06-17T11:58:41.875Z"
      },
      {
        "duration": 0,
        "start_time": "2024-06-17T11:58:41.877Z"
      },
      {
        "duration": 0,
        "start_time": "2024-06-17T11:58:41.878Z"
      },
      {
        "duration": 0,
        "start_time": "2024-06-17T11:58:41.879Z"
      },
      {
        "duration": 0,
        "start_time": "2024-06-17T11:58:41.880Z"
      },
      {
        "duration": 0,
        "start_time": "2024-06-17T11:58:41.882Z"
      },
      {
        "duration": 0,
        "start_time": "2024-06-17T11:58:41.883Z"
      },
      {
        "duration": 0,
        "start_time": "2024-06-17T11:58:41.885Z"
      },
      {
        "duration": 0,
        "start_time": "2024-06-17T11:58:41.886Z"
      },
      {
        "duration": 0,
        "start_time": "2024-06-17T11:58:41.887Z"
      },
      {
        "duration": 0,
        "start_time": "2024-06-17T11:58:41.889Z"
      },
      {
        "duration": 0,
        "start_time": "2024-06-17T11:58:41.890Z"
      },
      {
        "duration": 0,
        "start_time": "2024-06-17T11:58:41.891Z"
      },
      {
        "duration": 0,
        "start_time": "2024-06-17T11:58:41.892Z"
      },
      {
        "duration": 0,
        "start_time": "2024-06-17T11:58:41.893Z"
      },
      {
        "duration": 904,
        "start_time": "2024-06-17T12:00:14.545Z"
      },
      {
        "duration": 779,
        "start_time": "2024-06-17T12:00:49.824Z"
      },
      {
        "duration": 32,
        "start_time": "2024-06-17T12:02:10.494Z"
      },
      {
        "duration": 33,
        "start_time": "2024-06-17T12:02:13.373Z"
      },
      {
        "duration": 53,
        "start_time": "2024-06-17T12:02:16.254Z"
      },
      {
        "duration": 54,
        "start_time": "2024-06-17T12:02:30.892Z"
      },
      {
        "duration": 760,
        "start_time": "2024-06-17T12:02:35.436Z"
      },
      {
        "duration": 861,
        "start_time": "2024-06-17T12:02:49.851Z"
      },
      {
        "duration": 719,
        "start_time": "2024-06-17T12:03:51.369Z"
      },
      {
        "duration": 867,
        "start_time": "2024-06-17T12:04:54.790Z"
      },
      {
        "duration": 854,
        "start_time": "2024-06-17T12:05:16.247Z"
      },
      {
        "duration": 767,
        "start_time": "2024-06-17T12:05:17.350Z"
      },
      {
        "duration": 792,
        "start_time": "2024-06-17T12:05:27.125Z"
      },
      {
        "duration": 2,
        "start_time": "2024-06-17T12:07:35.408Z"
      },
      {
        "duration": 194,
        "start_time": "2024-06-17T12:07:36.600Z"
      },
      {
        "duration": 12,
        "start_time": "2024-06-17T12:07:37.341Z"
      },
      {
        "duration": 33,
        "start_time": "2024-06-17T12:07:38.233Z"
      },
      {
        "duration": 3,
        "start_time": "2024-06-17T12:07:38.998Z"
      },
      {
        "duration": 5,
        "start_time": "2024-06-17T12:07:39.821Z"
      },
      {
        "duration": 12,
        "start_time": "2024-06-17T12:07:40.221Z"
      },
      {
        "duration": 5,
        "start_time": "2024-06-17T12:07:40.641Z"
      },
      {
        "duration": 29,
        "start_time": "2024-06-17T12:07:41.082Z"
      },
      {
        "duration": 21,
        "start_time": "2024-06-17T12:07:41.526Z"
      },
      {
        "duration": 29,
        "start_time": "2024-06-17T12:07:42.028Z"
      },
      {
        "duration": 71,
        "start_time": "2024-06-17T12:07:43.560Z"
      },
      {
        "duration": 80,
        "start_time": "2024-06-17T12:07:44.883Z"
      },
      {
        "duration": 69,
        "start_time": "2024-06-17T12:07:46.067Z"
      },
      {
        "duration": 5,
        "start_time": "2024-06-17T12:08:31.327Z"
      },
      {
        "duration": 11,
        "start_time": "2024-06-17T12:08:48.781Z"
      },
      {
        "duration": 11,
        "start_time": "2024-06-17T12:08:52.189Z"
      },
      {
        "duration": 11,
        "start_time": "2024-06-17T12:08:57.804Z"
      },
      {
        "duration": 11,
        "start_time": "2024-06-17T12:09:02.412Z"
      },
      {
        "duration": 8,
        "start_time": "2024-06-17T12:09:08.749Z"
      },
      {
        "duration": 9,
        "start_time": "2024-06-17T12:09:13.341Z"
      },
      {
        "duration": 53,
        "start_time": "2024-06-17T12:09:16.893Z"
      },
      {
        "duration": 9,
        "start_time": "2024-06-17T12:09:18.492Z"
      },
      {
        "duration": 9,
        "start_time": "2024-06-17T12:09:27.435Z"
      },
      {
        "duration": 6,
        "start_time": "2024-06-17T12:09:34.491Z"
      },
      {
        "duration": 7,
        "start_time": "2024-06-17T12:09:39.787Z"
      },
      {
        "duration": 7,
        "start_time": "2024-06-17T12:09:45.563Z"
      },
      {
        "duration": 7,
        "start_time": "2024-06-17T12:09:46.987Z"
      },
      {
        "duration": 9,
        "start_time": "2024-06-17T12:09:47.979Z"
      },
      {
        "duration": 6,
        "start_time": "2024-06-17T12:09:50.427Z"
      },
      {
        "duration": 5,
        "start_time": "2024-06-17T12:09:54.668Z"
      },
      {
        "duration": 88,
        "start_time": "2024-06-17T12:10:06.250Z"
      },
      {
        "duration": 7,
        "start_time": "2024-06-17T12:10:13.049Z"
      },
      {
        "duration": 7,
        "start_time": "2024-06-17T12:10:31.558Z"
      },
      {
        "duration": 7,
        "start_time": "2024-06-17T12:10:52.152Z"
      },
      {
        "duration": 8,
        "start_time": "2024-06-17T12:11:03.384Z"
      },
      {
        "duration": 7,
        "start_time": "2024-06-17T12:11:06.951Z"
      },
      {
        "duration": 3,
        "start_time": "2024-06-17T12:11:32.116Z"
      },
      {
        "duration": 198,
        "start_time": "2024-06-17T12:11:32.121Z"
      },
      {
        "duration": 12,
        "start_time": "2024-06-17T12:11:32.320Z"
      },
      {
        "duration": 45,
        "start_time": "2024-06-17T12:11:32.334Z"
      },
      {
        "duration": 7,
        "start_time": "2024-06-17T12:11:32.381Z"
      },
      {
        "duration": 6,
        "start_time": "2024-06-17T12:11:32.389Z"
      },
      {
        "duration": 34,
        "start_time": "2024-06-17T12:11:32.397Z"
      },
      {
        "duration": 6,
        "start_time": "2024-06-17T12:11:32.433Z"
      },
      {
        "duration": 37,
        "start_time": "2024-06-17T12:11:32.441Z"
      },
      {
        "duration": 30,
        "start_time": "2024-06-17T12:11:32.480Z"
      },
      {
        "duration": 29,
        "start_time": "2024-06-17T12:11:32.511Z"
      },
      {
        "duration": 86,
        "start_time": "2024-06-17T12:11:32.543Z"
      },
      {
        "duration": 89,
        "start_time": "2024-06-17T12:11:32.631Z"
      },
      {
        "duration": 72,
        "start_time": "2024-06-17T12:11:32.724Z"
      },
      {
        "duration": 6,
        "start_time": "2024-06-17T12:11:32.798Z"
      },
      {
        "duration": 18,
        "start_time": "2024-06-17T12:11:32.806Z"
      },
      {
        "duration": 4,
        "start_time": "2024-06-17T12:11:32.826Z"
      },
      {
        "duration": 8,
        "start_time": "2024-06-17T12:11:32.831Z"
      },
      {
        "duration": 5,
        "start_time": "2024-06-17T12:11:32.840Z"
      },
      {
        "duration": 57,
        "start_time": "2024-06-17T12:11:32.846Z"
      },
      {
        "duration": 0,
        "start_time": "2024-06-17T12:11:32.904Z"
      },
      {
        "duration": 0,
        "start_time": "2024-06-17T12:11:32.906Z"
      },
      {
        "duration": 0,
        "start_time": "2024-06-17T12:11:32.908Z"
      },
      {
        "duration": 0,
        "start_time": "2024-06-17T12:11:32.909Z"
      },
      {
        "duration": 0,
        "start_time": "2024-06-17T12:11:32.910Z"
      },
      {
        "duration": 0,
        "start_time": "2024-06-17T12:11:32.912Z"
      },
      {
        "duration": 0,
        "start_time": "2024-06-17T12:11:32.914Z"
      },
      {
        "duration": 1,
        "start_time": "2024-06-17T12:11:32.915Z"
      },
      {
        "duration": 0,
        "start_time": "2024-06-17T12:11:32.917Z"
      },
      {
        "duration": 0,
        "start_time": "2024-06-17T12:11:32.919Z"
      },
      {
        "duration": 0,
        "start_time": "2024-06-17T12:11:32.920Z"
      },
      {
        "duration": 0,
        "start_time": "2024-06-17T12:11:32.921Z"
      },
      {
        "duration": 0,
        "start_time": "2024-06-17T12:11:32.923Z"
      },
      {
        "duration": 0,
        "start_time": "2024-06-17T12:11:32.924Z"
      },
      {
        "duration": 0,
        "start_time": "2024-06-17T12:11:32.926Z"
      },
      {
        "duration": 0,
        "start_time": "2024-06-17T12:11:32.927Z"
      },
      {
        "duration": 0,
        "start_time": "2024-06-17T12:11:32.928Z"
      },
      {
        "duration": 0,
        "start_time": "2024-06-17T12:11:32.929Z"
      },
      {
        "duration": 9,
        "start_time": "2024-06-17T12:12:00.392Z"
      },
      {
        "duration": 3,
        "start_time": "2024-06-17T12:12:06.280Z"
      },
      {
        "duration": 238,
        "start_time": "2024-06-17T12:12:06.285Z"
      },
      {
        "duration": 10,
        "start_time": "2024-06-17T12:12:06.525Z"
      },
      {
        "duration": 61,
        "start_time": "2024-06-17T12:12:06.537Z"
      },
      {
        "duration": 18,
        "start_time": "2024-06-17T12:12:06.600Z"
      },
      {
        "duration": 19,
        "start_time": "2024-06-17T12:12:06.620Z"
      },
      {
        "duration": 54,
        "start_time": "2024-06-17T12:12:06.641Z"
      },
      {
        "duration": 21,
        "start_time": "2024-06-17T12:12:06.697Z"
      },
      {
        "duration": 67,
        "start_time": "2024-06-17T12:12:06.720Z"
      },
      {
        "duration": 37,
        "start_time": "2024-06-17T12:12:06.788Z"
      },
      {
        "duration": 43,
        "start_time": "2024-06-17T12:12:06.827Z"
      },
      {
        "duration": 76,
        "start_time": "2024-06-17T12:12:06.872Z"
      },
      {
        "duration": 96,
        "start_time": "2024-06-17T12:12:06.949Z"
      },
      {
        "duration": 87,
        "start_time": "2024-06-17T12:12:07.048Z"
      },
      {
        "duration": 24,
        "start_time": "2024-06-17T12:12:07.137Z"
      },
      {
        "duration": 3,
        "start_time": "2024-06-17T12:12:07.163Z"
      },
      {
        "duration": 27,
        "start_time": "2024-06-17T12:12:07.167Z"
      },
      {
        "duration": 21,
        "start_time": "2024-06-17T12:12:07.195Z"
      },
      {
        "duration": 28,
        "start_time": "2024-06-17T12:12:07.217Z"
      },
      {
        "duration": 66,
        "start_time": "2024-06-17T12:12:07.247Z"
      },
      {
        "duration": 0,
        "start_time": "2024-06-17T12:12:07.315Z"
      },
      {
        "duration": 0,
        "start_time": "2024-06-17T12:12:07.316Z"
      },
      {
        "duration": 0,
        "start_time": "2024-06-17T12:12:07.318Z"
      },
      {
        "duration": 0,
        "start_time": "2024-06-17T12:12:07.319Z"
      },
      {
        "duration": 0,
        "start_time": "2024-06-17T12:12:07.320Z"
      },
      {
        "duration": 0,
        "start_time": "2024-06-17T12:12:07.321Z"
      },
      {
        "duration": 0,
        "start_time": "2024-06-17T12:12:07.322Z"
      },
      {
        "duration": 0,
        "start_time": "2024-06-17T12:12:07.323Z"
      },
      {
        "duration": 0,
        "start_time": "2024-06-17T12:12:07.324Z"
      },
      {
        "duration": 0,
        "start_time": "2024-06-17T12:12:07.325Z"
      },
      {
        "duration": 0,
        "start_time": "2024-06-17T12:12:07.326Z"
      },
      {
        "duration": 0,
        "start_time": "2024-06-17T12:12:07.327Z"
      },
      {
        "duration": 0,
        "start_time": "2024-06-17T12:12:07.328Z"
      },
      {
        "duration": 0,
        "start_time": "2024-06-17T12:12:07.329Z"
      },
      {
        "duration": 0,
        "start_time": "2024-06-17T12:12:07.330Z"
      },
      {
        "duration": 0,
        "start_time": "2024-06-17T12:12:07.331Z"
      },
      {
        "duration": 0,
        "start_time": "2024-06-17T12:12:07.332Z"
      },
      {
        "duration": 0,
        "start_time": "2024-06-17T12:12:07.333Z"
      },
      {
        "duration": 7,
        "start_time": "2024-06-17T12:12:28.789Z"
      },
      {
        "duration": 3,
        "start_time": "2024-06-17T12:12:32.698Z"
      },
      {
        "duration": 201,
        "start_time": "2024-06-17T12:12:32.703Z"
      },
      {
        "duration": 11,
        "start_time": "2024-06-17T12:12:32.905Z"
      },
      {
        "duration": 50,
        "start_time": "2024-06-17T12:12:32.918Z"
      },
      {
        "duration": 18,
        "start_time": "2024-06-17T12:12:32.970Z"
      },
      {
        "duration": 19,
        "start_time": "2024-06-17T12:12:32.990Z"
      },
      {
        "duration": 22,
        "start_time": "2024-06-17T12:12:33.011Z"
      },
      {
        "duration": 16,
        "start_time": "2024-06-17T12:12:33.035Z"
      },
      {
        "duration": 46,
        "start_time": "2024-06-17T12:12:33.053Z"
      },
      {
        "duration": 52,
        "start_time": "2024-06-17T12:12:33.101Z"
      },
      {
        "duration": 41,
        "start_time": "2024-06-17T12:12:33.154Z"
      },
      {
        "duration": 95,
        "start_time": "2024-06-17T12:12:33.197Z"
      },
      {
        "duration": 82,
        "start_time": "2024-06-17T12:12:33.295Z"
      },
      {
        "duration": 62,
        "start_time": "2024-06-17T12:12:33.379Z"
      },
      {
        "duration": 57,
        "start_time": "2024-06-17T12:12:33.443Z"
      },
      {
        "duration": 2,
        "start_time": "2024-06-17T12:12:33.502Z"
      },
      {
        "duration": 14,
        "start_time": "2024-06-17T12:12:33.506Z"
      },
      {
        "duration": 13,
        "start_time": "2024-06-17T12:12:33.521Z"
      },
      {
        "duration": 22,
        "start_time": "2024-06-17T12:12:33.535Z"
      },
      {
        "duration": 63,
        "start_time": "2024-06-17T12:12:33.559Z"
      },
      {
        "duration": 0,
        "start_time": "2024-06-17T12:12:33.624Z"
      },
      {
        "duration": 0,
        "start_time": "2024-06-17T12:12:33.625Z"
      },
      {
        "duration": 0,
        "start_time": "2024-06-17T12:12:33.627Z"
      },
      {
        "duration": 0,
        "start_time": "2024-06-17T12:12:33.629Z"
      },
      {
        "duration": 0,
        "start_time": "2024-06-17T12:12:33.630Z"
      },
      {
        "duration": 0,
        "start_time": "2024-06-17T12:12:33.632Z"
      },
      {
        "duration": 0,
        "start_time": "2024-06-17T12:12:33.634Z"
      },
      {
        "duration": 0,
        "start_time": "2024-06-17T12:12:33.635Z"
      },
      {
        "duration": 0,
        "start_time": "2024-06-17T12:12:33.637Z"
      },
      {
        "duration": 0,
        "start_time": "2024-06-17T12:12:33.638Z"
      },
      {
        "duration": 0,
        "start_time": "2024-06-17T12:12:33.640Z"
      },
      {
        "duration": 0,
        "start_time": "2024-06-17T12:12:33.641Z"
      },
      {
        "duration": 0,
        "start_time": "2024-06-17T12:12:33.642Z"
      },
      {
        "duration": 0,
        "start_time": "2024-06-17T12:12:33.644Z"
      },
      {
        "duration": 0,
        "start_time": "2024-06-17T12:12:33.645Z"
      },
      {
        "duration": 0,
        "start_time": "2024-06-17T12:12:33.647Z"
      },
      {
        "duration": 0,
        "start_time": "2024-06-17T12:12:33.648Z"
      },
      {
        "duration": 0,
        "start_time": "2024-06-17T12:12:33.650Z"
      },
      {
        "duration": 8,
        "start_time": "2024-06-17T12:16:33.530Z"
      },
      {
        "duration": 6,
        "start_time": "2024-06-17T12:16:40.027Z"
      },
      {
        "duration": 2,
        "start_time": "2024-06-17T12:16:42.949Z"
      },
      {
        "duration": 224,
        "start_time": "2024-06-17T12:16:42.953Z"
      },
      {
        "duration": 17,
        "start_time": "2024-06-17T12:16:43.179Z"
      },
      {
        "duration": 35,
        "start_time": "2024-06-17T12:16:43.198Z"
      },
      {
        "duration": 18,
        "start_time": "2024-06-17T12:16:43.235Z"
      },
      {
        "duration": 28,
        "start_time": "2024-06-17T12:16:43.261Z"
      },
      {
        "duration": 14,
        "start_time": "2024-06-17T12:16:43.291Z"
      },
      {
        "duration": 10,
        "start_time": "2024-06-17T12:16:43.307Z"
      },
      {
        "duration": 43,
        "start_time": "2024-06-17T12:16:43.319Z"
      },
      {
        "duration": 26,
        "start_time": "2024-06-17T12:16:43.364Z"
      },
      {
        "duration": 29,
        "start_time": "2024-06-17T12:16:43.392Z"
      },
      {
        "duration": 82,
        "start_time": "2024-06-17T12:16:43.422Z"
      },
      {
        "duration": 93,
        "start_time": "2024-06-17T12:16:43.506Z"
      },
      {
        "duration": 68,
        "start_time": "2024-06-17T12:16:43.601Z"
      },
      {
        "duration": 50,
        "start_time": "2024-06-17T12:16:43.671Z"
      },
      {
        "duration": 2,
        "start_time": "2024-06-17T12:16:43.722Z"
      },
      {
        "duration": 16,
        "start_time": "2024-06-17T12:16:43.725Z"
      },
      {
        "duration": 19,
        "start_time": "2024-06-17T12:16:43.743Z"
      },
      {
        "duration": 6,
        "start_time": "2024-06-17T12:16:43.764Z"
      },
      {
        "duration": 75,
        "start_time": "2024-06-17T12:16:43.773Z"
      },
      {
        "duration": 0,
        "start_time": "2024-06-17T12:16:43.850Z"
      },
      {
        "duration": 0,
        "start_time": "2024-06-17T12:16:43.851Z"
      },
      {
        "duration": 0,
        "start_time": "2024-06-17T12:16:43.853Z"
      },
      {
        "duration": 0,
        "start_time": "2024-06-17T12:16:43.854Z"
      },
      {
        "duration": 0,
        "start_time": "2024-06-17T12:16:43.855Z"
      },
      {
        "duration": 0,
        "start_time": "2024-06-17T12:16:43.856Z"
      },
      {
        "duration": 0,
        "start_time": "2024-06-17T12:16:43.857Z"
      },
      {
        "duration": 0,
        "start_time": "2024-06-17T12:16:43.859Z"
      },
      {
        "duration": 0,
        "start_time": "2024-06-17T12:16:43.860Z"
      },
      {
        "duration": 0,
        "start_time": "2024-06-17T12:16:43.861Z"
      },
      {
        "duration": 0,
        "start_time": "2024-06-17T12:16:43.862Z"
      },
      {
        "duration": 0,
        "start_time": "2024-06-17T12:16:43.863Z"
      },
      {
        "duration": 0,
        "start_time": "2024-06-17T12:16:43.864Z"
      },
      {
        "duration": 0,
        "start_time": "2024-06-17T12:16:43.867Z"
      },
      {
        "duration": 0,
        "start_time": "2024-06-17T12:16:43.868Z"
      },
      {
        "duration": 0,
        "start_time": "2024-06-17T12:16:43.869Z"
      },
      {
        "duration": 0,
        "start_time": "2024-06-17T12:16:43.870Z"
      },
      {
        "duration": 0,
        "start_time": "2024-06-17T12:16:43.871Z"
      },
      {
        "duration": 805,
        "start_time": "2024-06-17T12:17:15.241Z"
      },
      {
        "duration": 3,
        "start_time": "2024-06-17T12:17:20.379Z"
      },
      {
        "duration": 220,
        "start_time": "2024-06-17T12:17:20.384Z"
      },
      {
        "duration": 11,
        "start_time": "2024-06-17T12:17:20.606Z"
      },
      {
        "duration": 145,
        "start_time": "2024-06-17T12:17:20.618Z"
      },
      {
        "duration": 96,
        "start_time": "2024-06-17T12:17:20.765Z"
      },
      {
        "duration": 20,
        "start_time": "2024-06-17T12:17:20.863Z"
      },
      {
        "duration": 19,
        "start_time": "2024-06-17T12:17:20.885Z"
      },
      {
        "duration": 33,
        "start_time": "2024-06-17T12:17:20.906Z"
      },
      {
        "duration": 47,
        "start_time": "2024-06-17T12:17:20.940Z"
      },
      {
        "duration": 36,
        "start_time": "2024-06-17T12:17:20.989Z"
      },
      {
        "duration": 58,
        "start_time": "2024-06-17T12:17:21.027Z"
      },
      {
        "duration": 79,
        "start_time": "2024-06-17T12:17:21.086Z"
      },
      {
        "duration": 135,
        "start_time": "2024-06-17T12:17:21.167Z"
      },
      {
        "duration": 67,
        "start_time": "2024-06-17T12:17:21.305Z"
      },
      {
        "duration": 83,
        "start_time": "2024-06-17T12:17:21.373Z"
      },
      {
        "duration": 8,
        "start_time": "2024-06-17T12:17:21.457Z"
      },
      {
        "duration": 40,
        "start_time": "2024-06-17T12:17:21.467Z"
      },
      {
        "duration": 69,
        "start_time": "2024-06-17T12:17:21.509Z"
      },
      {
        "duration": 47,
        "start_time": "2024-06-17T12:17:21.580Z"
      },
      {
        "duration": 61,
        "start_time": "2024-06-17T12:17:21.628Z"
      },
      {
        "duration": 0,
        "start_time": "2024-06-17T12:17:21.690Z"
      },
      {
        "duration": 0,
        "start_time": "2024-06-17T12:17:21.692Z"
      },
      {
        "duration": 0,
        "start_time": "2024-06-17T12:17:21.693Z"
      },
      {
        "duration": 0,
        "start_time": "2024-06-17T12:17:21.694Z"
      },
      {
        "duration": 0,
        "start_time": "2024-06-17T12:17:21.695Z"
      },
      {
        "duration": 0,
        "start_time": "2024-06-17T12:17:21.696Z"
      },
      {
        "duration": 0,
        "start_time": "2024-06-17T12:17:21.698Z"
      },
      {
        "duration": 0,
        "start_time": "2024-06-17T12:17:21.698Z"
      },
      {
        "duration": 0,
        "start_time": "2024-06-17T12:17:21.700Z"
      },
      {
        "duration": 0,
        "start_time": "2024-06-17T12:17:21.701Z"
      },
      {
        "duration": 0,
        "start_time": "2024-06-17T12:17:21.702Z"
      },
      {
        "duration": 0,
        "start_time": "2024-06-17T12:17:21.703Z"
      },
      {
        "duration": 0,
        "start_time": "2024-06-17T12:17:21.703Z"
      },
      {
        "duration": 0,
        "start_time": "2024-06-17T12:17:21.705Z"
      },
      {
        "duration": 0,
        "start_time": "2024-06-17T12:17:21.706Z"
      },
      {
        "duration": 0,
        "start_time": "2024-06-17T12:17:21.707Z"
      },
      {
        "duration": 0,
        "start_time": "2024-06-17T12:17:21.708Z"
      },
      {
        "duration": 0,
        "start_time": "2024-06-17T12:17:21.708Z"
      },
      {
        "duration": 8,
        "start_time": "2024-06-17T12:17:51.927Z"
      },
      {
        "duration": 4,
        "start_time": "2024-06-17T12:17:54.923Z"
      },
      {
        "duration": 229,
        "start_time": "2024-06-17T12:17:54.929Z"
      },
      {
        "duration": 12,
        "start_time": "2024-06-17T12:17:55.159Z"
      },
      {
        "duration": 67,
        "start_time": "2024-06-17T12:17:55.172Z"
      },
      {
        "duration": 8,
        "start_time": "2024-06-17T12:17:55.241Z"
      },
      {
        "duration": 31,
        "start_time": "2024-06-17T12:17:55.251Z"
      },
      {
        "duration": 42,
        "start_time": "2024-06-17T12:17:55.284Z"
      },
      {
        "duration": 15,
        "start_time": "2024-06-17T12:17:55.327Z"
      },
      {
        "duration": 55,
        "start_time": "2024-06-17T12:17:55.343Z"
      },
      {
        "duration": 45,
        "start_time": "2024-06-17T12:17:55.400Z"
      },
      {
        "duration": 40,
        "start_time": "2024-06-17T12:17:55.447Z"
      },
      {
        "duration": 85,
        "start_time": "2024-06-17T12:17:55.489Z"
      },
      {
        "duration": 87,
        "start_time": "2024-06-17T12:17:55.575Z"
      },
      {
        "duration": 60,
        "start_time": "2024-06-17T12:17:55.665Z"
      },
      {
        "duration": 59,
        "start_time": "2024-06-17T12:17:55.726Z"
      },
      {
        "duration": 2,
        "start_time": "2024-06-17T12:17:55.786Z"
      },
      {
        "duration": 17,
        "start_time": "2024-06-17T12:17:55.790Z"
      },
      {
        "duration": 30,
        "start_time": "2024-06-17T12:17:55.809Z"
      },
      {
        "duration": 41,
        "start_time": "2024-06-17T12:17:55.840Z"
      },
      {
        "duration": 58,
        "start_time": "2024-06-17T12:17:55.883Z"
      },
      {
        "duration": 0,
        "start_time": "2024-06-17T12:17:55.942Z"
      },
      {
        "duration": 0,
        "start_time": "2024-06-17T12:17:55.944Z"
      },
      {
        "duration": 0,
        "start_time": "2024-06-17T12:17:55.945Z"
      },
      {
        "duration": 0,
        "start_time": "2024-06-17T12:17:55.946Z"
      },
      {
        "duration": 0,
        "start_time": "2024-06-17T12:17:55.947Z"
      },
      {
        "duration": 0,
        "start_time": "2024-06-17T12:17:55.948Z"
      },
      {
        "duration": 0,
        "start_time": "2024-06-17T12:17:55.949Z"
      },
      {
        "duration": 0,
        "start_time": "2024-06-17T12:17:55.950Z"
      },
      {
        "duration": 0,
        "start_time": "2024-06-17T12:17:55.951Z"
      },
      {
        "duration": 0,
        "start_time": "2024-06-17T12:17:55.952Z"
      },
      {
        "duration": 0,
        "start_time": "2024-06-17T12:17:55.953Z"
      },
      {
        "duration": 0,
        "start_time": "2024-06-17T12:17:55.954Z"
      },
      {
        "duration": 0,
        "start_time": "2024-06-17T12:17:55.955Z"
      },
      {
        "duration": 0,
        "start_time": "2024-06-17T12:17:55.956Z"
      },
      {
        "duration": 0,
        "start_time": "2024-06-17T12:17:55.957Z"
      },
      {
        "duration": 0,
        "start_time": "2024-06-17T12:17:55.958Z"
      },
      {
        "duration": 0,
        "start_time": "2024-06-17T12:17:55.959Z"
      },
      {
        "duration": 0,
        "start_time": "2024-06-17T12:17:55.960Z"
      },
      {
        "duration": 10,
        "start_time": "2024-06-17T12:18:28.998Z"
      },
      {
        "duration": 3,
        "start_time": "2024-06-17T12:18:32.142Z"
      },
      {
        "duration": 205,
        "start_time": "2024-06-17T12:18:32.146Z"
      },
      {
        "duration": 12,
        "start_time": "2024-06-17T12:18:32.352Z"
      },
      {
        "duration": 56,
        "start_time": "2024-06-17T12:18:32.366Z"
      },
      {
        "duration": 24,
        "start_time": "2024-06-17T12:18:32.425Z"
      },
      {
        "duration": 60,
        "start_time": "2024-06-17T12:18:32.451Z"
      },
      {
        "duration": 12,
        "start_time": "2024-06-17T12:18:32.513Z"
      },
      {
        "duration": 5,
        "start_time": "2024-06-17T12:18:32.527Z"
      },
      {
        "duration": 33,
        "start_time": "2024-06-17T12:18:32.534Z"
      },
      {
        "duration": 22,
        "start_time": "2024-06-17T12:18:32.569Z"
      },
      {
        "duration": 29,
        "start_time": "2024-06-17T12:18:32.593Z"
      },
      {
        "duration": 94,
        "start_time": "2024-06-17T12:18:32.624Z"
      },
      {
        "duration": 91,
        "start_time": "2024-06-17T12:18:32.721Z"
      },
      {
        "duration": 81,
        "start_time": "2024-06-17T12:18:32.817Z"
      },
      {
        "duration": 46,
        "start_time": "2024-06-17T12:18:32.900Z"
      },
      {
        "duration": 14,
        "start_time": "2024-06-17T12:18:32.948Z"
      },
      {
        "duration": 5,
        "start_time": "2024-06-17T12:18:32.964Z"
      },
      {
        "duration": 13,
        "start_time": "2024-06-17T12:18:32.971Z"
      },
      {
        "duration": 11,
        "start_time": "2024-06-17T12:18:32.986Z"
      },
      {
        "duration": 57,
        "start_time": "2024-06-17T12:18:32.999Z"
      },
      {
        "duration": 0,
        "start_time": "2024-06-17T12:18:33.058Z"
      },
      {
        "duration": 0,
        "start_time": "2024-06-17T12:18:33.059Z"
      },
      {
        "duration": 0,
        "start_time": "2024-06-17T12:18:33.060Z"
      },
      {
        "duration": 0,
        "start_time": "2024-06-17T12:18:33.062Z"
      },
      {
        "duration": 0,
        "start_time": "2024-06-17T12:18:33.063Z"
      },
      {
        "duration": 0,
        "start_time": "2024-06-17T12:18:33.064Z"
      },
      {
        "duration": 0,
        "start_time": "2024-06-17T12:18:33.065Z"
      },
      {
        "duration": 0,
        "start_time": "2024-06-17T12:18:33.066Z"
      },
      {
        "duration": 0,
        "start_time": "2024-06-17T12:18:33.067Z"
      },
      {
        "duration": 0,
        "start_time": "2024-06-17T12:18:33.068Z"
      },
      {
        "duration": 0,
        "start_time": "2024-06-17T12:18:33.070Z"
      },
      {
        "duration": 0,
        "start_time": "2024-06-17T12:18:33.071Z"
      },
      {
        "duration": 0,
        "start_time": "2024-06-17T12:18:33.072Z"
      },
      {
        "duration": 0,
        "start_time": "2024-06-17T12:18:33.073Z"
      },
      {
        "duration": 0,
        "start_time": "2024-06-17T12:18:33.074Z"
      },
      {
        "duration": 0,
        "start_time": "2024-06-17T12:18:33.075Z"
      },
      {
        "duration": 0,
        "start_time": "2024-06-17T12:18:33.076Z"
      },
      {
        "duration": 0,
        "start_time": "2024-06-17T12:18:33.077Z"
      },
      {
        "duration": 15,
        "start_time": "2024-06-17T12:23:43.578Z"
      },
      {
        "duration": 8,
        "start_time": "2024-06-17T12:24:32.728Z"
      },
      {
        "duration": 8,
        "start_time": "2024-06-17T12:24:51.863Z"
      },
      {
        "duration": 2,
        "start_time": "2024-06-17T12:24:55.448Z"
      },
      {
        "duration": 199,
        "start_time": "2024-06-17T12:24:55.453Z"
      },
      {
        "duration": 15,
        "start_time": "2024-06-17T12:24:55.654Z"
      },
      {
        "duration": 44,
        "start_time": "2024-06-17T12:24:55.671Z"
      },
      {
        "duration": 2,
        "start_time": "2024-06-17T12:24:55.718Z"
      },
      {
        "duration": 5,
        "start_time": "2024-06-17T12:24:55.722Z"
      },
      {
        "duration": 15,
        "start_time": "2024-06-17T12:24:55.728Z"
      },
      {
        "duration": 4,
        "start_time": "2024-06-17T12:24:55.761Z"
      },
      {
        "duration": 31,
        "start_time": "2024-06-17T12:24:55.767Z"
      },
      {
        "duration": 23,
        "start_time": "2024-06-17T12:24:55.800Z"
      },
      {
        "duration": 51,
        "start_time": "2024-06-17T12:24:55.825Z"
      },
      {
        "duration": 84,
        "start_time": "2024-06-17T12:24:55.878Z"
      },
      {
        "duration": 75,
        "start_time": "2024-06-17T12:24:55.967Z"
      },
      {
        "duration": 86,
        "start_time": "2024-06-17T12:24:56.043Z"
      },
      {
        "duration": 62,
        "start_time": "2024-06-17T12:24:56.130Z"
      },
      {
        "duration": 11,
        "start_time": "2024-06-17T12:24:56.194Z"
      },
      {
        "duration": 10,
        "start_time": "2024-06-17T12:24:56.206Z"
      },
      {
        "duration": 0,
        "start_time": "2024-06-17T12:24:56.218Z"
      },
      {
        "duration": 0,
        "start_time": "2024-06-17T12:24:56.220Z"
      },
      {
        "duration": 0,
        "start_time": "2024-06-17T12:24:56.221Z"
      },
      {
        "duration": 0,
        "start_time": "2024-06-17T12:24:56.222Z"
      },
      {
        "duration": 0,
        "start_time": "2024-06-17T12:24:56.223Z"
      },
      {
        "duration": 0,
        "start_time": "2024-06-17T12:24:56.224Z"
      },
      {
        "duration": 0,
        "start_time": "2024-06-17T12:24:56.225Z"
      },
      {
        "duration": 0,
        "start_time": "2024-06-17T12:24:56.226Z"
      },
      {
        "duration": 0,
        "start_time": "2024-06-17T12:24:56.227Z"
      },
      {
        "duration": 0,
        "start_time": "2024-06-17T12:24:56.228Z"
      },
      {
        "duration": 0,
        "start_time": "2024-06-17T12:24:56.229Z"
      },
      {
        "duration": 0,
        "start_time": "2024-06-17T12:24:56.261Z"
      },
      {
        "duration": 0,
        "start_time": "2024-06-17T12:24:56.263Z"
      },
      {
        "duration": 0,
        "start_time": "2024-06-17T12:24:56.264Z"
      },
      {
        "duration": 0,
        "start_time": "2024-06-17T12:24:56.265Z"
      },
      {
        "duration": 0,
        "start_time": "2024-06-17T12:24:56.267Z"
      },
      {
        "duration": 0,
        "start_time": "2024-06-17T12:24:56.268Z"
      },
      {
        "duration": 0,
        "start_time": "2024-06-17T12:24:56.269Z"
      },
      {
        "duration": 0,
        "start_time": "2024-06-17T12:24:56.271Z"
      },
      {
        "duration": 0,
        "start_time": "2024-06-17T12:24:56.272Z"
      },
      {
        "duration": 0,
        "start_time": "2024-06-17T12:24:56.273Z"
      },
      {
        "duration": 3,
        "start_time": "2024-06-17T12:25:13.752Z"
      },
      {
        "duration": 218,
        "start_time": "2024-06-17T12:25:13.757Z"
      },
      {
        "duration": 11,
        "start_time": "2024-06-17T12:25:13.976Z"
      },
      {
        "duration": 60,
        "start_time": "2024-06-17T12:25:13.989Z"
      },
      {
        "duration": 21,
        "start_time": "2024-06-17T12:25:14.051Z"
      },
      {
        "duration": 39,
        "start_time": "2024-06-17T12:25:14.073Z"
      },
      {
        "duration": 55,
        "start_time": "2024-06-17T12:25:14.114Z"
      },
      {
        "duration": 19,
        "start_time": "2024-06-17T12:25:14.171Z"
      },
      {
        "duration": 45,
        "start_time": "2024-06-17T12:25:14.192Z"
      },
      {
        "duration": 45,
        "start_time": "2024-06-17T12:25:14.239Z"
      },
      {
        "duration": 81,
        "start_time": "2024-06-17T12:25:14.286Z"
      },
      {
        "duration": 92,
        "start_time": "2024-06-17T12:25:14.369Z"
      },
      {
        "duration": 77,
        "start_time": "2024-06-17T12:25:14.462Z"
      },
      {
        "duration": 72,
        "start_time": "2024-06-17T12:25:14.542Z"
      },
      {
        "duration": 50,
        "start_time": "2024-06-17T12:25:14.616Z"
      },
      {
        "duration": 11,
        "start_time": "2024-06-17T12:25:14.668Z"
      },
      {
        "duration": 60,
        "start_time": "2024-06-17T12:25:14.680Z"
      },
      {
        "duration": 3,
        "start_time": "2024-06-17T12:25:14.741Z"
      },
      {
        "duration": 17,
        "start_time": "2024-06-17T12:25:14.745Z"
      },
      {
        "duration": 72,
        "start_time": "2024-06-17T12:25:14.764Z"
      },
      {
        "duration": 0,
        "start_time": "2024-06-17T12:25:14.837Z"
      },
      {
        "duration": 0,
        "start_time": "2024-06-17T12:25:14.839Z"
      },
      {
        "duration": 0,
        "start_time": "2024-06-17T12:25:14.839Z"
      },
      {
        "duration": 0,
        "start_time": "2024-06-17T12:25:14.841Z"
      },
      {
        "duration": 0,
        "start_time": "2024-06-17T12:25:14.842Z"
      },
      {
        "duration": 0,
        "start_time": "2024-06-17T12:25:14.843Z"
      },
      {
        "duration": 0,
        "start_time": "2024-06-17T12:25:14.844Z"
      },
      {
        "duration": 0,
        "start_time": "2024-06-17T12:25:14.845Z"
      },
      {
        "duration": 0,
        "start_time": "2024-06-17T12:25:14.846Z"
      },
      {
        "duration": 0,
        "start_time": "2024-06-17T12:25:14.847Z"
      },
      {
        "duration": 0,
        "start_time": "2024-06-17T12:25:14.848Z"
      },
      {
        "duration": 0,
        "start_time": "2024-06-17T12:25:14.849Z"
      },
      {
        "duration": 0,
        "start_time": "2024-06-17T12:25:14.850Z"
      },
      {
        "duration": 0,
        "start_time": "2024-06-17T12:25:14.852Z"
      },
      {
        "duration": 0,
        "start_time": "2024-06-17T12:25:14.853Z"
      },
      {
        "duration": 0,
        "start_time": "2024-06-17T12:25:14.854Z"
      },
      {
        "duration": 0,
        "start_time": "2024-06-17T12:25:14.855Z"
      },
      {
        "duration": 0,
        "start_time": "2024-06-17T12:25:14.856Z"
      },
      {
        "duration": 45,
        "start_time": "2024-06-17T12:25:36.278Z"
      },
      {
        "duration": 6,
        "start_time": "2024-06-17T12:32:54.950Z"
      },
      {
        "duration": 41,
        "start_time": "2024-06-17T12:33:19.636Z"
      },
      {
        "duration": 14,
        "start_time": "2024-06-17T12:34:51.703Z"
      },
      {
        "duration": 15,
        "start_time": "2024-06-17T12:36:04.493Z"
      },
      {
        "duration": 4,
        "start_time": "2024-06-17T12:48:03.297Z"
      },
      {
        "duration": 3,
        "start_time": "2024-06-17T12:48:06.592Z"
      },
      {
        "duration": 10,
        "start_time": "2024-06-17T12:52:59.557Z"
      },
      {
        "duration": 3,
        "start_time": "2024-06-17T12:53:09.285Z"
      },
      {
        "duration": 190,
        "start_time": "2024-06-17T12:53:09.290Z"
      },
      {
        "duration": 12,
        "start_time": "2024-06-17T12:53:09.481Z"
      },
      {
        "duration": 41,
        "start_time": "2024-06-17T12:53:09.495Z"
      },
      {
        "duration": 12,
        "start_time": "2024-06-17T12:53:09.538Z"
      },
      {
        "duration": 24,
        "start_time": "2024-06-17T12:53:09.551Z"
      },
      {
        "duration": 25,
        "start_time": "2024-06-17T12:53:09.577Z"
      },
      {
        "duration": 31,
        "start_time": "2024-06-17T12:53:09.604Z"
      },
      {
        "duration": 64,
        "start_time": "2024-06-17T12:53:09.637Z"
      },
      {
        "duration": 37,
        "start_time": "2024-06-17T12:53:09.705Z"
      },
      {
        "duration": 37,
        "start_time": "2024-06-17T12:53:09.744Z"
      },
      {
        "duration": 84,
        "start_time": "2024-06-17T12:53:09.782Z"
      },
      {
        "duration": 78,
        "start_time": "2024-06-17T12:53:09.868Z"
      },
      {
        "duration": 63,
        "start_time": "2024-06-17T12:53:09.960Z"
      },
      {
        "duration": 59,
        "start_time": "2024-06-17T12:53:10.025Z"
      },
      {
        "duration": 10,
        "start_time": "2024-06-17T12:53:10.087Z"
      },
      {
        "duration": 74,
        "start_time": "2024-06-17T12:53:10.099Z"
      },
      {
        "duration": 13,
        "start_time": "2024-06-17T12:53:10.175Z"
      },
      {
        "duration": 19,
        "start_time": "2024-06-17T12:53:10.190Z"
      },
      {
        "duration": 16,
        "start_time": "2024-06-17T12:53:10.211Z"
      },
      {
        "duration": 23,
        "start_time": "2024-06-17T12:53:10.229Z"
      },
      {
        "duration": 0,
        "start_time": "2024-06-17T12:53:10.254Z"
      },
      {
        "duration": 0,
        "start_time": "2024-06-17T12:53:10.256Z"
      },
      {
        "duration": 0,
        "start_time": "2024-06-17T12:53:10.263Z"
      },
      {
        "duration": 0,
        "start_time": "2024-06-17T12:53:10.264Z"
      },
      {
        "duration": 0,
        "start_time": "2024-06-17T12:53:10.265Z"
      },
      {
        "duration": 0,
        "start_time": "2024-06-17T12:53:10.267Z"
      },
      {
        "duration": 0,
        "start_time": "2024-06-17T12:53:10.268Z"
      },
      {
        "duration": 0,
        "start_time": "2024-06-17T12:53:10.270Z"
      },
      {
        "duration": 0,
        "start_time": "2024-06-17T12:53:10.271Z"
      },
      {
        "duration": 0,
        "start_time": "2024-06-17T12:53:10.273Z"
      },
      {
        "duration": 0,
        "start_time": "2024-06-17T12:53:10.274Z"
      },
      {
        "duration": 0,
        "start_time": "2024-06-17T12:53:10.275Z"
      },
      {
        "duration": 0,
        "start_time": "2024-06-17T12:53:10.276Z"
      },
      {
        "duration": 0,
        "start_time": "2024-06-17T12:53:10.277Z"
      },
      {
        "duration": 0,
        "start_time": "2024-06-17T12:53:10.278Z"
      },
      {
        "duration": 0,
        "start_time": "2024-06-17T12:53:10.279Z"
      },
      {
        "duration": 0,
        "start_time": "2024-06-17T12:53:10.280Z"
      },
      {
        "duration": 19,
        "start_time": "2024-06-17T12:53:39.778Z"
      },
      {
        "duration": 18,
        "start_time": "2024-06-17T12:53:40.753Z"
      },
      {
        "duration": 16,
        "start_time": "2024-06-17T12:53:41.171Z"
      },
      {
        "duration": 15,
        "start_time": "2024-06-17T12:53:41.442Z"
      },
      {
        "duration": 18,
        "start_time": "2024-06-17T12:53:41.809Z"
      },
      {
        "duration": 18,
        "start_time": "2024-06-17T12:53:42.210Z"
      },
      {
        "duration": 15,
        "start_time": "2024-06-17T12:58:09.064Z"
      },
      {
        "duration": 3,
        "start_time": "2024-06-17T12:59:03.179Z"
      },
      {
        "duration": 207,
        "start_time": "2024-06-17T12:59:03.184Z"
      },
      {
        "duration": 12,
        "start_time": "2024-06-17T12:59:03.393Z"
      },
      {
        "duration": 49,
        "start_time": "2024-06-17T12:59:03.408Z"
      },
      {
        "duration": 4,
        "start_time": "2024-06-17T12:59:03.459Z"
      },
      {
        "duration": 11,
        "start_time": "2024-06-17T12:59:03.465Z"
      },
      {
        "duration": 7,
        "start_time": "2024-06-17T12:59:03.478Z"
      },
      {
        "duration": 5,
        "start_time": "2024-06-17T12:59:03.487Z"
      },
      {
        "duration": 52,
        "start_time": "2024-06-17T12:59:03.494Z"
      },
      {
        "duration": 35,
        "start_time": "2024-06-17T12:59:03.547Z"
      },
      {
        "duration": 30,
        "start_time": "2024-06-17T12:59:03.583Z"
      },
      {
        "duration": 85,
        "start_time": "2024-06-17T12:59:03.615Z"
      },
      {
        "duration": 94,
        "start_time": "2024-06-17T12:59:03.701Z"
      },
      {
        "duration": 71,
        "start_time": "2024-06-17T12:59:03.797Z"
      },
      {
        "duration": 55,
        "start_time": "2024-06-17T12:59:03.870Z"
      },
      {
        "duration": 10,
        "start_time": "2024-06-17T12:59:03.927Z"
      },
      {
        "duration": 71,
        "start_time": "2024-06-17T12:59:03.939Z"
      },
      {
        "duration": 13,
        "start_time": "2024-06-17T12:59:04.012Z"
      },
      {
        "duration": 13,
        "start_time": "2024-06-17T12:59:04.027Z"
      },
      {
        "duration": 20,
        "start_time": "2024-06-17T12:59:04.042Z"
      },
      {
        "duration": 20,
        "start_time": "2024-06-17T12:59:04.064Z"
      },
      {
        "duration": 17,
        "start_time": "2024-06-17T12:59:04.086Z"
      },
      {
        "duration": 16,
        "start_time": "2024-06-17T12:59:04.105Z"
      },
      {
        "duration": 46,
        "start_time": "2024-06-17T12:59:04.124Z"
      },
      {
        "duration": 18,
        "start_time": "2024-06-17T12:59:04.172Z"
      },
      {
        "duration": 15,
        "start_time": "2024-06-17T12:59:04.192Z"
      },
      {
        "duration": 8,
        "start_time": "2024-06-17T12:59:04.209Z"
      },
      {
        "duration": 0,
        "start_time": "2024-06-17T12:59:04.219Z"
      },
      {
        "duration": 0,
        "start_time": "2024-06-17T12:59:04.220Z"
      },
      {
        "duration": 0,
        "start_time": "2024-06-17T12:59:04.221Z"
      },
      {
        "duration": 0,
        "start_time": "2024-06-17T12:59:04.222Z"
      },
      {
        "duration": 0,
        "start_time": "2024-06-17T12:59:04.223Z"
      },
      {
        "duration": 0,
        "start_time": "2024-06-17T12:59:04.224Z"
      },
      {
        "duration": 0,
        "start_time": "2024-06-17T12:59:04.261Z"
      },
      {
        "duration": 0,
        "start_time": "2024-06-17T12:59:04.262Z"
      },
      {
        "duration": 0,
        "start_time": "2024-06-17T12:59:04.263Z"
      },
      {
        "duration": 0,
        "start_time": "2024-06-17T12:59:04.264Z"
      },
      {
        "duration": 0,
        "start_time": "2024-06-17T12:59:04.265Z"
      },
      {
        "duration": 9,
        "start_time": "2024-06-17T13:00:50.481Z"
      },
      {
        "duration": 8,
        "start_time": "2024-06-17T13:00:52.742Z"
      },
      {
        "duration": 3,
        "start_time": "2024-06-17T13:00:54.931Z"
      },
      {
        "duration": 203,
        "start_time": "2024-06-17T13:00:54.935Z"
      },
      {
        "duration": 10,
        "start_time": "2024-06-17T13:00:55.140Z"
      },
      {
        "duration": 55,
        "start_time": "2024-06-17T13:00:55.151Z"
      },
      {
        "duration": 3,
        "start_time": "2024-06-17T13:00:55.208Z"
      },
      {
        "duration": 7,
        "start_time": "2024-06-17T13:00:55.212Z"
      },
      {
        "duration": 14,
        "start_time": "2024-06-17T13:00:55.221Z"
      },
      {
        "duration": 18,
        "start_time": "2024-06-17T13:00:55.237Z"
      },
      {
        "duration": 31,
        "start_time": "2024-06-17T13:00:55.257Z"
      },
      {
        "duration": 19,
        "start_time": "2024-06-17T13:00:55.290Z"
      },
      {
        "duration": 28,
        "start_time": "2024-06-17T13:00:55.310Z"
      },
      {
        "duration": 80,
        "start_time": "2024-06-17T13:00:55.339Z"
      },
      {
        "duration": 83,
        "start_time": "2024-06-17T13:00:55.422Z"
      },
      {
        "duration": 65,
        "start_time": "2024-06-17T13:00:55.506Z"
      },
      {
        "duration": 72,
        "start_time": "2024-06-17T13:00:55.573Z"
      },
      {
        "duration": 10,
        "start_time": "2024-06-17T13:00:55.646Z"
      },
      {
        "duration": 56,
        "start_time": "2024-06-17T13:00:55.658Z"
      },
      {
        "duration": 13,
        "start_time": "2024-06-17T13:00:55.715Z"
      },
      {
        "duration": 16,
        "start_time": "2024-06-17T13:00:55.730Z"
      },
      {
        "duration": 3,
        "start_time": "2024-06-17T13:00:55.748Z"
      },
      {
        "duration": 32,
        "start_time": "2024-06-17T13:00:55.753Z"
      },
      {
        "duration": 26,
        "start_time": "2024-06-17T13:00:55.786Z"
      },
      {
        "duration": 16,
        "start_time": "2024-06-17T13:00:55.813Z"
      },
      {
        "duration": 15,
        "start_time": "2024-06-17T13:00:55.830Z"
      },
      {
        "duration": 31,
        "start_time": "2024-06-17T13:00:55.846Z"
      },
      {
        "duration": 20,
        "start_time": "2024-06-17T13:00:55.879Z"
      },
      {
        "duration": 11,
        "start_time": "2024-06-17T13:00:55.901Z"
      },
      {
        "duration": 0,
        "start_time": "2024-06-17T13:00:55.916Z"
      },
      {
        "duration": 0,
        "start_time": "2024-06-17T13:00:55.919Z"
      },
      {
        "duration": 0,
        "start_time": "2024-06-17T13:00:55.920Z"
      },
      {
        "duration": 0,
        "start_time": "2024-06-17T13:00:55.921Z"
      },
      {
        "duration": 0,
        "start_time": "2024-06-17T13:00:55.923Z"
      },
      {
        "duration": 0,
        "start_time": "2024-06-17T13:00:55.925Z"
      },
      {
        "duration": 0,
        "start_time": "2024-06-17T13:00:55.961Z"
      },
      {
        "duration": 0,
        "start_time": "2024-06-17T13:00:55.962Z"
      },
      {
        "duration": 0,
        "start_time": "2024-06-17T13:00:55.964Z"
      },
      {
        "duration": 0,
        "start_time": "2024-06-17T13:00:55.965Z"
      },
      {
        "duration": 0,
        "start_time": "2024-06-17T13:00:55.967Z"
      },
      {
        "duration": 11,
        "start_time": "2024-06-17T13:01:22.416Z"
      },
      {
        "duration": 8,
        "start_time": "2024-06-17T13:01:31.583Z"
      },
      {
        "duration": 10,
        "start_time": "2024-06-17T13:01:33.007Z"
      },
      {
        "duration": 8,
        "start_time": "2024-06-17T13:02:02.670Z"
      },
      {
        "duration": 2,
        "start_time": "2024-06-17T13:02:07.475Z"
      },
      {
        "duration": 201,
        "start_time": "2024-06-17T13:02:07.479Z"
      },
      {
        "duration": 11,
        "start_time": "2024-06-17T13:02:07.681Z"
      },
      {
        "duration": 40,
        "start_time": "2024-06-17T13:02:07.694Z"
      },
      {
        "duration": 3,
        "start_time": "2024-06-17T13:02:07.736Z"
      },
      {
        "duration": 22,
        "start_time": "2024-06-17T13:02:07.741Z"
      },
      {
        "duration": 12,
        "start_time": "2024-06-17T13:02:07.765Z"
      },
      {
        "duration": 6,
        "start_time": "2024-06-17T13:02:07.779Z"
      },
      {
        "duration": 32,
        "start_time": "2024-06-17T13:02:07.786Z"
      },
      {
        "duration": 21,
        "start_time": "2024-06-17T13:02:07.820Z"
      },
      {
        "duration": 30,
        "start_time": "2024-06-17T13:02:07.861Z"
      },
      {
        "duration": 83,
        "start_time": "2024-06-17T13:02:07.893Z"
      },
      {
        "duration": 87,
        "start_time": "2024-06-17T13:02:07.981Z"
      },
      {
        "duration": 61,
        "start_time": "2024-06-17T13:02:08.070Z"
      },
      {
        "duration": 58,
        "start_time": "2024-06-17T13:02:08.132Z"
      },
      {
        "duration": 52,
        "start_time": "2024-06-17T13:02:08.193Z"
      },
      {
        "duration": 50,
        "start_time": "2024-06-17T13:02:08.247Z"
      },
      {
        "duration": 14,
        "start_time": "2024-06-17T13:02:08.299Z"
      },
      {
        "duration": 21,
        "start_time": "2024-06-17T13:02:08.315Z"
      },
      {
        "duration": 21,
        "start_time": "2024-06-17T13:02:08.338Z"
      },
      {
        "duration": 56,
        "start_time": "2024-06-17T13:02:08.361Z"
      },
      {
        "duration": 94,
        "start_time": "2024-06-17T13:02:08.419Z"
      },
      {
        "duration": 33,
        "start_time": "2024-06-17T13:02:08.515Z"
      },
      {
        "duration": 19,
        "start_time": "2024-06-17T13:02:08.550Z"
      },
      {
        "duration": 128,
        "start_time": "2024-06-17T13:02:08.571Z"
      },
      {
        "duration": 20,
        "start_time": "2024-06-17T13:02:08.701Z"
      },
      {
        "duration": 10,
        "start_time": "2024-06-17T13:02:08.723Z"
      },
      {
        "duration": 0,
        "start_time": "2024-06-17T13:02:08.735Z"
      },
      {
        "duration": 0,
        "start_time": "2024-06-17T13:02:08.737Z"
      },
      {
        "duration": 0,
        "start_time": "2024-06-17T13:02:08.738Z"
      },
      {
        "duration": 0,
        "start_time": "2024-06-17T13:02:08.740Z"
      },
      {
        "duration": 0,
        "start_time": "2024-06-17T13:02:08.741Z"
      },
      {
        "duration": 0,
        "start_time": "2024-06-17T13:02:08.742Z"
      },
      {
        "duration": 0,
        "start_time": "2024-06-17T13:02:08.743Z"
      },
      {
        "duration": 0,
        "start_time": "2024-06-17T13:02:08.744Z"
      },
      {
        "duration": 0,
        "start_time": "2024-06-17T13:02:08.745Z"
      },
      {
        "duration": 0,
        "start_time": "2024-06-17T13:02:08.761Z"
      },
      {
        "duration": 0,
        "start_time": "2024-06-17T13:02:08.762Z"
      },
      {
        "duration": 15,
        "start_time": "2024-06-17T13:04:11.769Z"
      },
      {
        "duration": 14,
        "start_time": "2024-06-17T13:04:13.256Z"
      },
      {
        "duration": 4,
        "start_time": "2024-06-17T13:04:17.305Z"
      },
      {
        "duration": 197,
        "start_time": "2024-06-17T13:04:17.311Z"
      },
      {
        "duration": 12,
        "start_time": "2024-06-17T13:04:17.509Z"
      },
      {
        "duration": 48,
        "start_time": "2024-06-17T13:04:17.523Z"
      },
      {
        "duration": 15,
        "start_time": "2024-06-17T13:04:17.574Z"
      },
      {
        "duration": 21,
        "start_time": "2024-06-17T13:04:17.590Z"
      },
      {
        "duration": 9,
        "start_time": "2024-06-17T13:04:17.613Z"
      },
      {
        "duration": 6,
        "start_time": "2024-06-17T13:04:17.624Z"
      },
      {
        "duration": 53,
        "start_time": "2024-06-17T13:04:17.632Z"
      },
      {
        "duration": 41,
        "start_time": "2024-06-17T13:04:17.687Z"
      },
      {
        "duration": 43,
        "start_time": "2024-06-17T13:04:17.730Z"
      },
      {
        "duration": 86,
        "start_time": "2024-06-17T13:04:17.776Z"
      },
      {
        "duration": 97,
        "start_time": "2024-06-17T13:04:17.864Z"
      },
      {
        "duration": 60,
        "start_time": "2024-06-17T13:04:17.964Z"
      },
      {
        "duration": 58,
        "start_time": "2024-06-17T13:04:18.026Z"
      },
      {
        "duration": 11,
        "start_time": "2024-06-17T13:04:18.085Z"
      },
      {
        "duration": 48,
        "start_time": "2024-06-17T13:04:18.098Z"
      },
      {
        "duration": 12,
        "start_time": "2024-06-17T13:04:18.162Z"
      },
      {
        "duration": 19,
        "start_time": "2024-06-17T13:04:18.176Z"
      },
      {
        "duration": 4,
        "start_time": "2024-06-17T13:04:18.196Z"
      },
      {
        "duration": 31,
        "start_time": "2024-06-17T13:04:18.201Z"
      },
      {
        "duration": 32,
        "start_time": "2024-06-17T13:04:18.233Z"
      },
      {
        "duration": 16,
        "start_time": "2024-06-17T13:04:18.267Z"
      },
      {
        "duration": 16,
        "start_time": "2024-06-17T13:04:18.285Z"
      },
      {
        "duration": 38,
        "start_time": "2024-06-17T13:04:18.302Z"
      },
      {
        "duration": 24,
        "start_time": "2024-06-17T13:04:18.341Z"
      },
      {
        "duration": 12,
        "start_time": "2024-06-17T13:04:18.367Z"
      },
      {
        "duration": 0,
        "start_time": "2024-06-17T13:04:18.381Z"
      },
      {
        "duration": 0,
        "start_time": "2024-06-17T13:04:18.382Z"
      },
      {
        "duration": 0,
        "start_time": "2024-06-17T13:04:18.384Z"
      },
      {
        "duration": 0,
        "start_time": "2024-06-17T13:04:18.385Z"
      },
      {
        "duration": 0,
        "start_time": "2024-06-17T13:04:18.386Z"
      },
      {
        "duration": 0,
        "start_time": "2024-06-17T13:04:18.387Z"
      },
      {
        "duration": 0,
        "start_time": "2024-06-17T13:04:18.388Z"
      },
      {
        "duration": 0,
        "start_time": "2024-06-17T13:04:18.389Z"
      },
      {
        "duration": 0,
        "start_time": "2024-06-17T13:04:18.391Z"
      },
      {
        "duration": 0,
        "start_time": "2024-06-17T13:04:18.391Z"
      },
      {
        "duration": 0,
        "start_time": "2024-06-17T13:04:18.392Z"
      },
      {
        "duration": 10,
        "start_time": "2024-06-17T13:07:07.234Z"
      },
      {
        "duration": 9,
        "start_time": "2024-06-17T13:07:21.266Z"
      },
      {
        "duration": 8,
        "start_time": "2024-06-17T13:10:36.154Z"
      },
      {
        "duration": 12,
        "start_time": "2024-06-17T13:10:48.650Z"
      },
      {
        "duration": 11,
        "start_time": "2024-06-17T13:10:50.313Z"
      },
      {
        "duration": 376,
        "start_time": "2024-06-17T17:17:41.859Z"
      },
      {
        "duration": 262,
        "start_time": "2024-06-17T17:17:42.236Z"
      },
      {
        "duration": 17,
        "start_time": "2024-06-17T17:17:42.500Z"
      },
      {
        "duration": 31,
        "start_time": "2024-06-17T17:17:42.519Z"
      },
      {
        "duration": 2,
        "start_time": "2024-06-17T17:17:42.552Z"
      },
      {
        "duration": 4,
        "start_time": "2024-06-17T17:17:42.555Z"
      },
      {
        "duration": 12,
        "start_time": "2024-06-17T17:17:42.561Z"
      },
      {
        "duration": 32,
        "start_time": "2024-06-17T17:17:42.574Z"
      },
      {
        "duration": 31,
        "start_time": "2024-06-17T17:17:42.607Z"
      },
      {
        "duration": 25,
        "start_time": "2024-06-17T17:17:42.640Z"
      },
      {
        "duration": 42,
        "start_time": "2024-06-17T17:17:42.667Z"
      },
      {
        "duration": 67,
        "start_time": "2024-06-17T17:17:42.710Z"
      },
      {
        "duration": 89,
        "start_time": "2024-06-17T17:17:42.779Z"
      },
      {
        "duration": 73,
        "start_time": "2024-06-17T17:17:42.871Z"
      },
      {
        "duration": 43,
        "start_time": "2024-06-17T17:17:42.945Z"
      },
      {
        "duration": 15,
        "start_time": "2024-06-17T17:17:42.990Z"
      },
      {
        "duration": 45,
        "start_time": "2024-06-17T17:17:43.007Z"
      },
      {
        "duration": 13,
        "start_time": "2024-06-17T17:17:43.053Z"
      },
      {
        "duration": 38,
        "start_time": "2024-06-17T17:17:43.067Z"
      },
      {
        "duration": 3,
        "start_time": "2024-06-17T17:17:43.107Z"
      },
      {
        "duration": 23,
        "start_time": "2024-06-17T17:17:43.112Z"
      },
      {
        "duration": 14,
        "start_time": "2024-06-17T17:17:43.137Z"
      },
      {
        "duration": 15,
        "start_time": "2024-06-17T17:17:43.152Z"
      },
      {
        "duration": 36,
        "start_time": "2024-06-17T17:17:43.168Z"
      },
      {
        "duration": 17,
        "start_time": "2024-06-17T17:17:43.205Z"
      },
      {
        "duration": 15,
        "start_time": "2024-06-17T17:17:43.223Z"
      },
      {
        "duration": 8,
        "start_time": "2024-06-17T17:17:43.239Z"
      },
      {
        "duration": 12,
        "start_time": "2024-06-17T17:17:43.248Z"
      },
      {
        "duration": 42,
        "start_time": "2024-06-17T17:17:43.261Z"
      },
      {
        "duration": 72,
        "start_time": "2024-06-17T17:17:43.305Z"
      },
      {
        "duration": 0,
        "start_time": "2024-06-17T17:17:43.378Z"
      },
      {
        "duration": 0,
        "start_time": "2024-06-17T17:17:43.379Z"
      },
      {
        "duration": 0,
        "start_time": "2024-06-17T17:17:43.380Z"
      },
      {
        "duration": 0,
        "start_time": "2024-06-17T17:17:43.381Z"
      },
      {
        "duration": 0,
        "start_time": "2024-06-17T17:17:43.382Z"
      },
      {
        "duration": 0,
        "start_time": "2024-06-17T17:17:43.383Z"
      },
      {
        "duration": 0,
        "start_time": "2024-06-17T17:17:43.384Z"
      },
      {
        "duration": 0,
        "start_time": "2024-06-17T17:17:43.385Z"
      },
      {
        "duration": 4,
        "start_time": "2024-06-17T17:18:03.564Z"
      },
      {
        "duration": 3,
        "start_time": "2024-06-17T17:18:07.312Z"
      },
      {
        "duration": 192,
        "start_time": "2024-06-17T17:18:07.317Z"
      },
      {
        "duration": 12,
        "start_time": "2024-06-17T17:18:07.510Z"
      },
      {
        "duration": 42,
        "start_time": "2024-06-17T17:18:07.523Z"
      },
      {
        "duration": 3,
        "start_time": "2024-06-17T17:18:07.567Z"
      },
      {
        "duration": 10,
        "start_time": "2024-06-17T17:18:07.571Z"
      },
      {
        "duration": 21,
        "start_time": "2024-06-17T17:18:07.582Z"
      },
      {
        "duration": 5,
        "start_time": "2024-06-17T17:18:07.605Z"
      },
      {
        "duration": 30,
        "start_time": "2024-06-17T17:18:07.612Z"
      },
      {
        "duration": 20,
        "start_time": "2024-06-17T17:18:07.643Z"
      },
      {
        "duration": 45,
        "start_time": "2024-06-17T17:18:07.664Z"
      },
      {
        "duration": 70,
        "start_time": "2024-06-17T17:18:07.711Z"
      },
      {
        "duration": 71,
        "start_time": "2024-06-17T17:18:07.801Z"
      },
      {
        "duration": 67,
        "start_time": "2024-06-17T17:18:07.874Z"
      },
      {
        "duration": 42,
        "start_time": "2024-06-17T17:18:07.942Z"
      },
      {
        "duration": 21,
        "start_time": "2024-06-17T17:18:07.985Z"
      },
      {
        "duration": 42,
        "start_time": "2024-06-17T17:18:08.007Z"
      },
      {
        "duration": 13,
        "start_time": "2024-06-17T17:18:08.050Z"
      },
      {
        "duration": 38,
        "start_time": "2024-06-17T17:18:08.064Z"
      },
      {
        "duration": 3,
        "start_time": "2024-06-17T17:18:08.103Z"
      },
      {
        "duration": 23,
        "start_time": "2024-06-17T17:18:08.108Z"
      },
      {
        "duration": 18,
        "start_time": "2024-06-17T17:18:08.132Z"
      },
      {
        "duration": 23,
        "start_time": "2024-06-17T17:18:08.152Z"
      },
      {
        "duration": 36,
        "start_time": "2024-06-17T17:18:08.176Z"
      },
      {
        "duration": 18,
        "start_time": "2024-06-17T17:18:08.214Z"
      },
      {
        "duration": 21,
        "start_time": "2024-06-17T17:18:08.234Z"
      },
      {
        "duration": 8,
        "start_time": "2024-06-17T17:18:08.256Z"
      },
      {
        "duration": 36,
        "start_time": "2024-06-17T17:18:08.265Z"
      },
      {
        "duration": 9,
        "start_time": "2024-06-17T17:18:08.303Z"
      },
      {
        "duration": 5,
        "start_time": "2024-06-17T17:18:08.314Z"
      },
      {
        "duration": 11,
        "start_time": "2024-06-17T17:18:08.320Z"
      },
      {
        "duration": 5,
        "start_time": "2024-06-17T17:18:08.333Z"
      },
      {
        "duration": 3,
        "start_time": "2024-06-17T17:18:08.340Z"
      },
      {
        "duration": 5,
        "start_time": "2024-06-17T17:18:08.344Z"
      },
      {
        "duration": 4,
        "start_time": "2024-06-17T17:18:08.350Z"
      },
      {
        "duration": 7,
        "start_time": "2024-06-17T17:18:08.355Z"
      },
      {
        "duration": 16,
        "start_time": "2024-06-17T17:18:08.365Z"
      },
      {
        "duration": 5,
        "start_time": "2024-06-17T17:18:08.382Z"
      },
      {
        "duration": 77,
        "start_time": "2024-06-17T17:23:54.951Z"
      },
      {
        "duration": 3,
        "start_time": "2024-06-17T17:24:01.047Z"
      },
      {
        "duration": 214,
        "start_time": "2024-06-17T17:24:01.052Z"
      },
      {
        "duration": 11,
        "start_time": "2024-06-17T17:24:01.267Z"
      },
      {
        "duration": 59,
        "start_time": "2024-06-17T17:24:01.280Z"
      },
      {
        "duration": 14,
        "start_time": "2024-06-17T17:24:01.340Z"
      },
      {
        "duration": 45,
        "start_time": "2024-06-17T17:24:01.355Z"
      },
      {
        "duration": 30,
        "start_time": "2024-06-17T17:24:01.402Z"
      },
      {
        "duration": 25,
        "start_time": "2024-06-17T17:24:01.433Z"
      },
      {
        "duration": 44,
        "start_time": "2024-06-17T17:24:01.460Z"
      },
      {
        "duration": 25,
        "start_time": "2024-06-17T17:24:01.506Z"
      },
      {
        "duration": 26,
        "start_time": "2024-06-17T17:24:01.533Z"
      },
      {
        "duration": 73,
        "start_time": "2024-06-17T17:24:01.560Z"
      },
      {
        "duration": 80,
        "start_time": "2024-06-17T17:24:01.634Z"
      },
      {
        "duration": 58,
        "start_time": "2024-06-17T17:24:01.715Z"
      },
      {
        "duration": 52,
        "start_time": "2024-06-17T17:24:01.775Z"
      },
      {
        "duration": 18,
        "start_time": "2024-06-17T17:24:01.828Z"
      },
      {
        "duration": 51,
        "start_time": "2024-06-17T17:24:01.848Z"
      },
      {
        "duration": 12,
        "start_time": "2024-06-17T17:24:01.901Z"
      },
      {
        "duration": 23,
        "start_time": "2024-06-17T17:24:01.914Z"
      },
      {
        "duration": 13,
        "start_time": "2024-06-17T17:24:01.938Z"
      },
      {
        "duration": 25,
        "start_time": "2024-06-17T17:24:01.953Z"
      },
      {
        "duration": 28,
        "start_time": "2024-06-17T17:24:01.980Z"
      },
      {
        "duration": 20,
        "start_time": "2024-06-17T17:24:02.009Z"
      },
      {
        "duration": 15,
        "start_time": "2024-06-17T17:24:02.032Z"
      },
      {
        "duration": 18,
        "start_time": "2024-06-17T17:24:02.049Z"
      },
      {
        "duration": 38,
        "start_time": "2024-06-17T17:24:02.068Z"
      },
      {
        "duration": 8,
        "start_time": "2024-06-17T17:24:02.108Z"
      },
      {
        "duration": 24,
        "start_time": "2024-06-17T17:24:02.117Z"
      },
      {
        "duration": 10,
        "start_time": "2024-06-17T17:24:02.143Z"
      },
      {
        "duration": 22,
        "start_time": "2024-06-17T17:24:02.154Z"
      },
      {
        "duration": 0,
        "start_time": "2024-06-17T17:24:02.178Z"
      },
      {
        "duration": 0,
        "start_time": "2024-06-17T17:24:02.179Z"
      },
      {
        "duration": 0,
        "start_time": "2024-06-17T17:24:02.180Z"
      },
      {
        "duration": 0,
        "start_time": "2024-06-17T17:24:02.181Z"
      },
      {
        "duration": 0,
        "start_time": "2024-06-17T17:24:02.200Z"
      },
      {
        "duration": 0,
        "start_time": "2024-06-17T17:24:02.201Z"
      },
      {
        "duration": 0,
        "start_time": "2024-06-17T17:24:02.202Z"
      },
      {
        "duration": 0,
        "start_time": "2024-06-17T17:24:02.203Z"
      },
      {
        "duration": 19,
        "start_time": "2024-06-17T17:24:43.638Z"
      },
      {
        "duration": 3,
        "start_time": "2024-06-17T17:24:58.318Z"
      },
      {
        "duration": 181,
        "start_time": "2024-06-17T17:24:58.323Z"
      },
      {
        "duration": 11,
        "start_time": "2024-06-17T17:24:58.506Z"
      },
      {
        "duration": 32,
        "start_time": "2024-06-17T17:24:58.520Z"
      },
      {
        "duration": 2,
        "start_time": "2024-06-17T17:24:58.554Z"
      },
      {
        "duration": 5,
        "start_time": "2024-06-17T17:24:58.558Z"
      },
      {
        "duration": 34,
        "start_time": "2024-06-17T17:24:58.565Z"
      },
      {
        "duration": 4,
        "start_time": "2024-06-17T17:24:58.601Z"
      },
      {
        "duration": 28,
        "start_time": "2024-06-17T17:24:58.606Z"
      },
      {
        "duration": 18,
        "start_time": "2024-06-17T17:24:58.636Z"
      },
      {
        "duration": 47,
        "start_time": "2024-06-17T17:24:58.656Z"
      },
      {
        "duration": 62,
        "start_time": "2024-06-17T17:24:58.705Z"
      },
      {
        "duration": 85,
        "start_time": "2024-06-17T17:24:58.768Z"
      },
      {
        "duration": 61,
        "start_time": "2024-06-17T17:24:58.854Z"
      },
      {
        "duration": 45,
        "start_time": "2024-06-17T17:24:58.917Z"
      },
      {
        "duration": 14,
        "start_time": "2024-06-17T17:24:58.963Z"
      },
      {
        "duration": 60,
        "start_time": "2024-06-17T17:24:58.979Z"
      },
      {
        "duration": 19,
        "start_time": "2024-06-17T17:24:59.041Z"
      },
      {
        "duration": 13,
        "start_time": "2024-06-17T17:24:59.070Z"
      },
      {
        "duration": 16,
        "start_time": "2024-06-17T17:24:59.085Z"
      },
      {
        "duration": 19,
        "start_time": "2024-06-17T17:24:59.103Z"
      },
      {
        "duration": 14,
        "start_time": "2024-06-17T17:24:59.123Z"
      },
      {
        "duration": 15,
        "start_time": "2024-06-17T17:24:59.139Z"
      },
      {
        "duration": 14,
        "start_time": "2024-06-17T17:24:59.155Z"
      },
      {
        "duration": 42,
        "start_time": "2024-06-17T17:24:59.171Z"
      },
      {
        "duration": 15,
        "start_time": "2024-06-17T17:24:59.215Z"
      },
      {
        "duration": 8,
        "start_time": "2024-06-17T17:24:59.231Z"
      },
      {
        "duration": 13,
        "start_time": "2024-06-17T17:24:59.242Z"
      },
      {
        "duration": 44,
        "start_time": "2024-06-17T17:24:59.256Z"
      },
      {
        "duration": 18,
        "start_time": "2024-06-17T17:24:59.301Z"
      },
      {
        "duration": 2,
        "start_time": "2024-06-17T17:24:59.320Z"
      },
      {
        "duration": 6,
        "start_time": "2024-06-17T17:24:59.324Z"
      },
      {
        "duration": 4,
        "start_time": "2024-06-17T17:24:59.331Z"
      },
      {
        "duration": 3,
        "start_time": "2024-06-17T17:24:59.336Z"
      },
      {
        "duration": 3,
        "start_time": "2024-06-17T17:24:59.340Z"
      },
      {
        "duration": 3,
        "start_time": "2024-06-17T17:24:59.345Z"
      },
      {
        "duration": 3,
        "start_time": "2024-06-17T17:24:59.349Z"
      },
      {
        "duration": 3,
        "start_time": "2024-06-17T17:24:59.354Z"
      },
      {
        "duration": 4,
        "start_time": "2024-06-17T17:26:41.289Z"
      },
      {
        "duration": 2,
        "start_time": "2024-06-17T17:26:45.753Z"
      },
      {
        "duration": 190,
        "start_time": "2024-06-17T17:26:45.757Z"
      },
      {
        "duration": 13,
        "start_time": "2024-06-17T17:26:45.949Z"
      },
      {
        "duration": 43,
        "start_time": "2024-06-17T17:26:45.964Z"
      },
      {
        "duration": 2,
        "start_time": "2024-06-17T17:26:46.009Z"
      },
      {
        "duration": 8,
        "start_time": "2024-06-17T17:26:46.013Z"
      },
      {
        "duration": 36,
        "start_time": "2024-06-17T17:26:46.022Z"
      },
      {
        "duration": 4,
        "start_time": "2024-06-17T17:26:46.059Z"
      },
      {
        "duration": 37,
        "start_time": "2024-06-17T17:26:46.065Z"
      },
      {
        "duration": 44,
        "start_time": "2024-06-17T17:26:46.103Z"
      },
      {
        "duration": 26,
        "start_time": "2024-06-17T17:26:46.149Z"
      },
      {
        "duration": 63,
        "start_time": "2024-06-17T17:26:46.178Z"
      },
      {
        "duration": 75,
        "start_time": "2024-06-17T17:26:46.243Z"
      },
      {
        "duration": 57,
        "start_time": "2024-06-17T17:26:46.319Z"
      },
      {
        "duration": 56,
        "start_time": "2024-06-17T17:26:46.377Z"
      },
      {
        "duration": 11,
        "start_time": "2024-06-17T17:26:46.435Z"
      },
      {
        "duration": 61,
        "start_time": "2024-06-17T17:26:46.448Z"
      },
      {
        "duration": 12,
        "start_time": "2024-06-17T17:26:46.511Z"
      },
      {
        "duration": 12,
        "start_time": "2024-06-17T17:26:46.525Z"
      },
      {
        "duration": 9,
        "start_time": "2024-06-17T17:26:46.538Z"
      },
      {
        "duration": 21,
        "start_time": "2024-06-17T17:26:46.548Z"
      },
      {
        "duration": 37,
        "start_time": "2024-06-17T17:26:46.570Z"
      },
      {
        "duration": 15,
        "start_time": "2024-06-17T17:26:46.608Z"
      },
      {
        "duration": 13,
        "start_time": "2024-06-17T17:26:46.626Z"
      },
      {
        "duration": 16,
        "start_time": "2024-06-17T17:26:46.641Z"
      },
      {
        "duration": 42,
        "start_time": "2024-06-17T17:26:46.658Z"
      },
      {
        "duration": 8,
        "start_time": "2024-06-17T17:26:46.702Z"
      },
      {
        "duration": 14,
        "start_time": "2024-06-17T17:26:46.711Z"
      },
      {
        "duration": 10,
        "start_time": "2024-06-17T17:26:46.727Z"
      },
      {
        "duration": 4,
        "start_time": "2024-06-17T17:26:46.738Z"
      },
      {
        "duration": 6,
        "start_time": "2024-06-17T17:26:46.744Z"
      },
      {
        "duration": 13,
        "start_time": "2024-06-17T17:26:46.752Z"
      },
      {
        "duration": 3,
        "start_time": "2024-06-17T17:26:46.767Z"
      },
      {
        "duration": 28,
        "start_time": "2024-06-17T17:26:46.771Z"
      },
      {
        "duration": 22,
        "start_time": "2024-06-17T17:26:46.801Z"
      },
      {
        "duration": 4,
        "start_time": "2024-06-17T17:26:46.825Z"
      },
      {
        "duration": 3,
        "start_time": "2024-06-17T17:26:46.831Z"
      },
      {
        "duration": 4,
        "start_time": "2024-06-17T17:26:46.835Z"
      },
      {
        "duration": 15,
        "start_time": "2024-06-17T17:29:45.591Z"
      },
      {
        "duration": 2,
        "start_time": "2024-06-17T17:31:31.964Z"
      },
      {
        "duration": 189,
        "start_time": "2024-06-17T17:31:31.968Z"
      },
      {
        "duration": 10,
        "start_time": "2024-06-17T17:31:32.159Z"
      },
      {
        "duration": 48,
        "start_time": "2024-06-17T17:31:32.171Z"
      },
      {
        "duration": 3,
        "start_time": "2024-06-17T17:31:32.221Z"
      },
      {
        "duration": 16,
        "start_time": "2024-06-17T17:31:32.225Z"
      },
      {
        "duration": 7,
        "start_time": "2024-06-17T17:31:32.242Z"
      },
      {
        "duration": 4,
        "start_time": "2024-06-17T17:31:32.251Z"
      },
      {
        "duration": 43,
        "start_time": "2024-06-17T17:31:32.256Z"
      },
      {
        "duration": 20,
        "start_time": "2024-06-17T17:31:32.301Z"
      },
      {
        "duration": 28,
        "start_time": "2024-06-17T17:31:32.323Z"
      },
      {
        "duration": 90,
        "start_time": "2024-06-17T17:31:32.352Z"
      },
      {
        "duration": 95,
        "start_time": "2024-06-17T17:31:32.446Z"
      },
      {
        "duration": 64,
        "start_time": "2024-06-17T17:31:32.542Z"
      },
      {
        "duration": 42,
        "start_time": "2024-06-17T17:31:32.608Z"
      },
      {
        "duration": 10,
        "start_time": "2024-06-17T17:31:32.651Z"
      },
      {
        "duration": 63,
        "start_time": "2024-06-17T17:31:32.663Z"
      },
      {
        "duration": 12,
        "start_time": "2024-06-17T17:31:32.728Z"
      },
      {
        "duration": 13,
        "start_time": "2024-06-17T17:31:32.742Z"
      },
      {
        "duration": 3,
        "start_time": "2024-06-17T17:31:32.756Z"
      },
      {
        "duration": 41,
        "start_time": "2024-06-17T17:31:32.761Z"
      },
      {
        "duration": 16,
        "start_time": "2024-06-17T17:31:32.803Z"
      },
      {
        "duration": 15,
        "start_time": "2024-06-17T17:31:32.821Z"
      },
      {
        "duration": 16,
        "start_time": "2024-06-17T17:31:32.837Z"
      },
      {
        "duration": 45,
        "start_time": "2024-06-17T17:31:32.855Z"
      },
      {
        "duration": 15,
        "start_time": "2024-06-17T17:31:32.902Z"
      },
      {
        "duration": 8,
        "start_time": "2024-06-17T17:31:32.918Z"
      },
      {
        "duration": 15,
        "start_time": "2024-06-17T17:31:32.927Z"
      },
      {
        "duration": 10,
        "start_time": "2024-06-17T17:31:32.944Z"
      },
      {
        "duration": 4,
        "start_time": "2024-06-17T17:31:32.955Z"
      },
      {
        "duration": 41,
        "start_time": "2024-06-17T17:31:32.961Z"
      },
      {
        "duration": 11,
        "start_time": "2024-06-17T17:31:33.003Z"
      },
      {
        "duration": 20,
        "start_time": "2024-06-17T17:31:33.015Z"
      },
      {
        "duration": 13,
        "start_time": "2024-06-17T17:31:33.036Z"
      },
      {
        "duration": 2,
        "start_time": "2024-06-17T17:31:33.050Z"
      },
      {
        "duration": 10,
        "start_time": "2024-06-17T17:31:33.054Z"
      },
      {
        "duration": 2,
        "start_time": "2024-06-17T17:31:33.101Z"
      },
      {
        "duration": 4,
        "start_time": "2024-06-17T17:31:33.105Z"
      },
      {
        "duration": 15,
        "start_time": "2024-06-17T17:32:12.617Z"
      },
      {
        "duration": 15,
        "start_time": "2024-06-17T17:32:14.953Z"
      },
      {
        "duration": 11,
        "start_time": "2024-06-17T17:32:16.604Z"
      },
      {
        "duration": 14,
        "start_time": "2024-06-17T17:35:44.241Z"
      },
      {
        "duration": 2,
        "start_time": "2024-06-17T17:35:58.583Z"
      },
      {
        "duration": 178,
        "start_time": "2024-06-17T17:35:58.587Z"
      },
      {
        "duration": 10,
        "start_time": "2024-06-17T17:35:58.766Z"
      },
      {
        "duration": 41,
        "start_time": "2024-06-17T17:35:58.778Z"
      },
      {
        "duration": 3,
        "start_time": "2024-06-17T17:35:58.820Z"
      },
      {
        "duration": 4,
        "start_time": "2024-06-17T17:35:58.824Z"
      },
      {
        "duration": 13,
        "start_time": "2024-06-17T17:35:58.830Z"
      },
      {
        "duration": 10,
        "start_time": "2024-06-17T17:35:58.844Z"
      },
      {
        "duration": 47,
        "start_time": "2024-06-17T17:35:58.856Z"
      },
      {
        "duration": 18,
        "start_time": "2024-06-17T17:35:58.905Z"
      },
      {
        "duration": 27,
        "start_time": "2024-06-17T17:35:58.925Z"
      },
      {
        "duration": 85,
        "start_time": "2024-06-17T17:35:58.954Z"
      },
      {
        "duration": 82,
        "start_time": "2024-06-17T17:35:59.040Z"
      },
      {
        "duration": 58,
        "start_time": "2024-06-17T17:35:59.124Z"
      },
      {
        "duration": 51,
        "start_time": "2024-06-17T17:35:59.184Z"
      },
      {
        "duration": 9,
        "start_time": "2024-06-17T17:35:59.237Z"
      },
      {
        "duration": 56,
        "start_time": "2024-06-17T17:35:59.248Z"
      },
      {
        "duration": 12,
        "start_time": "2024-06-17T17:35:59.306Z"
      },
      {
        "duration": 13,
        "start_time": "2024-06-17T17:35:59.319Z"
      },
      {
        "duration": 3,
        "start_time": "2024-06-17T17:35:59.334Z"
      },
      {
        "duration": 20,
        "start_time": "2024-06-17T17:35:59.339Z"
      },
      {
        "duration": 47,
        "start_time": "2024-06-17T17:35:59.360Z"
      },
      {
        "duration": 15,
        "start_time": "2024-06-17T17:35:59.409Z"
      },
      {
        "duration": 14,
        "start_time": "2024-06-17T17:35:59.427Z"
      },
      {
        "duration": 16,
        "start_time": "2024-06-17T17:35:59.443Z"
      },
      {
        "duration": 44,
        "start_time": "2024-06-17T17:35:59.461Z"
      },
      {
        "duration": 9,
        "start_time": "2024-06-17T17:35:59.507Z"
      },
      {
        "duration": 13,
        "start_time": "2024-06-17T17:35:59.517Z"
      },
      {
        "duration": 11,
        "start_time": "2024-06-17T17:35:59.531Z"
      },
      {
        "duration": 5,
        "start_time": "2024-06-17T17:35:59.544Z"
      },
      {
        "duration": 49,
        "start_time": "2024-06-17T17:35:59.551Z"
      },
      {
        "duration": 11,
        "start_time": "2024-06-17T17:35:59.602Z"
      },
      {
        "duration": 18,
        "start_time": "2024-06-17T17:35:59.614Z"
      },
      {
        "duration": 12,
        "start_time": "2024-06-17T17:35:59.633Z"
      },
      {
        "duration": 2,
        "start_time": "2024-06-17T17:35:59.647Z"
      },
      {
        "duration": 13,
        "start_time": "2024-06-17T17:35:59.650Z"
      },
      {
        "duration": 6,
        "start_time": "2024-06-17T17:35:59.664Z"
      },
      {
        "duration": 4,
        "start_time": "2024-06-17T17:35:59.671Z"
      },
      {
        "duration": 15,
        "start_time": "2024-06-17T17:37:45.481Z"
      },
      {
        "duration": 11,
        "start_time": "2024-06-17T17:37:46.276Z"
      },
      {
        "duration": 19,
        "start_time": "2024-06-17T17:37:57.655Z"
      },
      {
        "duration": 16,
        "start_time": "2024-06-17T17:38:00.698Z"
      },
      {
        "duration": 11,
        "start_time": "2024-06-17T17:38:01.514Z"
      },
      {
        "duration": 23,
        "start_time": "2024-06-17T17:38:02.488Z"
      },
      {
        "duration": 13,
        "start_time": "2024-06-17T17:38:03.124Z"
      },
      {
        "duration": 16,
        "start_time": "2024-06-17T17:38:28.049Z"
      },
      {
        "duration": 10,
        "start_time": "2024-06-17T17:38:46.149Z"
      },
      {
        "duration": 19,
        "start_time": "2024-06-17T17:38:51.642Z"
      },
      {
        "duration": 15,
        "start_time": "2024-06-17T17:39:19.655Z"
      },
      {
        "duration": 11,
        "start_time": "2024-06-17T17:39:20.437Z"
      },
      {
        "duration": 2,
        "start_time": "2024-06-17T17:39:44.715Z"
      },
      {
        "duration": 177,
        "start_time": "2024-06-17T17:39:44.718Z"
      },
      {
        "duration": 11,
        "start_time": "2024-06-17T17:39:44.897Z"
      },
      {
        "duration": 44,
        "start_time": "2024-06-17T17:39:44.910Z"
      },
      {
        "duration": 2,
        "start_time": "2024-06-17T17:39:44.957Z"
      },
      {
        "duration": 19,
        "start_time": "2024-06-17T17:39:44.961Z"
      },
      {
        "duration": 10,
        "start_time": "2024-06-17T17:39:44.982Z"
      },
      {
        "duration": 5,
        "start_time": "2024-06-17T17:39:44.994Z"
      },
      {
        "duration": 28,
        "start_time": "2024-06-17T17:39:45.004Z"
      },
      {
        "duration": 34,
        "start_time": "2024-06-17T17:39:45.033Z"
      },
      {
        "duration": 31,
        "start_time": "2024-06-17T17:39:45.069Z"
      },
      {
        "duration": 79,
        "start_time": "2024-06-17T17:39:45.102Z"
      },
      {
        "duration": 72,
        "start_time": "2024-06-17T17:39:45.182Z"
      },
      {
        "duration": 59,
        "start_time": "2024-06-17T17:39:45.256Z"
      },
      {
        "duration": 45,
        "start_time": "2024-06-17T17:39:45.316Z"
      },
      {
        "duration": 11,
        "start_time": "2024-06-17T17:39:45.362Z"
      },
      {
        "duration": 62,
        "start_time": "2024-06-17T17:39:45.374Z"
      },
      {
        "duration": 12,
        "start_time": "2024-06-17T17:39:45.438Z"
      },
      {
        "duration": 12,
        "start_time": "2024-06-17T17:39:45.452Z"
      },
      {
        "duration": 4,
        "start_time": "2024-06-17T17:39:45.465Z"
      },
      {
        "duration": 40,
        "start_time": "2024-06-17T17:39:45.470Z"
      },
      {
        "duration": 16,
        "start_time": "2024-06-17T17:39:45.512Z"
      },
      {
        "duration": 22,
        "start_time": "2024-06-17T17:39:45.530Z"
      },
      {
        "duration": 14,
        "start_time": "2024-06-17T17:39:45.555Z"
      },
      {
        "duration": 35,
        "start_time": "2024-06-17T17:39:45.571Z"
      },
      {
        "duration": 15,
        "start_time": "2024-06-17T17:39:45.607Z"
      },
      {
        "duration": 8,
        "start_time": "2024-06-17T17:39:45.624Z"
      },
      {
        "duration": 28,
        "start_time": "2024-06-17T17:39:45.633Z"
      },
      {
        "duration": 10,
        "start_time": "2024-06-17T17:39:45.663Z"
      },
      {
        "duration": 25,
        "start_time": "2024-06-17T17:39:45.675Z"
      },
      {
        "duration": 15,
        "start_time": "2024-06-17T17:39:45.701Z"
      },
      {
        "duration": 50,
        "start_time": "2024-06-17T17:39:45.718Z"
      },
      {
        "duration": 37,
        "start_time": "2024-06-17T17:39:45.770Z"
      },
      {
        "duration": 12,
        "start_time": "2024-06-17T17:39:45.809Z"
      },
      {
        "duration": 3,
        "start_time": "2024-06-17T17:39:45.822Z"
      },
      {
        "duration": 13,
        "start_time": "2024-06-17T17:39:45.826Z"
      },
      {
        "duration": 20,
        "start_time": "2024-06-17T17:39:45.841Z"
      },
      {
        "duration": 17,
        "start_time": "2024-06-17T17:39:45.863Z"
      },
      {
        "duration": 15,
        "start_time": "2024-06-17T17:40:02.032Z"
      },
      {
        "duration": 17,
        "start_time": "2024-06-17T17:40:53.817Z"
      },
      {
        "duration": 11,
        "start_time": "2024-06-17T17:40:55.338Z"
      },
      {
        "duration": 18,
        "start_time": "2024-06-17T17:40:58.124Z"
      },
      {
        "duration": 12,
        "start_time": "2024-06-17T17:40:58.480Z"
      },
      {
        "duration": 10,
        "start_time": "2024-06-17T17:46:12.652Z"
      },
      {
        "duration": 3,
        "start_time": "2024-06-17T17:46:19.945Z"
      },
      {
        "duration": 182,
        "start_time": "2024-06-17T17:46:19.949Z"
      },
      {
        "duration": 10,
        "start_time": "2024-06-17T17:46:20.133Z"
      },
      {
        "duration": 30,
        "start_time": "2024-06-17T17:46:20.146Z"
      },
      {
        "duration": 22,
        "start_time": "2024-06-17T17:46:20.178Z"
      },
      {
        "duration": 5,
        "start_time": "2024-06-17T17:46:20.202Z"
      },
      {
        "duration": 12,
        "start_time": "2024-06-17T17:46:20.209Z"
      },
      {
        "duration": 6,
        "start_time": "2024-06-17T17:46:20.222Z"
      },
      {
        "duration": 29,
        "start_time": "2024-06-17T17:46:20.229Z"
      },
      {
        "duration": 48,
        "start_time": "2024-06-17T17:46:20.261Z"
      },
      {
        "duration": 29,
        "start_time": "2024-06-17T17:46:20.311Z"
      },
      {
        "duration": 74,
        "start_time": "2024-06-17T17:46:20.341Z"
      },
      {
        "duration": 86,
        "start_time": "2024-06-17T17:46:20.417Z"
      },
      {
        "duration": 63,
        "start_time": "2024-06-17T17:46:20.505Z"
      },
      {
        "duration": 67,
        "start_time": "2024-06-17T17:46:20.569Z"
      },
      {
        "duration": 10,
        "start_time": "2024-06-17T17:46:20.637Z"
      },
      {
        "duration": 43,
        "start_time": "2024-06-17T17:46:20.649Z"
      },
      {
        "duration": 13,
        "start_time": "2024-06-17T17:46:20.700Z"
      },
      {
        "duration": 14,
        "start_time": "2024-06-17T17:46:20.714Z"
      },
      {
        "duration": 4,
        "start_time": "2024-06-17T17:46:20.729Z"
      },
      {
        "duration": 16,
        "start_time": "2024-06-17T17:46:20.735Z"
      },
      {
        "duration": 48,
        "start_time": "2024-06-17T17:46:20.753Z"
      },
      {
        "duration": 17,
        "start_time": "2024-06-17T17:46:20.803Z"
      },
      {
        "duration": 16,
        "start_time": "2024-06-17T17:46:20.821Z"
      },
      {
        "duration": 18,
        "start_time": "2024-06-17T17:46:20.838Z"
      },
      {
        "duration": 49,
        "start_time": "2024-06-17T17:46:20.858Z"
      },
      {
        "duration": 9,
        "start_time": "2024-06-17T17:46:20.908Z"
      },
      {
        "duration": 24,
        "start_time": "2024-06-17T17:46:20.921Z"
      },
      {
        "duration": 12,
        "start_time": "2024-06-17T17:46:20.946Z"
      },
      {
        "duration": 5,
        "start_time": "2024-06-17T17:46:20.959Z"
      },
      {
        "duration": 35,
        "start_time": "2024-06-17T17:46:20.965Z"
      },
      {
        "duration": 13,
        "start_time": "2024-06-17T17:46:21.002Z"
      },
      {
        "duration": 18,
        "start_time": "2024-06-17T17:46:21.016Z"
      },
      {
        "duration": 11,
        "start_time": "2024-06-17T17:46:21.036Z"
      },
      {
        "duration": 8,
        "start_time": "2024-06-17T17:46:21.049Z"
      },
      {
        "duration": 0,
        "start_time": "2024-06-17T17:46:21.058Z"
      },
      {
        "duration": 0,
        "start_time": "2024-06-17T17:46:21.059Z"
      },
      {
        "duration": 0,
        "start_time": "2024-06-17T17:46:21.061Z"
      },
      {
        "duration": 7,
        "start_time": "2024-06-17T17:47:42.063Z"
      },
      {
        "duration": 8,
        "start_time": "2024-06-17T17:50:21.256Z"
      },
      {
        "duration": 3,
        "start_time": "2024-06-17T17:50:34.408Z"
      },
      {
        "duration": 198,
        "start_time": "2024-06-17T17:50:34.412Z"
      },
      {
        "duration": 10,
        "start_time": "2024-06-17T17:50:34.611Z"
      },
      {
        "duration": 31,
        "start_time": "2024-06-17T17:50:34.623Z"
      },
      {
        "duration": 2,
        "start_time": "2024-06-17T17:50:34.656Z"
      },
      {
        "duration": 4,
        "start_time": "2024-06-17T17:50:34.659Z"
      },
      {
        "duration": 35,
        "start_time": "2024-06-17T17:50:34.665Z"
      },
      {
        "duration": 8,
        "start_time": "2024-06-17T17:50:34.702Z"
      },
      {
        "duration": 32,
        "start_time": "2024-06-17T17:50:34.712Z"
      },
      {
        "duration": 19,
        "start_time": "2024-06-17T17:50:34.746Z"
      },
      {
        "duration": 45,
        "start_time": "2024-06-17T17:50:34.767Z"
      },
      {
        "duration": 64,
        "start_time": "2024-06-17T17:50:34.814Z"
      },
      {
        "duration": 86,
        "start_time": "2024-06-17T17:50:34.880Z"
      },
      {
        "duration": 63,
        "start_time": "2024-06-17T17:50:34.967Z"
      },
      {
        "duration": 42,
        "start_time": "2024-06-17T17:50:35.032Z"
      },
      {
        "duration": 27,
        "start_time": "2024-06-17T17:50:35.076Z"
      },
      {
        "duration": 42,
        "start_time": "2024-06-17T17:50:35.104Z"
      },
      {
        "duration": 12,
        "start_time": "2024-06-17T17:50:35.147Z"
      },
      {
        "duration": 15,
        "start_time": "2024-06-17T17:50:35.161Z"
      },
      {
        "duration": 22,
        "start_time": "2024-06-17T17:50:35.178Z"
      },
      {
        "duration": 17,
        "start_time": "2024-06-17T17:50:35.202Z"
      },
      {
        "duration": 15,
        "start_time": "2024-06-17T17:50:35.220Z"
      },
      {
        "duration": 16,
        "start_time": "2024-06-17T17:50:35.236Z"
      },
      {
        "duration": 15,
        "start_time": "2024-06-17T17:50:35.255Z"
      },
      {
        "duration": 43,
        "start_time": "2024-06-17T17:50:35.271Z"
      },
      {
        "duration": 15,
        "start_time": "2024-06-17T17:50:35.315Z"
      },
      {
        "duration": 8,
        "start_time": "2024-06-17T17:50:35.331Z"
      },
      {
        "duration": 11,
        "start_time": "2024-06-17T17:50:35.341Z"
      },
      {
        "duration": 10,
        "start_time": "2024-06-17T17:50:35.353Z"
      },
      {
        "duration": 34,
        "start_time": "2024-06-17T17:50:35.365Z"
      },
      {
        "duration": 21,
        "start_time": "2024-06-17T17:50:35.401Z"
      },
      {
        "duration": 11,
        "start_time": "2024-06-17T17:50:35.423Z"
      },
      {
        "duration": 18,
        "start_time": "2024-06-17T17:50:35.435Z"
      },
      {
        "duration": 12,
        "start_time": "2024-06-17T17:50:35.454Z"
      },
      {
        "duration": 36,
        "start_time": "2024-06-17T17:50:35.468Z"
      },
      {
        "duration": 0,
        "start_time": "2024-06-17T17:50:35.506Z"
      },
      {
        "duration": 0,
        "start_time": "2024-06-17T17:50:35.507Z"
      },
      {
        "duration": 0,
        "start_time": "2024-06-17T17:50:35.508Z"
      },
      {
        "duration": 2,
        "start_time": "2024-06-17T17:52:00.593Z"
      },
      {
        "duration": 199,
        "start_time": "2024-06-17T17:52:00.597Z"
      },
      {
        "duration": 10,
        "start_time": "2024-06-17T17:52:00.797Z"
      },
      {
        "duration": 64,
        "start_time": "2024-06-17T17:52:00.809Z"
      },
      {
        "duration": 29,
        "start_time": "2024-06-17T17:52:00.875Z"
      },
      {
        "duration": 29,
        "start_time": "2024-06-17T17:52:00.906Z"
      },
      {
        "duration": 40,
        "start_time": "2024-06-17T17:52:00.937Z"
      },
      {
        "duration": 31,
        "start_time": "2024-06-17T17:52:00.979Z"
      },
      {
        "duration": 60,
        "start_time": "2024-06-17T17:52:01.013Z"
      },
      {
        "duration": 52,
        "start_time": "2024-06-17T17:52:01.075Z"
      },
      {
        "duration": 84,
        "start_time": "2024-06-17T17:52:01.128Z"
      },
      {
        "duration": 79,
        "start_time": "2024-06-17T17:52:01.214Z"
      },
      {
        "duration": 79,
        "start_time": "2024-06-17T17:52:01.295Z"
      },
      {
        "duration": 67,
        "start_time": "2024-06-17T17:52:01.376Z"
      },
      {
        "duration": 56,
        "start_time": "2024-06-17T17:52:01.445Z"
      },
      {
        "duration": 35,
        "start_time": "2024-06-17T17:52:01.502Z"
      },
      {
        "duration": 89,
        "start_time": "2024-06-17T17:52:01.538Z"
      },
      {
        "duration": 23,
        "start_time": "2024-06-17T17:52:01.628Z"
      },
      {
        "duration": 43,
        "start_time": "2024-06-17T17:52:01.652Z"
      },
      {
        "duration": 28,
        "start_time": "2024-06-17T17:52:01.696Z"
      },
      {
        "duration": 61,
        "start_time": "2024-06-17T17:52:01.726Z"
      },
      {
        "duration": 29,
        "start_time": "2024-06-17T17:52:01.789Z"
      },
      {
        "duration": 51,
        "start_time": "2024-06-17T17:52:01.820Z"
      },
      {
        "duration": 19,
        "start_time": "2024-06-17T17:52:01.874Z"
      },
      {
        "duration": 38,
        "start_time": "2024-06-17T17:52:01.895Z"
      },
      {
        "duration": 24,
        "start_time": "2024-06-17T17:52:01.934Z"
      },
      {
        "duration": 18,
        "start_time": "2024-06-17T17:52:01.960Z"
      },
      {
        "duration": 26,
        "start_time": "2024-06-17T17:52:01.979Z"
      },
      {
        "duration": 16,
        "start_time": "2024-06-17T17:52:02.006Z"
      },
      {
        "duration": 6,
        "start_time": "2024-06-17T17:52:02.024Z"
      },
      {
        "duration": 24,
        "start_time": "2024-06-17T17:52:02.031Z"
      },
      {
        "duration": 12,
        "start_time": "2024-06-17T17:52:02.056Z"
      },
      {
        "duration": 31,
        "start_time": "2024-06-17T17:52:02.069Z"
      },
      {
        "duration": 13,
        "start_time": "2024-06-17T17:52:02.101Z"
      },
      {
        "duration": 9,
        "start_time": "2024-06-17T17:52:02.115Z"
      },
      {
        "duration": 0,
        "start_time": "2024-06-17T17:52:02.125Z"
      },
      {
        "duration": 0,
        "start_time": "2024-06-17T17:52:02.126Z"
      },
      {
        "duration": 0,
        "start_time": "2024-06-17T17:52:02.127Z"
      },
      {
        "duration": 7,
        "start_time": "2024-06-17T17:52:08.453Z"
      },
      {
        "duration": 7,
        "start_time": "2024-06-17T17:53:06.655Z"
      },
      {
        "duration": 8,
        "start_time": "2024-06-17T17:53:13.590Z"
      },
      {
        "duration": 7,
        "start_time": "2024-06-17T17:53:22.041Z"
      },
      {
        "duration": 8,
        "start_time": "2024-06-17T17:53:26.892Z"
      },
      {
        "duration": 3,
        "start_time": "2024-06-17T17:56:17.607Z"
      },
      {
        "duration": 7,
        "start_time": "2024-06-17T17:56:22.852Z"
      },
      {
        "duration": 8,
        "start_time": "2024-06-17T17:56:34.209Z"
      },
      {
        "duration": 4,
        "start_time": "2024-06-17T17:56:39.950Z"
      },
      {
        "duration": 7,
        "start_time": "2024-06-17T17:57:07.330Z"
      },
      {
        "duration": 7,
        "start_time": "2024-06-17T17:57:22.066Z"
      },
      {
        "duration": 9,
        "start_time": "2024-06-17T17:58:47.879Z"
      },
      {
        "duration": 30,
        "start_time": "2024-06-17T17:59:02.742Z"
      },
      {
        "duration": 7,
        "start_time": "2024-06-17T18:02:27.107Z"
      },
      {
        "duration": 9,
        "start_time": "2024-06-17T18:04:01.859Z"
      },
      {
        "duration": 4,
        "start_time": "2024-06-17T18:04:39.299Z"
      },
      {
        "duration": 858,
        "start_time": "2024-06-17T18:04:52.893Z"
      },
      {
        "duration": 11,
        "start_time": "2024-06-17T18:05:48.909Z"
      },
      {
        "duration": 33,
        "start_time": "2024-06-17T18:06:14.619Z"
      },
      {
        "duration": 42,
        "start_time": "2024-06-17T18:06:24.360Z"
      },
      {
        "duration": 37,
        "start_time": "2024-06-17T18:06:37.703Z"
      },
      {
        "duration": 846,
        "start_time": "2024-06-17T18:06:51.415Z"
      },
      {
        "duration": 11,
        "start_time": "2024-06-17T18:07:31.890Z"
      },
      {
        "duration": 5,
        "start_time": "2024-06-17T18:10:36.191Z"
      },
      {
        "duration": 4,
        "start_time": "2024-06-17T18:10:40.500Z"
      },
      {
        "duration": 7,
        "start_time": "2024-06-17T18:12:42.118Z"
      },
      {
        "duration": 5,
        "start_time": "2024-06-17T18:13:15.052Z"
      },
      {
        "duration": 834,
        "start_time": "2024-06-17T18:24:18.515Z"
      },
      {
        "duration": 8,
        "start_time": "2024-06-17T18:24:51.310Z"
      },
      {
        "duration": 6,
        "start_time": "2024-06-17T18:24:58.774Z"
      },
      {
        "duration": 10,
        "start_time": "2024-06-17T18:25:13.379Z"
      },
      {
        "duration": 8,
        "start_time": "2024-06-17T18:25:27.183Z"
      },
      {
        "duration": 4,
        "start_time": "2024-06-17T18:25:48.627Z"
      },
      {
        "duration": 4,
        "start_time": "2024-06-17T18:25:54.943Z"
      },
      {
        "duration": 6,
        "start_time": "2024-06-17T18:25:58.659Z"
      },
      {
        "duration": 5,
        "start_time": "2024-06-17T18:26:01.468Z"
      },
      {
        "duration": 6,
        "start_time": "2024-06-17T18:26:05.271Z"
      },
      {
        "duration": 6,
        "start_time": "2024-06-17T18:26:14.536Z"
      },
      {
        "duration": 5,
        "start_time": "2024-06-17T18:26:18.066Z"
      },
      {
        "duration": 5,
        "start_time": "2024-06-17T18:26:33.792Z"
      },
      {
        "duration": 8,
        "start_time": "2024-06-17T18:26:38.789Z"
      },
      {
        "duration": 5,
        "start_time": "2024-06-17T18:27:32.005Z"
      },
      {
        "duration": 4,
        "start_time": "2024-06-17T18:27:35.426Z"
      },
      {
        "duration": 6,
        "start_time": "2024-06-17T18:27:42.166Z"
      },
      {
        "duration": 5,
        "start_time": "2024-06-17T18:28:00.464Z"
      },
      {
        "duration": 384,
        "start_time": "2024-07-01T18:51:53.883Z"
      },
      {
        "duration": 472,
        "start_time": "2024-07-01T18:51:54.269Z"
      },
      {
        "duration": 18,
        "start_time": "2024-07-01T18:51:54.743Z"
      },
      {
        "duration": 103,
        "start_time": "2024-07-01T18:51:54.763Z"
      },
      {
        "duration": 122,
        "start_time": "2024-07-01T18:51:54.868Z"
      },
      {
        "duration": 72,
        "start_time": "2024-07-01T18:51:54.991Z"
      },
      {
        "duration": 115,
        "start_time": "2024-07-01T18:51:55.064Z"
      },
      {
        "duration": 90,
        "start_time": "2024-07-01T18:51:55.180Z"
      },
      {
        "duration": 175,
        "start_time": "2024-07-01T18:51:55.272Z"
      },
      {
        "duration": 152,
        "start_time": "2024-07-01T18:51:55.449Z"
      },
      {
        "duration": 251,
        "start_time": "2024-07-01T18:51:55.603Z"
      },
      {
        "duration": 72,
        "start_time": "2024-07-01T18:51:55.856Z"
      },
      {
        "duration": 96,
        "start_time": "2024-07-01T18:51:55.929Z"
      },
      {
        "duration": 70,
        "start_time": "2024-07-01T18:51:56.028Z"
      },
      {
        "duration": 56,
        "start_time": "2024-07-01T18:51:56.099Z"
      },
      {
        "duration": 10,
        "start_time": "2024-07-01T18:51:56.156Z"
      },
      {
        "duration": 266,
        "start_time": "2024-07-01T18:51:56.167Z"
      },
      {
        "duration": 34,
        "start_time": "2024-07-01T18:51:56.435Z"
      },
      {
        "duration": 121,
        "start_time": "2024-07-01T18:51:56.471Z"
      },
      {
        "duration": 119,
        "start_time": "2024-07-01T18:51:56.593Z"
      },
      {
        "duration": 203,
        "start_time": "2024-07-01T18:51:56.714Z"
      },
      {
        "duration": 75,
        "start_time": "2024-07-01T18:51:56.919Z"
      },
      {
        "duration": 97,
        "start_time": "2024-07-01T18:51:56.996Z"
      },
      {
        "duration": 113,
        "start_time": "2024-07-01T18:51:57.095Z"
      },
      {
        "duration": 71,
        "start_time": "2024-07-01T18:51:57.209Z"
      },
      {
        "duration": 108,
        "start_time": "2024-07-01T18:51:57.282Z"
      },
      {
        "duration": 35,
        "start_time": "2024-07-01T18:51:57.392Z"
      },
      {
        "duration": 73,
        "start_time": "2024-07-01T18:51:57.429Z"
      },
      {
        "duration": 102,
        "start_time": "2024-07-01T18:51:57.504Z"
      },
      {
        "duration": 120,
        "start_time": "2024-07-01T18:51:57.608Z"
      },
      {
        "duration": 75,
        "start_time": "2024-07-01T18:51:57.730Z"
      },
      {
        "duration": 27,
        "start_time": "2024-07-01T18:51:57.806Z"
      },
      {
        "duration": 73,
        "start_time": "2024-07-01T18:51:57.835Z"
      },
      {
        "duration": 63,
        "start_time": "2024-07-01T18:51:57.910Z"
      },
      {
        "duration": 38,
        "start_time": "2024-07-01T18:51:57.975Z"
      },
      {
        "duration": 43,
        "start_time": "2024-07-01T18:51:58.015Z"
      },
      {
        "duration": 21,
        "start_time": "2024-07-01T18:51:58.060Z"
      },
      {
        "duration": 152,
        "start_time": "2024-07-01T18:51:58.083Z"
      }
    ],
    "celltoolbar": "Отсутствует",
    "colab": {
      "provenance": [],
      "include_colab_link": true
    },
    "kernelspec": {
      "display_name": "Python 3 (ipykernel)",
      "language": "python",
      "name": "python3"
    },
    "language_info": {
      "codemirror_mode": {
        "name": "ipython",
        "version": 3
      },
      "file_extension": ".py",
      "mimetype": "text/x-python",
      "name": "python",
      "nbconvert_exporter": "python",
      "pygments_lexer": "ipython3",
      "version": "3.9.5"
    },
    "toc": {
      "base_numbering": 1,
      "nav_menu": {
        "height": "215px",
        "width": "403px"
      },
      "number_sections": true,
      "sideBar": true,
      "skip_h1_title": true,
      "title_cell": "Table of Contents",
      "title_sidebar": "Contents",
      "toc_cell": false,
      "toc_position": {
        "height": "calc(100% - 180px)",
        "left": "10px",
        "top": "150px",
        "width": "285.825px"
      },
      "toc_section_display": true,
      "toc_window_display": false
    }
  },
  "nbformat": 4,
  "nbformat_minor": 0
}